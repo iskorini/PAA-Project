{
 "cells": [
  {
   "cell_type": "markdown",
   "metadata": {
    "deletable": true,
    "editable": true
   },
   "source": [
    "# Progetto PAA\n",
    "#### Autore:  Federico Schipani - 6185896 - <a href=\"mailto:federico.schipani@stud.unifi.it\">federico.schipani@stud.unifi.it</a>"
   ]
  },
  {
   "cell_type": "markdown",
   "metadata": {
    "deletable": true,
    "editable": true
   },
   "source": [
    "##### Descrizione del progetto:\n",
    "In questo notebook verranno effettuate verifiche numeriche su somme infinite dei reciproci dei numeri di Tribonacci. L'articolo da cui è stato preso spunto per questo progetto è <a href = \"https://cs.uwaterloo.ca/journals/JIS/VOL19/Kuhapatanakul/kuha7.pdf\">Reciprocal Sums of the Tribonacci Numbers</a>."
   ]
  },
  {
   "cell_type": "markdown",
   "metadata": {
    "deletable": true,
    "editable": true
   },
   "source": [
    "### Preparazione:\n",
    "Per prima cosa è necessario importare tutti i pacchetti necessari allo svolgimento di questo progetto:"
   ]
  },
  {
   "cell_type": "code",
   "execution_count": 1,
   "metadata": {
    "collapsed": false,
    "deletable": true,
    "editable": true
   },
   "outputs": [],
   "source": [
    "from sympy import *\n",
    "from sympy.utilities.lambdify import lambdify, implemented_function\n",
    "from functools import lru_cache\n",
    "import sys\n",
    "import math\n",
    "sys.setrecursionlimit(10000000)"
   ]
  },
  {
   "cell_type": "markdown",
   "metadata": {
    "deletable": true,
    "editable": true
   },
   "source": [
    "Per poter stampare i risultati in stile LaTeX è necessario eseguire questa istruzione:"
   ]
  },
  {
   "cell_type": "code",
   "execution_count": 2,
   "metadata": {
    "collapsed": true,
    "deletable": true,
    "editable": true
   },
   "outputs": [],
   "source": [
    "init_printing()"
   ]
  },
  {
   "cell_type": "markdown",
   "metadata": {
    "deletable": true,
    "editable": true
   },
   "source": [
    "### Introduzione:"
   ]
  },
  {
   "cell_type": "markdown",
   "metadata": {
    "deletable": true,
    "editable": true
   },
   "source": [
    "I numeri di Fibonacci sono definiti dalla seguente relazione di ricorrenza:"
   ]
  },
  {
   "cell_type": "code",
   "execution_count": 3,
   "metadata": {
    "collapsed": false,
    "deletable": true,
    "editable": true
   },
   "outputs": [
    {
     "data": {
      "image/png": "[encoded data removed]",
      "text/latex": [
       "$$F{\\left (n \\right )} = \\frac{2^{- n}}{5} \\sqrt{5} \\left(\\left(1 + \\sqrt{5}\\right)^{n} - \\left(- \\sqrt{5} + 1\\right)^{n}\\right)$$"
      ],
      "text/plain": [
       "        -n    ⎛        n            n⎞\n",
       "       2  ⋅√5⋅⎝(1 + √5)  - (-√5 + 1) ⎠\n",
       "F(n) = ───────────────────────────────\n",
       "                      5               "
      ]
     },
     "execution_count": 3,
     "metadata": {},
     "output_type": "execute_result"
    }
   ],
   "source": [
    "F = Function('F')\n",
    "n = symbols('n',integer=True)\n",
    "f = F(n+1)-F(n)-F(n-1)\n",
    "closedFib = simplify(rsolve(f, F(n), {F(0):0, F(1):1}))\n",
    "closedFibEq = Eq(F(n), closedFib)\n",
    "closedFibEq"
   ]
  },
  {
   "cell_type": "code",
   "execution_count": 4,
   "metadata": {
    "collapsed": false,
    "deletable": true,
    "editable": true
   },
   "outputs": [
    {
     "data": {
      "image/png": "[encoded data removed]",
      "text/latex": [
       "$$\\left [ \\left ( 0, \\quad 0\\right ), \\quad \\left ( 1, \\quad 0\\right ), \\quad \\left ( 2, \\quad 0\\right ), \\quad \\left ( 3, \\quad 0\\right ), \\quad \\left ( 4, \\quad 0\\right ), \\quad \\left ( 5, \\quad 0\\right ), \\quad \\left ( 6, \\quad 0\\right ), \\quad \\left ( 7, \\quad 0\\right ), \\quad \\left ( 8, \\quad 0\\right ), \\quad \\left ( 9, \\quad 0\\right ), \\quad \\left ( 10, \\quad 0\\right )\\right ]$$"
      ],
      "text/plain": [
       "[(0, 0), (1, 0), (2, 0), (3, 0), (4, 0), (5, 0), (6, 0), (7, 0), (8, 0), (9, 0\n",
       "), (10, 0)]"
      ]
     },
     "execution_count": 4,
     "metadata": {},
     "output_type": "execute_result"
    }
   ],
   "source": [
    "closedFib1 = Lambda([n], closedFib)\n",
    "[(n, simplify(fibonacci(n)-closedFib1(n).doit())) for n in range(0,11)]"
   ]
  },
  {
   "cell_type": "markdown",
   "metadata": {
    "deletable": true,
    "editable": true
   },
   "source": [
    "Definiamo una funzione per il calcolo dei numeri di Tribonacci nel seguente modo:"
   ]
  },
  {
   "cell_type": "code",
   "execution_count": 5,
   "metadata": {
    "collapsed": false,
    "deletable": true,
    "editable": true
   },
   "outputs": [],
   "source": [
    "initial_positive_conditions = {0:0, 1:1, 2:1}\n",
    "\n",
    "\n",
    "def makePositiveTribonacci(maxsize = None):\n",
    "    @lru_cache(maxsize)\n",
    "    def calcPositiveTribonacci(n):\n",
    "        return calcPositiveTribonacci(n-1)  + calcPositiveTribonacci(n-2) + calcPositiveTribonacci(n-3) if n not in initial_positive_conditions else initial_positive_conditions[n]\n",
    "    return calcPositiveTribonacci\n",
    "\n",
    "positiveTribonacci = makePositiveTribonacci(None)\n",
    "PT = implemented_function(Function('T'), positiveTribonacci)\n"
   ]
  },
  {
   "cell_type": "markdown",
   "metadata": {
    "deletable": true,
    "editable": true
   },
   "source": [
    "Per verificare che la funzione calcola effettivamente i numeri di Tribonacci si esegue una verifica numerica:"
   ]
  },
  {
   "cell_type": "code",
   "execution_count": 6,
   "metadata": {
    "collapsed": false,
    "deletable": true,
    "editable": true
   },
   "outputs": [
    {
     "data": {
      "image/png": "[encoded data removed]",
      "text/latex": [
       "$$\\left [ \\left ( 0, \\quad 0\\right ), \\quad \\left ( 1, \\quad 1\\right ), \\quad \\left ( 2, \\quad 1\\right ), \\quad \\left ( 3, \\quad 2\\right ), \\quad \\left ( 4, \\quad 4\\right ), \\quad \\left ( 5, \\quad 7\\right ), \\quad \\left ( 6, \\quad 13\\right ), \\quad \\left ( 7, \\quad 24\\right ), \\quad \\left ( 8, \\quad 44\\right ), \\quad \\left ( 9, \\quad 81\\right ), \\quad \\left ( 10, \\quad 149\\right )\\right ]$$"
      ],
      "text/plain": [
       "[(0, 0), (1, 1), (2, 1), (3, 2), (4, 4), (5, 7), (6, 13), (7, 24), (8, 44), (9\n",
       ", 81), (10, 149)]"
      ]
     },
     "execution_count": 6,
     "metadata": {},
     "output_type": "execute_result"
    }
   ],
   "source": [
    "lambda_tribonacci = lambdify(n, PT(n))\n",
    "[(n, lambda_tribonacci(n)) for n in range (0,11)]"
   ]
  },
  {
   "cell_type": "markdown",
   "metadata": {
    "deletable": true,
    "editable": true
   },
   "source": [
    "Ohtsuka e Nakamura hanno derivato alcune formule per somme infinite dei reciproci dei numeri di Fibonacci:\n",
    "$$\\left\\lfloor \\left( \\sum_{k=n}^{\\infty}  \\frac{1}{F_k } \\right)^{-1}\\right\\rfloor = F_{n-2}\\ se\\ n\\ è\\ pari\\ e\\ n \\geq 2,\\ F_{n-2}-1\\ se\\ n\\ è\\ dispari\\ e\\ n \\geq 1 $$\n",
    "$$\\left\\lfloor\\left(\\sum_{k=n}^{\\infty}  \\frac{(-1)^k}{F_k}\\right)^{-1}\\right\\rfloor = (-1)^n F_{n+1}-1\\ con\\ (n>1) $$\n",
    "$$\\left\\lfloor\\left(\\sum_{k=n}^{\\infty}  \\frac{1}{\\sum_{i = 1}^{k} F_i}\\right)^{-1}\\right\\rfloor = F_n -1\\ con \\ (n \\geq 3) $$\n",
    "In questo notebook verranno verificate formule simili, ma con i numeri di Tribonacci."
   ]
  },
  {
   "cell_type": "markdown",
   "metadata": {
    "collapsed": true,
    "deletable": true,
    "editable": true
   },
   "source": [
    "### Svolgimento:"
   ]
  },
  {
   "cell_type": "markdown",
   "metadata": {
    "collapsed": true,
    "deletable": true,
    "editable": true
   },
   "source": [
    "La sequenza di numeri di Tribonacci può essere estesa per valori negativi di n, usando la definizione e le condizioni iniziali.\n",
    "$$F_n = F_{n-1}+F_{n-2}+F_{n-3}$$\n",
    "Effettuando uno shift di tre posizioni, e cambiando il segno si ottiene:\n",
    "$$F_{n} = F_{n-3}-F_{n+2}-F_{n+1}$$\n"
   ]
  },
  {
   "cell_type": "code",
   "execution_count": 7,
   "metadata": {
    "collapsed": false,
    "deletable": true,
    "editable": true
   },
   "outputs": [
    {
     "data": {
      "image/png": "[encoded data removed]",
      "text/latex": [
       "$$\\left [ \\left ( 0, \\quad 0\\right ), \\quad \\left ( -1, \\quad 0\\right ), \\quad \\left ( -2, \\quad 1\\right ), \\quad \\left ( -3, \\quad -1\\right ), \\quad \\left ( -4, \\quad 0\\right ), \\quad \\left ( -5, \\quad 2\\right ), \\quad \\left ( -6, \\quad -3\\right ), \\quad \\left ( -7, \\quad 1\\right ), \\quad \\left ( -8, \\quad 4\\right ), \\quad \\left ( -9, \\quad -8\\right ), \\quad \\left ( -10, \\quad 5\\right )\\right ]$$"
      ],
      "text/plain": [
       "[(0, 0), (-1, 0), (-2, 1), (-3, -1), (-4, 0), (-5, 2), (-6, -3), (-7, 1), (-8,\n",
       " 4), (-9, -8), (-10, 5)]"
      ]
     },
     "execution_count": 7,
     "metadata": {},
     "output_type": "execute_result"
    }
   ],
   "source": [
    "initial_negative_conditions = {0:0, -1:0, -2:1}\n",
    "def makeNegativeTribonacci(maxsize=None):\n",
    "    @lru_cache(maxsize=maxsize)\n",
    "    def calcNegativeTribonacci(n):\n",
    "        return calcNegativeTribonacci(n+3)  - calcNegativeTribonacci(n+2) - calcNegativeTribonacci(n+1) if n not in initial_negative_conditions else initial_negative_conditions[n]\n",
    "    return calcNegativeTribonacci\n",
    "negativeTribonacci = makeNegativeTribonacci(maxsize = None)\n",
    "NT = implemented_function(Function('NT'), negativeTribonacci)\n",
    "lambda_negative_tribonacci = lambdify(n, NT(n))\n",
    "[(n*-1, lambda_negative_tribonacci(n*-1)) for n in range (0,11)]"
   ]
  },
  {
   "cell_type": "markdown",
   "metadata": {
    "deletable": true,
    "editable": true
   },
   "source": [
    "Per comodità definiamo una funzione di Tribonacci unica, sia per i numeri negativi che positivi:"
   ]
  },
  {
   "cell_type": "code",
   "execution_count": 8,
   "metadata": {
    "collapsed": false,
    "deletable": true,
    "editable": true
   },
   "outputs": [
    {
     "data": {
      "image/png": "[encoded data removed]",
      "text/latex": [
       "$$\\left [ \\left ( -40, \\quad 21492\\right ), \\quad \\left ( -39, \\quad 51489\\right ), \\quad \\left ( -38, \\quad -54899\\right ), \\quad \\left ( -37, \\quad 18082\\right ), \\quad \\left ( -36, \\quad 14672\\right ), \\quad \\left ( -35, \\quad -22145\\right ), \\quad \\left ( -34, \\quad 10609\\right ), \\quad \\left ( -33, \\quad 3136\\right ), \\quad \\left ( -32, \\quad -8400\\right ), \\quad \\left ( -31, \\quad 5345\\right ), \\quad \\left ( -30, \\quad 81\\right ), \\quad \\left ( -29, \\quad -2974\\right ), \\quad \\left ( -28, \\quad 2452\\right ), \\quad \\left ( -27, \\quad -441\\right ), \\quad \\left ( -26, \\quad -963\\right ), \\quad \\left ( -25, \\quad 1048\\right ), \\quad \\left ( -24, \\quad -356\\right ), \\quad \\left ( -23, \\quad -271\\right ), \\quad \\left ( -22, \\quad 421\\right ), \\quad \\left ( -21, \\quad -206\\right ), \\quad \\left ( -20, \\quad -56\\right ), \\quad \\left ( -19, \\quad 159\\right ), \\quad \\left ( -18, \\quad -103\\right ), \\quad \\left ( -17, \\quad 0\\right ), \\quad \\left ( -16, \\quad 56\\right ), \\quad \\left ( -15, \\quad -47\\right ), \\quad \\left ( -14, \\quad 9\\right ), \\quad \\left ( -13, \\quad 18\\right ), \\quad \\left ( -12, \\quad -20\\right ), \\quad \\left ( -11, \\quad 7\\right ), \\quad \\left ( -10, \\quad 5\\right ), \\quad \\left ( -9, \\quad -8\\right ), \\quad \\left ( -8, \\quad 4\\right ), \\quad \\left ( -7, \\quad 1\\right ), \\quad \\left ( -6, \\quad -3\\right ), \\quad \\left ( -5, \\quad 2\\right ), \\quad \\left ( -4, \\quad 0\\right ), \\quad \\left ( -3, \\quad -1\\right ), \\quad \\left ( -2, \\quad 1\\right ), \\quad \\left ( -1, \\quad 0\\right ), \\quad \\left ( 0, \\quad 0\\right ), \\quad \\left ( 1, \\quad 1\\right ), \\quad \\left ( 2, \\quad 1\\right ), \\quad \\left ( 3, \\quad 2\\right ), \\quad \\left ( 4, \\quad 4\\right ), \\quad \\left ( 5, \\quad 7\\right ), \\quad \\left ( 6, \\quad 13\\right ), \\quad \\left ( 7, \\quad 24\\right ), \\quad \\left ( 8, \\quad 44\\right ), \\quad \\left ( 9, \\quad 81\\right ), \\quad \\left ( 10, \\quad 149\\right ), \\quad \\left ( 11, \\quad 274\\right ), \\quad \\left ( 12, \\quad 504\\right ), \\quad \\left ( 13, \\quad 927\\right ), \\quad \\left ( 14, \\quad 1705\\right ), \\quad \\left ( 15, \\quad 3136\\right ), \\quad \\left ( 16, \\quad 5768\\right ), \\quad \\left ( 17, \\quad 10609\\right ), \\quad \\left ( 18, \\quad 19513\\right ), \\quad \\left ( 19, \\quad 35890\\right ), \\quad \\left ( 20, \\quad 66012\\right ), \\quad \\left ( 21, \\quad 121415\\right ), \\quad \\left ( 22, \\quad 223317\\right ), \\quad \\left ( 23, \\quad 410744\\right ), \\quad \\left ( 24, \\quad 755476\\right ), \\quad \\left ( 25, \\quad 1389537\\right ), \\quad \\left ( 26, \\quad 2555757\\right ), \\quad \\left ( 27, \\quad 4700770\\right ), \\quad \\left ( 28, \\quad 8646064\\right ), \\quad \\left ( 29, \\quad 15902591\\right ), \\quad \\left ( 30, \\quad 29249425\\right ), \\quad \\left ( 31, \\quad 53798080\\right ), \\quad \\left ( 32, \\quad 98950096\\right ), \\quad \\left ( 33, \\quad 181997601\\right ), \\quad \\left ( 34, \\quad 334745777\\right ), \\quad \\left ( 35, \\quad 615693474\\right ), \\quad \\left ( 36, \\quad 1132436852\\right ), \\quad \\left ( 37, \\quad 2082876103\\right ), \\quad \\left ( 38, \\quad 3831006429\\right ), \\quad \\left ( 39, \\quad 7046319384\\right )\\right ]$$"
      ],
      "text/plain": [
       "[(-40, 21492), (-39, 51489), (-38, -54899), (-37, 18082), (-36, 14672), (-35, \n",
       "-22145), (-34, 10609), (-33, 3136), (-32, -8400), (-31, 5345), (-30, 81), (-29\n",
       ", -2974), (-28, 2452), (-27, -441), (-26, -963), (-25, 1048), (-24, -356), (-2\n",
       "3, -271), (-22, 421), (-21, -206), (-20, -56), (-19, 159), (-18, -103), (-17, \n",
       "0), (-16, 56), (-15, -47), (-14, 9), (-13, 18), (-12, -20), (-11, 7), (-10, 5)\n",
       ", (-9, -8), (-8, 4), (-7, 1), (-6, -3), (-5, 2), (-4, 0), (-3, -1), (-2, 1), (\n",
       "-1, 0), (0, 0), (1, 1), (2, 1), (3, 2), (4, 4), (5, 7), (6, 13), (7, 24), (8, \n",
       "44), (9, 81), (10, 149), (11, 274), (12, 504), (13, 927), (14, 1705), (15, 313\n",
       "6), (16, 5768), (17, 10609), (18, 19513), (19, 35890), (20, 66012), (21, 12141\n",
       "5), (22, 223317), (23, 410744), (24, 755476), (25, 1389537), (26, 2555757), (2\n",
       "7, 4700770), (28, 8646064), (29, 15902591), (30, 29249425), (31, 53798080), (3\n",
       "2, 98950096), (33, 181997601), (34, 334745777), (35, 615693474), (36, 11324368\n",
       "52), (37, 2082876103), (38, 3831006429), (39, 7046319384)]"
      ]
     },
     "execution_count": 8,
     "metadata": {},
     "output_type": "execute_result"
    }
   ],
   "source": [
    "def tribonacci(n):\n",
    "    if n>=0:\n",
    "        return positiveTribonacci(n)\n",
    "    elif n<0:\n",
    "        return negativeTribonacci(n)\n",
    "T = implemented_function(Function('T'), tribonacci)\n",
    "lambda_tribonacci = lambdify(n, T(n))\n",
    "[(n, lambda_tribonacci(n)) for n in range(-40, 40)]\n",
    "#SWAG EFFICIENZA"
   ]
  },
  {
   "cell_type": "markdown",
   "metadata": {
    "deletable": true,
    "editable": true
   },
   "source": [
    "Prima di dimostrare la veridicità delle tre uguaglianze descritte nell'introduzione vengono forniti 3 lemmi.\n",
    "###### Lemma 1: \n",
    "Sia $n$ un intero positivo, allora:\n",
    "1. $T^{2}_{n} - T_{n-1} T_{n+1} = T_{-(n+1)}$\n",
    "2. $\\sum_{i=1}^{n} T_i = (T_{n+2}+T_{n}-1)/2$ \n",
    "3. $T_{n} > T_{-(n+3)}$ \n",
    "\n",
    "\n",
    "Effettuiamo una verifica numerica della prima uguaglianza:"
   ]
  },
  {
   "cell_type": "code",
   "execution_count": 9,
   "metadata": {
    "collapsed": false,
    "deletable": true,
    "editable": true
   },
   "outputs": [
    {
     "data": {
      "image/png": "[encoded data removed]",
      "text/latex": [
       "$$\\left [ 0, \\quad 0, \\quad 0, \\quad 0, \\quad 0, \\quad 0, \\quad 0, \\quad 0, \\quad 0, \\quad 0, \\quad 0, \\quad 0, \\quad 0, \\quad 0, \\quad 0, \\quad 0, \\quad 0, \\quad 0, \\quad 0, \\quad 0, \\quad 0, \\quad 0, \\quad 0, \\quad 0, \\quad 0, \\quad 0, \\quad 0, \\quad 0, \\quad 0, \\quad 0, \\quad 0, \\quad 0, \\quad 0, \\quad 0, \\quad 0, \\quad 0, \\quad 0, \\quad 0, \\quad 0, \\quad 0\\right ]$$"
      ],
      "text/plain": [
       "[0, 0, 0, 0, 0, 0, 0, 0, 0, 0, 0, 0, 0, 0, 0, 0, 0, 0, 0, 0, 0, 0, 0, 0, 0, 0,\n",
       " 0, 0, 0, 0, 0, 0, 0, 0, 0, 0, 0, 0, 0, 0]"
      ]
     },
     "execution_count": 9,
     "metadata": {},
     "output_type": "execute_result"
    }
   ],
   "source": [
    "lem1_expr1 = T(n)**2 - T(n-1)*T(n+1)\n",
    "lem1_expr2 = T(-(n+1))\n",
    "calc_lem1_expr1 = Lambda([n], simplify(lem1_expr1))\n",
    "calc_lem1_expr2 = Lambda([n], simplify(lem1_expr2))\n",
    "[(calc_lem1_expr1(n).evalf(chop=True)-calc_lem1_expr2(n).evalf(chop=True)) for n in range(0,40)]"
   ]
  },
  {
   "cell_type": "markdown",
   "metadata": {
    "deletable": true,
    "editable": true
   },
   "source": [
    "Effettuiamo una verifica numerica della seconda uguaglianza:"
   ]
  },
  {
   "cell_type": "code",
   "execution_count": 10,
   "metadata": {
    "collapsed": false,
    "deletable": true,
    "editable": true
   },
   "outputs": [
    {
     "data": {
      "image/png": "[encoded data removed]",
      "text/latex": [
       "$$\\left [ 0, \\quad 0, \\quad 0, \\quad 0, \\quad 0, \\quad 0, \\quad 0, \\quad 0, \\quad 0, \\quad 0, \\quad 0, \\quad 0, \\quad 0, \\quad 0, \\quad 0, \\quad 0, \\quad 0, \\quad 0, \\quad 0, \\quad 0, \\quad 0, \\quad 0, \\quad 0, \\quad 0, \\quad 0, \\quad 0, \\quad 0, \\quad 0, \\quad 0, \\quad 0, \\quad 0, \\quad 0, \\quad 0, \\quad 0, \\quad 0, \\quad 0, \\quad 0, \\quad 0, \\quad 0, \\quad 0\\right ]$$"
      ],
      "text/plain": [
       "[0, 0, 0, 0, 0, 0, 0, 0, 0, 0, 0, 0, 0, 0, 0, 0, 0, 0, 0, 0, 0, 0, 0, 0, 0, 0,\n",
       " 0, 0, 0, 0, 0, 0, 0, 0, 0, 0, 0, 0, 0, 0]"
      ]
     },
     "execution_count": 10,
     "metadata": {},
     "output_type": "execute_result"
    }
   ],
   "source": [
    "lem1_expr4 = (T(n+2)+T(n)-1)/2\n",
    "i = symbols('i', integer=True)\n",
    "lem1_expr3 = Sum(T(i), (i, 1, n))\n",
    "calc_lem1_expr4 = Lambda([n], simplify(lem1_expr4))\n",
    "calc_lem1_expr3 = Lambda([n], simplify(lem1_expr3))\n",
    "[(calc_lem1_expr4(n).evalf(chop=True)-calc_lem1_expr3(n).doit().evalf(chop=True)) for n in range(0,40)]"
   ]
  },
  {
   "cell_type": "markdown",
   "metadata": {
    "deletable": true,
    "editable": true
   },
   "source": [
    "Effettuiamo una verifica numerica del terzo risultato, che ricordiamo valere solo per $n \\geq 3$:"
   ]
  },
  {
   "cell_type": "code",
   "execution_count": 11,
   "metadata": {
    "collapsed": false,
    "deletable": true,
    "editable": true
   },
   "outputs": [
    {
     "data": {
      "image/png": "[encoded data removed]",
      "text/latex": [
       "$$\\left [ \\left ( 3, \\quad \\mathrm{True}\\right ), \\quad \\left ( 4, \\quad \\mathrm{True}\\right ), \\quad \\left ( 5, \\quad \\mathrm{True}\\right ), \\quad \\left ( 6, \\quad \\mathrm{True}\\right ), \\quad \\left ( 7, \\quad \\mathrm{True}\\right ), \\quad \\left ( 8, \\quad \\mathrm{True}\\right ), \\quad \\left ( 9, \\quad \\mathrm{True}\\right ), \\quad \\left ( 10, \\quad \\mathrm{True}\\right ), \\quad \\left ( 11, \\quad \\mathrm{True}\\right ), \\quad \\left ( 12, \\quad \\mathrm{True}\\right ), \\quad \\left ( 13, \\quad \\mathrm{True}\\right ), \\quad \\left ( 14, \\quad \\mathrm{True}\\right ), \\quad \\left ( 15, \\quad \\mathrm{True}\\right ), \\quad \\left ( 16, \\quad \\mathrm{True}\\right ), \\quad \\left ( 17, \\quad \\mathrm{True}\\right ), \\quad \\left ( 18, \\quad \\mathrm{True}\\right ), \\quad \\left ( 19, \\quad \\mathrm{True}\\right ), \\quad \\left ( 20, \\quad \\mathrm{True}\\right ), \\quad \\left ( 21, \\quad \\mathrm{True}\\right ), \\quad \\left ( 22, \\quad \\mathrm{True}\\right ), \\quad \\left ( 23, \\quad \\mathrm{True}\\right ), \\quad \\left ( 24, \\quad \\mathrm{True}\\right ), \\quad \\left ( 25, \\quad \\mathrm{True}\\right ), \\quad \\left ( 26, \\quad \\mathrm{True}\\right ), \\quad \\left ( 27, \\quad \\mathrm{True}\\right ), \\quad \\left ( 28, \\quad \\mathrm{True}\\right ), \\quad \\left ( 29, \\quad \\mathrm{True}\\right ), \\quad \\left ( 30, \\quad \\mathrm{True}\\right ), \\quad \\left ( 31, \\quad \\mathrm{True}\\right ), \\quad \\left ( 32, \\quad \\mathrm{True}\\right ), \\quad \\left ( 33, \\quad \\mathrm{True}\\right ), \\quad \\left ( 34, \\quad \\mathrm{True}\\right ), \\quad \\left ( 35, \\quad \\mathrm{True}\\right ), \\quad \\left ( 36, \\quad \\mathrm{True}\\right ), \\quad \\left ( 37, \\quad \\mathrm{True}\\right ), \\quad \\left ( 38, \\quad \\mathrm{True}\\right ), \\quad \\left ( 39, \\quad \\mathrm{True}\\right ), \\quad \\left ( 40, \\quad \\mathrm{True}\\right ), \\quad \\left ( 41, \\quad \\mathrm{True}\\right ), \\quad \\left ( 42, \\quad \\mathrm{True}\\right ), \\quad \\left ( 43, \\quad \\mathrm{True}\\right ), \\quad \\left ( 44, \\quad \\mathrm{True}\\right ), \\quad \\left ( 45, \\quad \\mathrm{True}\\right ), \\quad \\left ( 46, \\quad \\mathrm{True}\\right ), \\quad \\left ( 47, \\quad \\mathrm{True}\\right ), \\quad \\left ( 48, \\quad \\mathrm{True}\\right ), \\quad \\left ( 49, \\quad \\mathrm{True}\\right ), \\quad \\left ( 50, \\quad \\mathrm{True}\\right ), \\quad \\left ( 51, \\quad \\mathrm{True}\\right ), \\quad \\left ( 52, \\quad \\mathrm{True}\\right ), \\quad \\left ( 53, \\quad \\mathrm{True}\\right ), \\quad \\left ( 54, \\quad \\mathrm{True}\\right ), \\quad \\left ( 55, \\quad \\mathrm{True}\\right ), \\quad \\left ( 56, \\quad \\mathrm{True}\\right ), \\quad \\left ( 57, \\quad \\mathrm{True}\\right ), \\quad \\left ( 58, \\quad \\mathrm{True}\\right ), \\quad \\left ( 59, \\quad \\mathrm{True}\\right ), \\quad \\left ( 60, \\quad \\mathrm{True}\\right ), \\quad \\left ( 61, \\quad \\mathrm{True}\\right ), \\quad \\left ( 62, \\quad \\mathrm{True}\\right ), \\quad \\left ( 63, \\quad \\mathrm{True}\\right ), \\quad \\left ( 64, \\quad \\mathrm{True}\\right ), \\quad \\left ( 65, \\quad \\mathrm{True}\\right ), \\quad \\left ( 66, \\quad \\mathrm{True}\\right ), \\quad \\left ( 67, \\quad \\mathrm{True}\\right ), \\quad \\left ( 68, \\quad \\mathrm{True}\\right ), \\quad \\left ( 69, \\quad \\mathrm{True}\\right ), \\quad \\left ( 70, \\quad \\mathrm{True}\\right ), \\quad \\left ( 71, \\quad \\mathrm{True}\\right ), \\quad \\left ( 72, \\quad \\mathrm{True}\\right ), \\quad \\left ( 73, \\quad \\mathrm{True}\\right ), \\quad \\left ( 74, \\quad \\mathrm{True}\\right ), \\quad \\left ( 75, \\quad \\mathrm{True}\\right ), \\quad \\left ( 76, \\quad \\mathrm{True}\\right ), \\quad \\left ( 77, \\quad \\mathrm{True}\\right ), \\quad \\left ( 78, \\quad \\mathrm{True}\\right ), \\quad \\left ( 79, \\quad \\mathrm{True}\\right ), \\quad \\left ( 80, \\quad \\mathrm{True}\\right ), \\quad \\left ( 81, \\quad \\mathrm{True}\\right ), \\quad \\left ( 82, \\quad \\mathrm{True}\\right ), \\quad \\left ( 83, \\quad \\mathrm{True}\\right ), \\quad \\left ( 84, \\quad \\mathrm{True}\\right ), \\quad \\left ( 85, \\quad \\mathrm{True}\\right ), \\quad \\left ( 86, \\quad \\mathrm{True}\\right ), \\quad \\left ( 87, \\quad \\mathrm{True}\\right ), \\quad \\left ( 88, \\quad \\mathrm{True}\\right ), \\quad \\left ( 89, \\quad \\mathrm{True}\\right ), \\quad \\left ( 90, \\quad \\mathrm{True}\\right ), \\quad \\left ( 91, \\quad \\mathrm{True}\\right ), \\quad \\left ( 92, \\quad \\mathrm{True}\\right ), \\quad \\left ( 93, \\quad \\mathrm{True}\\right ), \\quad \\left ( 94, \\quad \\mathrm{True}\\right ), \\quad \\left ( 95, \\quad \\mathrm{True}\\right ), \\quad \\left ( 96, \\quad \\mathrm{True}\\right ), \\quad \\left ( 97, \\quad \\mathrm{True}\\right ), \\quad \\left ( 98, \\quad \\mathrm{True}\\right ), \\quad \\left ( 99, \\quad \\mathrm{True}\\right )\\right ]$$"
      ],
      "text/plain": [
       "[(3, True), (4, True), (5, True), (6, True), (7, True), (8, True), (9, True), \n",
       "(10, True), (11, True), (12, True), (13, True), (14, True), (15, True), (16, T\n",
       "rue), (17, True), (18, True), (19, True), (20, True), (21, True), (22, True), \n",
       "(23, True), (24, True), (25, True), (26, True), (27, True), (28, True), (29, T\n",
       "rue), (30, True), (31, True), (32, True), (33, True), (34, True), (35, True), \n",
       "(36, True), (37, True), (38, True), (39, True), (40, True), (41, True), (42, T\n",
       "rue), (43, True), (44, True), (45, True), (46, True), (47, True), (48, True), \n",
       "(49, True), (50, True), (51, True), (52, True), (53, True), (54, True), (55, T\n",
       "rue), (56, True), (57, True), (58, True), (59, True), (60, True), (61, True), \n",
       "(62, True), (63, True), (64, True), (65, True), (66, True), (67, True), (68, T\n",
       "rue), (69, True), (70, True), (71, True), (72, True), (73, True), (74, True), \n",
       "(75, True), (76, True), (77, True), (78, True), (79, True), (80, True), (81, T\n",
       "rue), (82, True), (83, True), (84, True), (85, True), (86, True), (87, True), \n",
       "(88, True), (89, True), (90, True), (91, True), (92, True), (93, True), (94, T\n",
       "rue), (95, True), (96, True), (97, True), (98, True), (99, True)]"
      ]
     },
     "execution_count": 11,
     "metadata": {},
     "output_type": "execute_result"
    }
   ],
   "source": [
    "[(n, T(n).evalf()>T(-(n+3)).evalf()) for n in range(3, 100)]"
   ]
  },
  {
   "cell_type": "markdown",
   "metadata": {
    "deletable": true,
    "editable": true
   },
   "source": [
    "###### Lemma 2: \n",
    "Sia $n > 1$ un intero positivo, allora:\n",
    "1. $\\frac{1}{T_n - T_{n-1} + 1} < \\sum_{k=n}^{\\infty} \\frac{1}{T_k} < \\frac{1}{T_n - T_{n-1} - 1} $\n",
    "2. $\\frac{1}{(-1)^n(T_n+T_{n-1})+1} < \\sum_{k=n}^{\\infty} \\frac{(-1)^k}{T_k} < \\frac{1}{(-1)^n(T_n+T_{n-1})-1}$\n",
    "\n",
    "Per prima cosa si verifica:\n",
    "$$\\frac{1}{T_n - T_{n-1}+1} < \\sum_{k=n}^{\\infty} \\frac{1}{T_k} $$\n"
   ]
  },
  {
   "cell_type": "code",
   "execution_count": 12,
   "metadata": {
    "collapsed": false,
    "deletable": true,
    "editable": true
   },
   "outputs": [
    {
     "data": {
      "image/png": "[encoded data removed]",
      "text/latex": [
       "$$\\left [ \\left ( 2, \\quad \\mathrm{True}\\right ), \\quad \\left ( 3, \\quad \\mathrm{True}\\right ), \\quad \\left ( 4, \\quad \\mathrm{True}\\right ), \\quad \\left ( 5, \\quad \\mathrm{True}\\right ), \\quad \\left ( 6, \\quad \\mathrm{True}\\right ), \\quad \\left ( 7, \\quad \\mathrm{True}\\right ), \\quad \\left ( 8, \\quad \\mathrm{True}\\right ), \\quad \\left ( 9, \\quad \\mathrm{True}\\right ), \\quad \\left ( 10, \\quad \\mathrm{True}\\right ), \\quad \\left ( 11, \\quad \\mathrm{True}\\right ), \\quad \\left ( 12, \\quad \\mathrm{True}\\right ), \\quad \\left ( 13, \\quad \\mathrm{True}\\right ), \\quad \\left ( 14, \\quad \\mathrm{True}\\right ), \\quad \\left ( 15, \\quad \\mathrm{True}\\right ), \\quad \\left ( 16, \\quad \\mathrm{True}\\right ), \\quad \\left ( 17, \\quad \\mathrm{True}\\right ), \\quad \\left ( 18, \\quad \\mathrm{True}\\right ), \\quad \\left ( 19, \\quad \\mathrm{True}\\right ), \\quad \\left ( 20, \\quad \\mathrm{True}\\right ), \\quad \\left ( 21, \\quad \\mathrm{True}\\right ), \\quad \\left ( 22, \\quad \\mathrm{True}\\right ), \\quad \\left ( 23, \\quad \\mathrm{True}\\right ), \\quad \\left ( 24, \\quad \\mathrm{True}\\right ), \\quad \\left ( 25, \\quad \\mathrm{True}\\right ), \\quad \\left ( 26, \\quad \\mathrm{True}\\right ), \\quad \\left ( 27, \\quad \\mathrm{True}\\right ), \\quad \\left ( 28, \\quad \\mathrm{True}\\right ), \\quad \\left ( 29, \\quad \\mathrm{True}\\right ), \\quad \\left ( 30, \\quad \\mathrm{True}\\right ), \\quad \\left ( 31, \\quad \\mathrm{True}\\right ), \\quad \\left ( 32, \\quad \\mathrm{True}\\right ), \\quad \\left ( 33, \\quad \\mathrm{True}\\right ), \\quad \\left ( 34, \\quad \\mathrm{True}\\right ), \\quad \\left ( 35, \\quad \\mathrm{True}\\right ), \\quad \\left ( 36, \\quad \\mathrm{False}\\right ), \\quad \\left ( 37, \\quad \\mathrm{False}\\right ), \\quad \\left ( 38, \\quad \\mathrm{False}\\right ), \\quad \\left ( 39, \\quad \\mathrm{False}\\right ), \\quad \\left ( 40, \\quad \\mathrm{False}\\right ), \\quad \\left ( 41, \\quad \\mathrm{False}\\right ), \\quad \\left ( 42, \\quad \\mathrm{False}\\right ), \\quad \\left ( 43, \\quad \\mathrm{False}\\right ), \\quad \\left ( 44, \\quad \\mathrm{False}\\right ), \\quad \\left ( 45, \\quad \\mathrm{False}\\right ), \\quad \\left ( 46, \\quad \\mathrm{False}\\right ), \\quad \\left ( 47, \\quad \\mathrm{False}\\right ), \\quad \\left ( 48, \\quad \\mathrm{False}\\right ), \\quad \\left ( 49, \\quad \\mathrm{False}\\right ), \\quad \\left ( 50, \\quad \\mathrm{False}\\right ), \\quad \\left ( 51, \\quad \\mathrm{False}\\right ), \\quad \\left ( 52, \\quad \\mathrm{False}\\right ), \\quad \\left ( 53, \\quad \\mathrm{False}\\right ), \\quad \\left ( 54, \\quad \\mathrm{False}\\right ), \\quad \\left ( 55, \\quad \\mathrm{False}\\right ), \\quad \\left ( 56, \\quad \\mathrm{False}\\right ), \\quad \\left ( 57, \\quad \\mathrm{False}\\right ), \\quad \\left ( 58, \\quad \\mathrm{False}\\right ), \\quad \\left ( 59, \\quad \\mathrm{False}\\right )\\right ]$$"
      ],
      "text/plain": [
       "[(2, True), (3, True), (4, True), (5, True), (6, True), (7, True), (8, True), \n",
       "(9, True), (10, True), (11, True), (12, True), (13, True), (14, True), (15, Tr\n",
       "ue), (16, True), (17, True), (18, True), (19, True), (20, True), (21, True), (\n",
       "22, True), (23, True), (24, True), (25, True), (26, True), (27, True), (28, Tr\n",
       "ue), (29, True), (30, True), (31, True), (32, True), (33, True), (34, True), (\n",
       "35, True), (36, False), (37, False), (38, False), (39, False), (40, False), (4\n",
       "1, False), (42, False), (43, False), (44, False), (45, False), (46, False), (4\n",
       "7, False), (48, False), (49, False), (50, False), (51, False), (52, False), (5\n",
       "3, False), (54, False), (55, False), (56, False), (57, False), (58, False), (5\n",
       "9, False)]"
      ]
     },
     "execution_count": 12,
     "metadata": {},
     "output_type": "execute_result"
    }
   ],
   "source": [
    "lem2_expr1 = 1/(T(n)-T(n-1)+1)\n",
    "k = symbols('k', integer=True)\n",
    "lem2_expr2 = Sum(1/T(k), (k, n, oo))\n",
    "calc_lem2_expr2 = Lambda([n], lem2_expr2)\n",
    "calc_lem2_expr1 = Lambda([n], lem2_expr1)\n",
    "[(n, calc_lem2_expr1(n).evalf() < calc_lem2_expr2(n).doit().evalf()) for n in range(2, 60)]"
   ]
  },
  {
   "cell_type": "markdown",
   "metadata": {
    "deletable": true,
    "editable": true
   },
   "source": [
    "Infine per verificare il primo  risultato basta verificare la seconda parte della disuguaglianza:\n",
    "$$\\sum_{k=n}^{\\infty} \\frac{1}{T_k} < \\frac{1}{T_n - T_{n-1} - 1}$$"
   ]
  },
  {
   "cell_type": "code",
   "execution_count": 13,
   "metadata": {
    "collapsed": false,
    "deletable": true,
    "editable": true
   },
   "outputs": [
    {
     "data": {
      "image/png": "[encoded data removed]",
      "text/latex": [
       "$$\\left [ \\left ( 2, \\quad \\mathrm{False}\\right ), \\quad \\left ( 3, \\quad \\mathrm{True}\\right ), \\quad \\left ( 4, \\quad \\mathrm{True}\\right ), \\quad \\left ( 5, \\quad \\mathrm{True}\\right ), \\quad \\left ( 6, \\quad \\mathrm{True}\\right ), \\quad \\left ( 7, \\quad \\mathrm{True}\\right ), \\quad \\left ( 8, \\quad \\mathrm{True}\\right ), \\quad \\left ( 9, \\quad \\mathrm{True}\\right ), \\quad \\left ( 10, \\quad \\mathrm{True}\\right ), \\quad \\left ( 11, \\quad \\mathrm{True}\\right ), \\quad \\left ( 12, \\quad \\mathrm{True}\\right ), \\quad \\left ( 13, \\quad \\mathrm{True}\\right ), \\quad \\left ( 14, \\quad \\mathrm{True}\\right ), \\quad \\left ( 15, \\quad \\mathrm{True}\\right ), \\quad \\left ( 16, \\quad \\mathrm{True}\\right ), \\quad \\left ( 17, \\quad \\mathrm{True}\\right ), \\quad \\left ( 18, \\quad \\mathrm{True}\\right ), \\quad \\left ( 19, \\quad \\mathrm{True}\\right ), \\quad \\left ( 20, \\quad \\mathrm{True}\\right ), \\quad \\left ( 21, \\quad \\mathrm{True}\\right ), \\quad \\left ( 22, \\quad \\mathrm{True}\\right ), \\quad \\left ( 23, \\quad \\mathrm{True}\\right ), \\quad \\left ( 24, \\quad \\mathrm{True}\\right ), \\quad \\left ( 25, \\quad \\mathrm{True}\\right ), \\quad \\left ( 26, \\quad \\mathrm{True}\\right ), \\quad \\left ( 27, \\quad \\mathrm{True}\\right ), \\quad \\left ( 28, \\quad \\mathrm{True}\\right ), \\quad \\left ( 29, \\quad \\mathrm{True}\\right ), \\quad \\left ( 30, \\quad \\mathrm{True}\\right ), \\quad \\left ( 31, \\quad \\mathrm{True}\\right ), \\quad \\left ( 32, \\quad \\mathrm{True}\\right ), \\quad \\left ( 33, \\quad \\mathrm{True}\\right ), \\quad \\left ( 34, \\quad \\mathrm{True}\\right ), \\quad \\left ( 35, \\quad \\mathrm{True}\\right ), \\quad \\left ( 36, \\quad \\mathrm{True}\\right ), \\quad \\left ( 37, \\quad \\mathrm{True}\\right ), \\quad \\left ( 38, \\quad \\mathrm{True}\\right ), \\quad \\left ( 39, \\quad \\mathrm{True}\\right ), \\quad \\left ( 40, \\quad \\mathrm{True}\\right ), \\quad \\left ( 41, \\quad \\mathrm{True}\\right ), \\quad \\left ( 42, \\quad \\mathrm{True}\\right ), \\quad \\left ( 43, \\quad \\mathrm{True}\\right ), \\quad \\left ( 44, \\quad \\mathrm{True}\\right ), \\quad \\left ( 45, \\quad \\mathrm{True}\\right ), \\quad \\left ( 46, \\quad \\mathrm{True}\\right ), \\quad \\left ( 47, \\quad \\mathrm{True}\\right ), \\quad \\left ( 48, \\quad \\mathrm{True}\\right ), \\quad \\left ( 49, \\quad \\mathrm{True}\\right ), \\quad \\left ( 50, \\quad \\mathrm{True}\\right ), \\quad \\left ( 51, \\quad \\mathrm{True}\\right ), \\quad \\left ( 52, \\quad \\mathrm{True}\\right ), \\quad \\left ( 53, \\quad \\mathrm{True}\\right ), \\quad \\left ( 54, \\quad \\mathrm{True}\\right ), \\quad \\left ( 55, \\quad \\mathrm{True}\\right ), \\quad \\left ( 56, \\quad \\mathrm{True}\\right ), \\quad \\left ( 57, \\quad \\mathrm{True}\\right ), \\quad \\left ( 58, \\quad \\mathrm{True}\\right ), \\quad \\left ( 59, \\quad \\mathrm{True}\\right )\\right ]$$"
      ],
      "text/plain": [
       "[(2, False), (3, True), (4, True), (5, True), (6, True), (7, True), (8, True),\n",
       " (9, True), (10, True), (11, True), (12, True), (13, True), (14, True), (15, T\n",
       "rue), (16, True), (17, True), (18, True), (19, True), (20, True), (21, True), \n",
       "(22, True), (23, True), (24, True), (25, True), (26, True), (27, True), (28, T\n",
       "rue), (29, True), (30, True), (31, True), (32, True), (33, True), (34, True), \n",
       "(35, True), (36, True), (37, True), (38, True), (39, True), (40, True), (41, T\n",
       "rue), (42, True), (43, True), (44, True), (45, True), (46, True), (47, True), \n",
       "(48, True), (49, True), (50, True), (51, True), (52, True), (53, True), (54, T\n",
       "rue), (55, True), (56, True), (57, True), (58, True), (59, True)]"
      ]
     },
     "execution_count": 13,
     "metadata": {},
     "output_type": "execute_result"
    }
   ],
   "source": [
    "lem2_expr3 = 1/(T(n)-T(n-1)-1)\n",
    "calc_lem2_expr3 = Lambda([n], lem2_expr3)\n",
    "[(n, calc_lem2_expr2(n).doit().evalf() < calc_lem2_expr3(n).evalf()) for n in range(2,60)]"
   ]
  },
  {
   "cell_type": "markdown",
   "metadata": {
    "deletable": true,
    "editable": true
   },
   "source": [
    "Nella verifica del secondo risultato si segue lo stesso approccio:\n",
    "$$\\frac{1}{(-1)^n(T_n+T_{n-1})+1} < \\sum_{k=n}^{\\infty} \\frac{(-1)^k}{T_k}$$\n",
    "E poi \n",
    "$$\\sum_{k=n}^{\\infty} \\frac{(-1)^k}{T_k} < \\frac{1}{(-1)^n(T_n+T_{n-1})-1}$$"
   ]
  },
  {
   "cell_type": "code",
   "execution_count": 14,
   "metadata": {
    "collapsed": false,
    "deletable": true,
    "editable": true
   },
   "outputs": [
    {
     "data": {
      "image/png": "[encoded data removed]",
      "text/latex": [
       "$$\\left [ \\left ( 2, \\quad \\mathrm{True}\\right ), \\quad \\left ( 3, \\quad \\mathrm{True}\\right ), \\quad \\left ( 4, \\quad \\mathrm{True}\\right ), \\quad \\left ( 5, \\quad \\mathrm{True}\\right ), \\quad \\left ( 6, \\quad \\mathrm{True}\\right ), \\quad \\left ( 7, \\quad \\mathrm{True}\\right ), \\quad \\left ( 8, \\quad \\mathrm{True}\\right ), \\quad \\left ( 9, \\quad \\mathrm{True}\\right ), \\quad \\left ( 10, \\quad \\mathrm{True}\\right ), \\quad \\left ( 11, \\quad \\mathrm{True}\\right ), \\quad \\left ( 12, \\quad \\mathrm{True}\\right ), \\quad \\left ( 13, \\quad \\mathrm{True}\\right ), \\quad \\left ( 14, \\quad \\mathrm{True}\\right ), \\quad \\left ( 15, \\quad \\mathrm{True}\\right ), \\quad \\left ( 16, \\quad \\mathrm{True}\\right ), \\quad \\left ( 17, \\quad \\mathrm{True}\\right ), \\quad \\left ( 18, \\quad \\mathrm{True}\\right ), \\quad \\left ( 19, \\quad \\mathrm{True}\\right ), \\quad \\left ( 20, \\quad \\mathrm{True}\\right ), \\quad \\left ( 21, \\quad \\mathrm{True}\\right ), \\quad \\left ( 22, \\quad \\mathrm{True}\\right ), \\quad \\left ( 23, \\quad \\mathrm{True}\\right ), \\quad \\left ( 24, \\quad \\mathrm{True}\\right ), \\quad \\left ( 25, \\quad \\mathrm{True}\\right ), \\quad \\left ( 26, \\quad \\mathrm{True}\\right ), \\quad \\left ( 27, \\quad \\mathrm{True}\\right ), \\quad \\left ( 28, \\quad \\mathrm{True}\\right ), \\quad \\left ( 29, \\quad \\mathrm{True}\\right ), \\quad \\left ( 30, \\quad \\mathrm{True}\\right ), \\quad \\left ( 31, \\quad \\mathrm{True}\\right ), \\quad \\left ( 32, \\quad \\mathrm{True}\\right ), \\quad \\left ( 33, \\quad \\mathrm{True}\\right ), \\quad \\left ( 34, \\quad \\mathrm{True}\\right ), \\quad \\left ( 35, \\quad \\mathrm{True}\\right ), \\quad \\left ( 36, \\quad \\mathrm{True}\\right ), \\quad \\left ( 37, \\quad \\mathrm{True}\\right ), \\quad \\left ( 38, \\quad \\mathrm{True}\\right ), \\quad \\left ( 39, \\quad \\mathrm{True}\\right ), \\quad \\left ( 40, \\quad \\mathrm{True}\\right ), \\quad \\left ( 41, \\quad \\mathrm{True}\\right ), \\quad \\left ( 42, \\quad \\mathrm{True}\\right ), \\quad \\left ( 43, \\quad \\mathrm{True}\\right ), \\quad \\left ( 44, \\quad \\mathrm{True}\\right ), \\quad \\left ( 45, \\quad \\mathrm{True}\\right ), \\quad \\left ( 46, \\quad \\mathrm{True}\\right ), \\quad \\left ( 47, \\quad \\mathrm{True}\\right ), \\quad \\left ( 48, \\quad \\mathrm{True}\\right ), \\quad \\left ( 49, \\quad \\mathrm{True}\\right ), \\quad \\left ( 50, \\quad \\mathrm{True}\\right ), \\quad \\left ( 51, \\quad \\mathrm{True}\\right ), \\quad \\left ( 52, \\quad \\mathrm{True}\\right ), \\quad \\left ( 53, \\quad \\mathrm{True}\\right ), \\quad \\left ( 54, \\quad \\mathrm{True}\\right ), \\quad \\left ( 55, \\quad \\mathrm{True}\\right ), \\quad \\left ( 56, \\quad \\mathrm{True}\\right ), \\quad \\left ( 57, \\quad \\mathrm{True}\\right ), \\quad \\left ( 58, \\quad \\mathrm{True}\\right ), \\quad \\left ( 59, \\quad \\mathrm{True}\\right )\\right ]$$"
      ],
      "text/plain": [
       "[(2, True), (3, True), (4, True), (5, True), (6, True), (7, True), (8, True), \n",
       "(9, True), (10, True), (11, True), (12, True), (13, True), (14, True), (15, Tr\n",
       "ue), (16, True), (17, True), (18, True), (19, True), (20, True), (21, True), (\n",
       "22, True), (23, True), (24, True), (25, True), (26, True), (27, True), (28, Tr\n",
       "ue), (29, True), (30, True), (31, True), (32, True), (33, True), (34, True), (\n",
       "35, True), (36, True), (37, True), (38, True), (39, True), (40, True), (41, Tr\n",
       "ue), (42, True), (43, True), (44, True), (45, True), (46, True), (47, True), (\n",
       "48, True), (49, True), (50, True), (51, True), (52, True), (53, True), (54, Tr\n",
       "ue), (55, True), (56, True), (57, True), (58, True), (59, True)]"
      ]
     },
     "execution_count": 14,
     "metadata": {},
     "output_type": "execute_result"
    }
   ],
   "source": [
    "lem2_expr4 = 1/(((-1)**n) * (T(n)+T(n-1))+1)\n",
    "lem2_expr5 =  Sum(((-1)**k)/T(k), (k, n, oo))\n",
    "calc_lem2_expr5 = Lambda([n], lem2_expr5)\n",
    "calc_lem2_expr4 = Lambda([n], lem2_expr4)\n",
    "[(n, calc_lem2_expr4(n).evalf() < calc_lem2_expr5(n).doit().evalf()) for n in range(2, 60)]\n",
    "#SWAG CALCOLI"
   ]
  },
  {
   "cell_type": "code",
   "execution_count": 15,
   "metadata": {
    "collapsed": false,
    "deletable": true,
    "editable": true
   },
   "outputs": [
    {
     "data": {
      "image/png": "[encoded data removed]",
      "text/latex": [
       "$$\\left [ \\left ( 2, \\quad \\mathrm{True}\\right ), \\quad \\left ( 3, \\quad \\mathrm{True}\\right ), \\quad \\left ( 4, \\quad \\mathrm{True}\\right ), \\quad \\left ( 5, \\quad \\mathrm{True}\\right ), \\quad \\left ( 6, \\quad \\mathrm{True}\\right ), \\quad \\left ( 7, \\quad \\mathrm{True}\\right ), \\quad \\left ( 8, \\quad \\mathrm{True}\\right ), \\quad \\left ( 9, \\quad \\mathrm{True}\\right ), \\quad \\left ( 10, \\quad \\mathrm{True}\\right ), \\quad \\left ( 11, \\quad \\mathrm{True}\\right ), \\quad \\left ( 12, \\quad \\mathrm{True}\\right ), \\quad \\left ( 13, \\quad \\mathrm{True}\\right ), \\quad \\left ( 14, \\quad \\mathrm{True}\\right ), \\quad \\left ( 15, \\quad \\mathrm{True}\\right ), \\quad \\left ( 16, \\quad \\mathrm{True}\\right ), \\quad \\left ( 17, \\quad \\mathrm{True}\\right ), \\quad \\left ( 18, \\quad \\mathrm{True}\\right ), \\quad \\left ( 19, \\quad \\mathrm{True}\\right ), \\quad \\left ( 20, \\quad \\mathrm{True}\\right ), \\quad \\left ( 21, \\quad \\mathrm{True}\\right ), \\quad \\left ( 22, \\quad \\mathrm{True}\\right ), \\quad \\left ( 23, \\quad \\mathrm{True}\\right ), \\quad \\left ( 24, \\quad \\mathrm{True}\\right ), \\quad \\left ( 25, \\quad \\mathrm{True}\\right ), \\quad \\left ( 26, \\quad \\mathrm{True}\\right ), \\quad \\left ( 27, \\quad \\mathrm{True}\\right ), \\quad \\left ( 28, \\quad \\mathrm{True}\\right ), \\quad \\left ( 29, \\quad \\mathrm{True}\\right ), \\quad \\left ( 30, \\quad \\mathrm{True}\\right ), \\quad \\left ( 31, \\quad \\mathrm{True}\\right ), \\quad \\left ( 32, \\quad \\mathrm{True}\\right ), \\quad \\left ( 33, \\quad \\mathrm{True}\\right ), \\quad \\left ( 34, \\quad \\mathrm{True}\\right ), \\quad \\left ( 35, \\quad \\mathrm{False}\\right ), \\quad \\left ( 36, \\quad \\mathrm{False}\\right ), \\quad \\left ( 37, \\quad \\mathrm{False}\\right ), \\quad \\left ( 38, \\quad \\mathrm{False}\\right ), \\quad \\left ( 39, \\quad \\mathrm{False}\\right ), \\quad \\left ( 40, \\quad \\mathrm{False}\\right ), \\quad \\left ( 41, \\quad \\mathrm{False}\\right ), \\quad \\left ( 42, \\quad \\mathrm{False}\\right ), \\quad \\left ( 43, \\quad \\mathrm{False}\\right ), \\quad \\left ( 44, \\quad \\mathrm{False}\\right ), \\quad \\left ( 45, \\quad \\mathrm{False}\\right ), \\quad \\left ( 46, \\quad \\mathrm{False}\\right ), \\quad \\left ( 47, \\quad \\mathrm{False}\\right ), \\quad \\left ( 48, \\quad \\mathrm{False}\\right ), \\quad \\left ( 49, \\quad \\mathrm{False}\\right ), \\quad \\left ( 50, \\quad \\mathrm{False}\\right ), \\quad \\left ( 51, \\quad \\mathrm{False}\\right ), \\quad \\left ( 52, \\quad \\mathrm{False}\\right ), \\quad \\left ( 53, \\quad \\mathrm{False}\\right ), \\quad \\left ( 54, \\quad \\mathrm{False}\\right ), \\quad \\left ( 55, \\quad \\mathrm{False}\\right ), \\quad \\left ( 56, \\quad \\mathrm{False}\\right ), \\quad \\left ( 57, \\quad \\mathrm{False}\\right ), \\quad \\left ( 58, \\quad \\mathrm{False}\\right ), \\quad \\left ( 59, \\quad \\mathrm{False}\\right )\\right ]$$"
      ],
      "text/plain": [
       "[(2, True), (3, True), (4, True), (5, True), (6, True), (7, True), (8, True), \n",
       "(9, True), (10, True), (11, True), (12, True), (13, True), (14, True), (15, Tr\n",
       "ue), (16, True), (17, True), (18, True), (19, True), (20, True), (21, True), (\n",
       "22, True), (23, True), (24, True), (25, True), (26, True), (27, True), (28, Tr\n",
       "ue), (29, True), (30, True), (31, True), (32, True), (33, True), (34, True), (\n",
       "35, False), (36, False), (37, False), (38, False), (39, False), (40, False), (\n",
       "41, False), (42, False), (43, False), (44, False), (45, False), (46, False), (\n",
       "47, False), (48, False), (49, False), (50, False), (51, False), (52, False), (\n",
       "53, False), (54, False), (55, False), (56, False), (57, False), (58, False), (\n",
       "59, False)]"
      ]
     },
     "execution_count": 15,
     "metadata": {},
     "output_type": "execute_result"
    }
   ],
   "source": [
    "lem2_expr6 = 1/(((-1)**n) * (T(n)+T(n-1))-1)\n",
    "calc_lem2_expr6 = Lambda([n], lem2_expr6)\n",
    "[(n, calc_lem2_expr6(n).evalf() > calc_lem2_expr5(n).doit().evalf()) for n in range(2, 60)]"
   ]
  },
  {
   "cell_type": "markdown",
   "metadata": {
    "deletable": true,
    "editable": true
   },
   "source": [
    "###### Lemma 3: \n",
    "Sia $n>2$ un intero positivo, allora:\n",
    "1. Se $T_{-(n+1)} < 0$, allora $\\sum_{k=n}^{\\infty} \\frac{1}{T_k} < \\frac{1}{T_n - T_{n-1}}$\n",
    "2. Se $T_{-(n+1)} > 0$, allora $\\sum_{k=n}^{\\infty} \\frac{1}{T_k} > \\frac{1}{T_n - T_{n-1}}$\n",
    "\n",
    "Per verificare i risultati di questo lemma si possono effettuare verifiche numeriche:"
   ]
  },
  {
   "cell_type": "markdown",
   "metadata": {
    "deletable": true,
    "editable": true
   },
   "source": [
    "Per il primo caso si ha:\n",
    "Se $T_{-(n+1)} < 0$, allora \n",
    "$$\\sum_{k=n}^{\\infty} \\frac{1}{T_k} < \\frac{1}{T_n - T_{n-1}}$$"
   ]
  },
  {
   "cell_type": "markdown",
   "metadata": {
    "collapsed": true,
    "deletable": true,
    "editable": true
   },
   "source": [
    "\n",
    "\n",
    "Effettuiamo una verifica numerica, per ovvi motivi non si può effettuare una sommatoria di numeri infiniti, quindi ci limiteremo a fissare un limite superiore abbastanza grande."
   ]
  },
  {
   "cell_type": "code",
   "execution_count": 16,
   "metadata": {
    "collapsed": false,
    "deletable": true,
    "editable": true,
    "scrolled": false
   },
   "outputs": [
    {
     "data": {
      "image/png": "[encoded data removed]",
      "text/latex": [
       "$$\\left [ \\left ( 5, \\quad \\mathrm{True}\\right ), \\quad \\left ( 8, \\quad \\mathrm{True}\\right ), \\quad \\left ( 11, \\quad \\mathrm{True}\\right ), \\quad \\left ( 14, \\quad \\mathrm{True}\\right ), \\quad \\left ( 17, \\quad \\mathrm{True}\\right ), \\quad \\left ( 19, \\quad \\mathrm{True}\\right ), \\quad \\left ( 20, \\quad \\mathrm{True}\\right ), \\quad \\left ( 22, \\quad \\mathrm{True}\\right ), \\quad \\left ( 23, \\quad \\mathrm{True}\\right ), \\quad \\left ( 25, \\quad \\mathrm{True}\\right ), \\quad \\left ( 26, \\quad \\mathrm{True}\\right ), \\quad \\left ( 28, \\quad \\mathrm{True}\\right ), \\quad \\left ( 31, \\quad \\mathrm{True}\\right ), \\quad \\left ( 34, \\quad \\mathrm{True}\\right ), \\quad \\left ( 37, \\quad \\mathrm{True}\\right )\\right ]$$"
      ],
      "text/plain": [
       "[(5, True), (8, True), (11, True), (14, True), (17, True), (19, True), (20, Tr\n",
       "ue), (22, True), (23, True), (25, True), (26, True), (28, True), (31, True), (\n",
       "34, True), (37, True)]"
      ]
     },
     "execution_count": 16,
     "metadata": {},
     "output_type": "execute_result"
    }
   ],
   "source": [
    "k = symbols('k', integer=True)\n",
    "calc_lem3_expr6 = Lambda([n], Sum(1/T(k), (k,n,oo)))\n",
    "calc_lem3_expr7 = Lambda([n], 1/(T(n)-T(n-1)))\n",
    "[(n, calc_lem3_expr6(n).doit().evalf() < calc_lem3_expr7(n).evalf() ) for n in range(3,40) if lambda_tribonacci(-(n+1))<0]"
   ]
  },
  {
   "cell_type": "markdown",
   "metadata": {
    "deletable": true,
    "editable": true
   },
   "source": [
    "Si può ora effettuare una verifica del secondo risultato di questo lemma.\n",
    "Se $T_{-(n+1)} > 0$, allora $$\\sum_{k=n}^{\\infty} \\frac{1}{T_k} > \\frac{1}{T_n - T_{n-1}}$$\n",
    " \n"
   ]
  },
  {
   "cell_type": "code",
   "execution_count": 17,
   "metadata": {
    "collapsed": false,
    "deletable": true,
    "editable": true
   },
   "outputs": [
    {
     "data": {
      "image/png": "[encoded data removed]",
      "text/latex": [
       "$$\\left [ \\left ( 4, \\quad \\mathrm{True}\\right ), \\quad \\left ( 6, \\quad \\mathrm{True}\\right ), \\quad \\left ( 7, \\quad \\mathrm{True}\\right ), \\quad \\left ( 9, \\quad \\mathrm{True}\\right ), \\quad \\left ( 10, \\quad \\mathrm{True}\\right ), \\quad \\left ( 12, \\quad \\mathrm{True}\\right ), \\quad \\left ( 13, \\quad \\mathrm{True}\\right ), \\quad \\left ( 15, \\quad \\mathrm{True}\\right ), \\quad \\left ( 18, \\quad \\mathrm{True}\\right ), \\quad \\left ( 21, \\quad \\mathrm{True}\\right ), \\quad \\left ( 24, \\quad \\mathrm{True}\\right ), \\quad \\left ( 27, \\quad \\mathrm{True}\\right ), \\quad \\left ( 29, \\quad \\mathrm{False}\\right ), \\quad \\left ( 30, \\quad \\mathrm{False}\\right ), \\quad \\left ( 32, \\quad \\mathrm{False}\\right ), \\quad \\left ( 33, \\quad \\mathrm{False}\\right ), \\quad \\left ( 35, \\quad \\mathrm{False}\\right ), \\quad \\left ( 36, \\quad \\mathrm{False}\\right ), \\quad \\left ( 38, \\quad \\mathrm{False}\\right ), \\quad \\left ( 39, \\quad \\mathrm{False}\\right ), \\quad \\left ( 41, \\quad \\mathrm{False}\\right ), \\quad \\left ( 44, \\quad \\mathrm{False}\\right ), \\quad \\left ( 47, \\quad \\mathrm{False}\\right ), \\quad \\left ( 50, \\quad \\mathrm{False}\\right ), \\quad \\left ( 53, \\quad \\mathrm{False}\\right ), \\quad \\left ( 55, \\quad \\mathrm{False}\\right ), \\quad \\left ( 56, \\quad \\mathrm{False}\\right ), \\quad \\left ( 58, \\quad \\mathrm{False}\\right ), \\quad \\left ( 59, \\quad \\mathrm{False}\\right )\\right ]$$"
      ],
      "text/plain": [
       "[(4, True), (6, True), (7, True), (9, True), (10, True), (12, True), (13, True\n",
       "), (15, True), (18, True), (21, True), (24, True), (27, True), (29, False), (3\n",
       "0, False), (32, False), (33, False), (35, False), (36, False), (38, False), (3\n",
       "9, False), (41, False), (44, False), (47, False), (50, False), (53, False), (5\n",
       "5, False), (56, False), (58, False), (59, False)]"
      ]
     },
     "execution_count": 17,
     "metadata": {},
     "output_type": "execute_result"
    }
   ],
   "source": [
    "[(n, calc_lem3_expr6(n).doit().evalf() > calc_lem3_expr7(n).evalf() ) for n in range(3,60) if lambda_tribonacci(-(n+1))>0]"
   ]
  },
  {
   "cell_type": "markdown",
   "metadata": {
    "deletable": true,
    "editable": true
   },
   "source": [
    "Probabilmente per motivi legati alla precisione di macchina per alcuni valori il risultato non è verificato, prendiamo per esempio il caso in cui $n = 44$ e facciamo vedere che sottraendo la sommatoria all'espressione la differenza diminuisce sempre di più. "
   ]
  },
  {
   "cell_type": "code",
   "execution_count": 18,
   "metadata": {
    "collapsed": false,
    "deletable": true,
    "editable": true
   },
   "outputs": [
    {
     "data": {
      "image/png": "[encoded data removed]",
      "text/latex": [
       "$$\\left [ 3.06122908510549, \\quad 0.00799783752301487, \\quad 1.80495646456424 \\cdot 10^{-5}, \\quad 4.07354292932476 \\cdot 10^{-8}, \\quad 9.19343611832288 \\cdot 10^{-11}, \\quad 2.07483434268642 \\cdot 10^{-13}, \\quad 4.68262083315949 \\cdot 10^{-16}, \\quad 1.05680426715595 \\cdot 10^{-18}, \\quad 2.38506543637155 \\cdot 10^{-21}, \\quad 5.38313633013025 \\cdot 10^{-24}, \\quad 1.29246970711411 \\cdot 10^{-26}, \\quad 0, \\quad 0, \\quad 0, \\quad 0, \\quad 0, \\quad 0, \\quad 0, \\quad 0, \\quad 0\\right ]$$"
      ],
      "text/plain": [
       "[3.06122908510549, 0.00799783752301487, 1.80495646456424e-5, 4.07354292932476e\n",
       "-8, 9.19343611832288e-11, 2.07483434268642e-13, 4.68262083315949e-16, 1.056804\n",
       "26715595e-18, 2.38506543637155e-21, 5.38313633013025e-24, 1.29246970711411e-26\n",
       ", 0, 0, 0, 0, 0, 0, 0, 0, 0]"
      ]
     },
     "execution_count": 18,
     "metadata": {},
     "output_type": "execute_result"
    }
   ],
   "source": [
    "w = symbols('w', integer=True)\n",
    "calc_lem3_expr8 = Lambda([w], Sum(1/T(k), (k,44,w)))\n",
    "#IL RISULTATO DELLA SOMMATORIA DOVREBBE ESSERE MAGGIORE, MA PER QUALUNQUE VALORE NON RAGGIUNGE MAI IL RISULTATO SPERATO\n",
    "[( calc_lem3_expr7(44).evalf() - calc_lem3_expr8(w).doit().evalf() ) for w in range(0, 200, 10)]"
   ]
  },
  {
   "cell_type": "markdown",
   "metadata": {
    "collapsed": true,
    "deletable": true,
    "editable": true
   },
   "source": [
    "Ora siamo pronti per dimostrare le uguaglianze descritte nell'introduzione.\n",
    "###### Teorema 4:\n",
    "Sia $n$ un numero intero positivo. Allora:\n",
    "$$\\left\\lfloor \\left( \\sum_{k=n}^{\\infty}  \\frac{1}{T_k } \\right)^{-1}\\right\\rfloor = \n",
    "\\begin{cases}\n",
    "T_n - T_{n-1}\\ \\text{se}\\ T_{-(n+1)} < 0 \\\\\n",
    "T_n - T_{n-1} -1\\ \\text{se}\\ T_{-(n+1)} > 0\n",
    "\\end{cases}\n",
    "$$\n",
    "Dimostrazione:\n",
    "Se $n=1$, allora $T_{-2} = 1 > 0$ e $$\\sum_{k = 1}^{\\infty} \\frac{1}{T_k} > \\frac{1}{T_1} = 1$$\n",
    "Effettuiamo una verifica numerica di questo risultato:"
   ]
  },
  {
   "cell_type": "code",
   "execution_count": 19,
   "metadata": {
    "collapsed": false,
    "deletable": true,
    "editable": true
   },
   "outputs": [
    {
     "data": {
      "image/png": "[encoded data removed]",
      "text/latex": [
       "$$3.06122908510549$$"
      ],
      "text/plain": [
       "3.06122908510549"
      ]
     },
     "execution_count": 19,
     "metadata": {},
     "output_type": "execute_result"
    }
   ],
   "source": [
    "k = symbols('k', integer=True)\n",
    "teo4_expr1 = Sum(1/T(k), (k,1,oo))\n",
    "teo4_expr1.doit().evalf()\n"
   ]
  },
  {
   "cell_type": "markdown",
   "metadata": {
    "deletable": true,
    "editable": true
   },
   "source": [
    "Posso dire che $$0<\\left(\\sum_{k = 1}^{\\infty} \\frac{1}{T_k}\\right)^{-1} < 1$$\n",
    "Prendendo la parte intera inferiore di questo numero ottengo:\n",
    "$$\\left\\lfloor \\left(\\sum_{k = 1}^{\\infty} \\frac{1}{T_k}\\right)^{-1} \\right\\rfloor = 0 = T_1 - T_0 -1$$\n",
    "Effettuiamo una verifica numerica di questo risultato:"
   ]
  },
  {
   "cell_type": "code",
   "execution_count": 20,
   "metadata": {
    "collapsed": false,
    "deletable": true,
    "editable": true
   },
   "outputs": [
    {
     "data": {
      "text/plain": [
       "True"
      ]
     },
     "execution_count": 20,
     "metadata": {},
     "output_type": "execute_result"
    }
   ],
   "source": [
    "teo4_expr2 = teo4_expr1**(-1)\n",
    "math.floor(teo4_expr2.doit().evalf()) ==( T(1).evalf() - T(0).evalf() -1)"
   ]
  },
  {
   "cell_type": "markdown",
   "metadata": {
    "deletable": true,
    "editable": true
   },
   "source": [
    "La prova per $n=2$ è analoga. In questo caso ho $T_{-3} = -1$, quindi si rientra nel primo caso.\n",
    "$$\\left(\\sum_{k = 2}^{\\infty} \\frac{1}{T_k}\\right) > \\frac{1}{T_2} = 1$$\n",
    "$$0 <\\left(\\sum_{k = 2}^{\\infty} \\frac{1}{T_k}\\right)^{-1}  < 1$$\n",
    "$$\\left\\lfloor \\left(\\sum_{k = 2}^{\\infty} \\frac{1}{T_k}\\right)^{-1} \\right\\rfloor = 0 = T_2 - T_1$$\n",
    "Effettuiamo una verifica numerica di questo risultato:"
   ]
  },
  {
   "cell_type": "code",
   "execution_count": 21,
   "metadata": {
    "collapsed": false,
    "deletable": true,
    "editable": true
   },
   "outputs": [
    {
     "data": {
      "image/png": "[encoded data removed]",
      "text/latex": [
       "$$\\mathrm{True}$$"
      ],
      "text/plain": [
       "True"
      ]
     },
     "execution_count": 21,
     "metadata": {},
     "output_type": "execute_result"
    }
   ],
   "source": [
    "teo4_expr3 = Sum(1/T(k), (k,2,oo))\n",
    "teo4_expr3.doit().evalf() > T(2).evalf()"
   ]
  },
  {
   "cell_type": "code",
   "execution_count": 22,
   "metadata": {
    "collapsed": false,
    "deletable": true,
    "editable": true
   },
   "outputs": [
    {
     "data": {
      "text/plain": [
       "True"
      ]
     },
     "execution_count": 22,
     "metadata": {},
     "output_type": "execute_result"
    }
   ],
   "source": [
    "teo4_expr4 = Sum(1/T(k), (k,2,oo))**(-1)\n",
    "math.floor(teo4_expr4.doit().evalf()) == T(2).evalf() - T(1).evalf()"
   ]
  },
  {
   "cell_type": "markdown",
   "metadata": {
    "deletable": true,
    "editable": true
   },
   "source": [
    "Dimostriamo ora per il caso generico in cui $n>2$. Usando il Lemma 2 ed il Lemma 3 si ottiene:\n",
    "$$\\frac{1}{T_n - T_{n-1} + 1} < \\sum_{k =n}^{\\infty} \\frac{1}{T_k} < \\frac{1}{T_n - T_{n-1}}\\ \\text{se}\\ T_{-(n+1)} < 0$$\n",
    "Oppure:\n",
    "$$\\frac{1}{T_n - T_{n-1}} < \\sum_{k =n}^{\\infty} \\frac{1}{T_k} < \\frac{1}{T_n - T_{n-1} - 1}\\ \\text{se}\\ T_{-(n+1)} > 0$$\n",
    "Allora si ottiene il risultato finale:\n",
    "$$\\left\\lfloor \\left( \\sum_{k=n}^{\\infty}  \\frac{1}{T_k } \\right)^{-1}\\right\\rfloor = \n",
    "\\begin{cases}\n",
    "T_n - T_{n-1}\\ \\text{se}\\ T_{-(n+1)} < 0 \\\\\n",
    "T_n - T_{n-1} -1\\ \\text{se}\\ T_{-(n+1)} > 0\n",
    "\\end{cases}\n",
    "$$\n",
    "Verifichiamo numericamente tutte e 3 le espressioni:\n",
    "\n",
    "Iniziamo dal caso in cui $T_{-(n+1)}<0$"
   ]
  },
  {
   "cell_type": "code",
   "execution_count": 55,
   "metadata": {
    "collapsed": false,
    "deletable": true,
    "editable": true
   },
   "outputs": [
    {
     "data": {
      "image/png": "[encoded data removed]",
      "text/latex": [
       "$$\\frac{1}{T{\\left (n \\right )} - T{\\left (n - 1 \\right )} + 1} < \\sum_{k=n}^{\\infty} \\frac{1}{T{\\left (k \\right )}}$$"
      ],
      "text/plain": [
       "                        ∞       \n",
       "                       ____     \n",
       "                       ╲        \n",
       "                        ╲    1  \n",
       "         1               ╲  ────\n",
       "─────────────────── <    ╱  T(k)\n",
       "T(n) - T(n - 1) + 1     ╱       \n",
       "                       ╱        \n",
       "                       ‾‾‾‾     \n",
       "                      k = n     "
      ]
     },
     "execution_count": 55,
     "metadata": {},
     "output_type": "execute_result"
    }
   ],
   "source": [
    "calc_teo4_expr5 = Lambda([n], Sum(1/T(k), (k,n,oo)))\n",
    "calc_teo4_expr6 = Lambda([n], 1/(T(n)-T(n-1)+1))\n",
    "1/(T(n)-T(n-1)+1) < Sum(1/T(k), (k,n,oo))\n"
   ]
  },
  {
   "cell_type": "code",
   "execution_count": 24,
   "metadata": {
    "collapsed": false,
    "deletable": true,
    "editable": true
   },
   "outputs": [
    {
     "data": {
      "image/png": "[encoded data removed]",
      "text/latex": [
       "$$\\left [ \\left ( 2, \\quad \\mathrm{True}\\right ), \\quad \\left ( 5, \\quad \\mathrm{True}\\right ), \\quad \\left ( 8, \\quad \\mathrm{True}\\right ), \\quad \\left ( 11, \\quad \\mathrm{True}\\right ), \\quad \\left ( 14, \\quad \\mathrm{True}\\right ), \\quad \\left ( 17, \\quad \\mathrm{True}\\right ), \\quad \\left ( 19, \\quad \\mathrm{True}\\right ), \\quad \\left ( 20, \\quad \\mathrm{True}\\right ), \\quad \\left ( 22, \\quad \\mathrm{True}\\right ), \\quad \\left ( 23, \\quad \\mathrm{True}\\right ), \\quad \\left ( 25, \\quad \\mathrm{True}\\right ), \\quad \\left ( 26, \\quad \\mathrm{True}\\right ), \\quad \\left ( 28, \\quad \\mathrm{True}\\right ), \\quad \\left ( 31, \\quad \\mathrm{True}\\right ), \\quad \\left ( 34, \\quad \\mathrm{True}\\right ), \\quad \\left ( 37, \\quad \\mathrm{False}\\right ), \\quad \\left ( 40, \\quad \\mathrm{False}\\right ), \\quad \\left ( 42, \\quad \\mathrm{False}\\right ), \\quad \\left ( 43, \\quad \\mathrm{False}\\right ), \\quad \\left ( 45, \\quad \\mathrm{False}\\right ), \\quad \\left ( 46, \\quad \\mathrm{False}\\right ), \\quad \\left ( 48, \\quad \\mathrm{False}\\right ), \\quad \\left ( 49, \\quad \\mathrm{False}\\right )\\right ]$$"
      ],
      "text/plain": [
       "[(2, True), (5, True), (8, True), (11, True), (14, True), (17, True), (19, Tru\n",
       "e), (20, True), (22, True), (23, True), (25, True), (26, True), (28, True), (3\n",
       "1, True), (34, True), (37, False), (40, False), (42, False), (43, False), (45,\n",
       " False), (46, False), (48, False), (49, False)]"
      ]
     },
     "execution_count": 24,
     "metadata": {},
     "output_type": "execute_result"
    }
   ],
   "source": [
    "[(n, calc_teo4_expr6(n).evalf() < calc_teo4_expr5(n).doit().evalf()) for n in range(0, 50) if T(-(n+1)).evalf() < 0]"
   ]
  },
  {
   "cell_type": "code",
   "execution_count": 25,
   "metadata": {
    "collapsed": false,
    "deletable": true,
    "editable": true
   },
   "outputs": [
    {
     "data": {
      "image/png": "[encoded data removed]",
      "text/latex": [
       "$$\\sum_{k=n}^{\\infty} \\frac{1}{T{\\left (k \\right )}} < \\frac{1}{T{\\left (n \\right )} - T{\\left (n - 1 \\right )}}$$"
      ],
      "text/plain": [
       "  ∞                         \n",
       " ____                       \n",
       " ╲                          \n",
       "  ╲    1                    \n",
       "   ╲  ────          1       \n",
       "   ╱  T(k) < ───────────────\n",
       "  ╱          T(n) - T(n - 1)\n",
       " ╱                          \n",
       " ‾‾‾‾                       \n",
       "k = n                       "
      ]
     },
     "execution_count": 25,
     "metadata": {},
     "output_type": "execute_result"
    }
   ],
   "source": [
    "calc_teo4_expr7 = Lambda([n], 1/(T(n)-T(n-1)))\n",
    "Sum(1/T(k), (k,n,oo)) < 1/(T(n)-T(n-1))\n"
   ]
  },
  {
   "cell_type": "code",
   "execution_count": 26,
   "metadata": {
    "collapsed": false,
    "deletable": true,
    "editable": true
   },
   "outputs": [
    {
     "data": {
      "image/png": "[encoded data removed]",
      "text/latex": [
       "$$\\left [ \\left ( 2, \\quad \\mathrm{True}\\right ), \\quad \\left ( 5, \\quad \\mathrm{True}\\right ), \\quad \\left ( 8, \\quad \\mathrm{True}\\right ), \\quad \\left ( 11, \\quad \\mathrm{True}\\right ), \\quad \\left ( 14, \\quad \\mathrm{True}\\right ), \\quad \\left ( 17, \\quad \\mathrm{True}\\right ), \\quad \\left ( 19, \\quad \\mathrm{True}\\right ), \\quad \\left ( 20, \\quad \\mathrm{True}\\right ), \\quad \\left ( 22, \\quad \\mathrm{True}\\right ), \\quad \\left ( 23, \\quad \\mathrm{True}\\right ), \\quad \\left ( 25, \\quad \\mathrm{True}\\right ), \\quad \\left ( 26, \\quad \\mathrm{True}\\right ), \\quad \\left ( 28, \\quad \\mathrm{True}\\right ), \\quad \\left ( 31, \\quad \\mathrm{True}\\right ), \\quad \\left ( 34, \\quad \\mathrm{True}\\right ), \\quad \\left ( 37, \\quad \\mathrm{True}\\right ), \\quad \\left ( 40, \\quad \\mathrm{True}\\right ), \\quad \\left ( 42, \\quad \\mathrm{True}\\right ), \\quad \\left ( 43, \\quad \\mathrm{True}\\right ), \\quad \\left ( 45, \\quad \\mathrm{True}\\right ), \\quad \\left ( 46, \\quad \\mathrm{True}\\right ), \\quad \\left ( 48, \\quad \\mathrm{True}\\right ), \\quad \\left ( 49, \\quad \\mathrm{True}\\right )\\right ]$$"
      ],
      "text/plain": [
       "[(2, True), (5, True), (8, True), (11, True), (14, True), (17, True), (19, Tru\n",
       "e), (20, True), (22, True), (23, True), (25, True), (26, True), (28, True), (3\n",
       "1, True), (34, True), (37, True), (40, True), (42, True), (43, True), (45, Tru\n",
       "e), (46, True), (48, True), (49, True)]"
      ]
     },
     "execution_count": 26,
     "metadata": {},
     "output_type": "execute_result"
    }
   ],
   "source": [
    "[(n, calc_teo4_expr5(n).evalf() < calc_teo4_expr7(n).doit().evalf()) for n in range(0, 50) if T(-(n+1)).evalf() < 0]"
   ]
  },
  {
   "cell_type": "code",
   "execution_count": 27,
   "metadata": {
    "collapsed": false,
    "deletable": true,
    "editable": true
   },
   "outputs": [
    {
     "data": {
      "image/png": "[encoded data removed]",
      "text/latex": [
       "$$\\left( n \\mapsto \\lfloor{\\frac{1}{\\sum_{k=n}^{\\infty} \\frac{1}{T{\\left (k \\right )}}}}\\rfloor \\right)$$"
      ],
      "text/plain": [
       "    ⎢    1     ⎥\n",
       "n ↦ ⎢──────────⎥\n",
       "    ⎢  ∞       ⎥\n",
       "    ⎢ ____     ⎥\n",
       "    ⎢ ╲        ⎥\n",
       "    ⎢  ╲    1  ⎥\n",
       "    ⎢   ╲  ────⎥\n",
       "    ⎢   ╱  T(k)⎥\n",
       "    ⎢  ╱       ⎥\n",
       "    ⎢ ╱        ⎥\n",
       "    ⎢ ‾‾‾‾     ⎥\n",
       "    ⎣k = n     ⎦"
      ]
     },
     "execution_count": 27,
     "metadata": {},
     "output_type": "execute_result"
    }
   ],
   "source": [
    "calc_teo4_expr8 = Lambda([n], floor((Sum(1/T(k), (k,n,oo))**(-1))))\n",
    "calc_teo4_expr8"
   ]
  },
  {
   "cell_type": "code",
   "execution_count": 47,
   "metadata": {
    "collapsed": false,
    "deletable": true,
    "editable": true
   },
   "outputs": [
    {
     "data": {
      "text/plain": [
       "[(2, 0, 0, True),\n",
       " (5, 3.00, 3.00000000000000, True),\n",
       " (8, 20.00, 20.0000000000000, True),\n",
       " (11, 125.0, 125.000000000000, True),\n",
       " (14, 778.00, 778.000000000000, True),\n",
       " (17, 4841.00, 4841.00000000000, True),\n",
       " (19, 16377.0, 16377.0000000000, True),\n",
       " (20, 30122.00, 30122.0000000000, True),\n",
       " (22, 101903.0, 101902.000000000, False),\n",
       " (23, 187429.0, 187427.000000000, False),\n",
       " (25, 634081.00, 634061.000000000, False),\n",
       " (26, 1166257.0, 1166220.00000000, False),\n",
       " (28, 3945524.00, 3945294.00000000, False),\n",
       " (31, 24549432.00, 24548655.0000000, False),\n",
       " (34, 152753016.0, 152748176.000000, False),\n",
       " (37, 950494656.00, 950439251.000000, False),\n",
       " (40, 5914069964.00, 5913882532.00000, False),\n",
       " (42, 0, 20006521300.0000, False),\n",
       " (43, 0, 36797729645.0000, False),\n",
       " (45, 0, 124485827703.000, False),\n",
       " (46, 0, 228965134106.000, False),\n",
       " (48, 0, 774583500376.000, False),\n",
       " (49, 0, 1424681173049.00, False)]"
      ]
     },
     "execution_count": 47,
     "metadata": {},
     "output_type": "execute_result"
    }
   ],
   "source": [
    "#Con strict = true nel evalf restituisce eccezione\n",
    "[(n, calc_teo4_expr8(n).evalf(), (T(n).evalf()-T(n-1).evalf()), (T(n).evalf()-T(n-1).evalf()) ==calc_teo4_expr8(n).evalf() ) for n in range(0, 50) if T(-(n+1)).evalf() < 0]"
   ]
  },
  {
   "cell_type": "markdown",
   "metadata": {
    "collapsed": true,
    "deletable": true,
    "editable": true
   },
   "source": [
    "Proviamo ora il caso in cui $T_{-(n+1)}>0$.\n",
    "$$\\frac{1}{T_n - T_{n-1}} < \\sum_{k =n}^{\\infty} \\frac{1}{T_k} < \\frac{1}{T_n - T_{n-1} - 1}\\ \\text{se}\\ T_{-(n+1)} > 0$$"
   ]
  },
  {
   "cell_type": "code",
   "execution_count": 29,
   "metadata": {
    "collapsed": false,
    "deletable": true,
    "editable": true
   },
   "outputs": [
    {
     "data": {
      "image/png": "[encoded data removed]",
      "text/latex": [
       "$$\\frac{1}{T{\\left (n \\right )} - T{\\left (n - 1 \\right )}} < \\sum_{k=n}^{\\infty} \\frac{1}{T{\\left (k \\right )}}$$"
      ],
      "text/plain": [
       "                    ∞       \n",
       "                   ____     \n",
       "                   ╲        \n",
       "                    ╲    1  \n",
       "       1             ╲  ────\n",
       "─────────────── <    ╱  T(k)\n",
       "T(n) - T(n - 1)     ╱       \n",
       "                   ╱        \n",
       "                   ‾‾‾‾     \n",
       "                  k = n     "
      ]
     },
     "execution_count": 29,
     "metadata": {},
     "output_type": "execute_result"
    }
   ],
   "source": [
    " 1/(T(n)-T(n-1)) < Sum(1/T(k), (k,n,oo))"
   ]
  },
  {
   "cell_type": "code",
   "execution_count": 30,
   "metadata": {
    "collapsed": false,
    "deletable": true,
    "editable": true
   },
   "outputs": [
    {
     "data": {
      "image/png": "[encoded data removed]",
      "text/latex": [
       "$$\\left [ \\left ( 1, \\quad \\mathrm{True}\\right ), \\quad \\left ( 4, \\quad \\mathrm{True}\\right ), \\quad \\left ( 6, \\quad \\mathrm{True}\\right ), \\quad \\left ( 7, \\quad \\mathrm{True}\\right ), \\quad \\left ( 9, \\quad \\mathrm{True}\\right ), \\quad \\left ( 10, \\quad \\mathrm{True}\\right ), \\quad \\left ( 12, \\quad \\mathrm{True}\\right ), \\quad \\left ( 13, \\quad \\mathrm{True}\\right ), \\quad \\left ( 15, \\quad \\mathrm{True}\\right ), \\quad \\left ( 18, \\quad \\mathrm{True}\\right ), \\quad \\left ( 21, \\quad \\mathrm{True}\\right ), \\quad \\left ( 24, \\quad \\mathrm{True}\\right ), \\quad \\left ( 27, \\quad \\mathrm{True}\\right ), \\quad \\left ( 29, \\quad \\mathrm{False}\\right ), \\quad \\left ( 30, \\quad \\mathrm{False}\\right ), \\quad \\left ( 32, \\quad \\mathrm{False}\\right ), \\quad \\left ( 33, \\quad \\mathrm{False}\\right ), \\quad \\left ( 35, \\quad \\mathrm{False}\\right ), \\quad \\left ( 36, \\quad \\mathrm{False}\\right ), \\quad \\left ( 38, \\quad \\mathrm{False}\\right ), \\quad \\left ( 39, \\quad \\mathrm{False}\\right ), \\quad \\left ( 41, \\quad \\mathrm{False}\\right ), \\quad \\left ( 44, \\quad \\mathrm{False}\\right ), \\quad \\left ( 47, \\quad \\mathrm{False}\\right )\\right ]$$"
      ],
      "text/plain": [
       "[(1, True), (4, True), (6, True), (7, True), (9, True), (10, True), (12, True)\n",
       ", (13, True), (15, True), (18, True), (21, True), (24, True), (27, True), (29,\n",
       " False), (30, False), (32, False), (33, False), (35, False), (36, False), (38,\n",
       " False), (39, False), (41, False), (44, False), (47, False)]"
      ]
     },
     "execution_count": 30,
     "metadata": {},
     "output_type": "execute_result"
    }
   ],
   "source": [
    "[(n, calc_teo4_expr7(n).evalf() < calc_teo4_expr5(n).doit().evalf()) for n in range(0, 50)  if T(-(n+1)).evalf() > 0]"
   ]
  },
  {
   "cell_type": "code",
   "execution_count": 31,
   "metadata": {
    "collapsed": false,
    "deletable": true,
    "editable": true
   },
   "outputs": [
    {
     "data": {
      "image/png": "[encoded data removed]",
      "text/latex": [
       "$$\\sum_{k=n}^{\\infty} \\frac{1}{T{\\left (k \\right )}} < \\frac{1}{T{\\left (n \\right )} - T{\\left (n - 1 \\right )} - 1}$$"
      ],
      "text/plain": [
       "  ∞                             \n",
       " ____                           \n",
       " ╲                              \n",
       "  ╲    1                        \n",
       "   ╲  ────            1         \n",
       "   ╱  T(k) < ───────────────────\n",
       "  ╱          T(n) - T(n - 1) - 1\n",
       " ╱                              \n",
       " ‾‾‾‾                           \n",
       "k = n                           "
      ]
     },
     "execution_count": 31,
     "metadata": {},
     "output_type": "execute_result"
    }
   ],
   "source": [
    "Sum(1/T(k), (k,n,oo)) < 1/(T(n)-T(n-1)-1)"
   ]
  },
  {
   "cell_type": "code",
   "execution_count": 32,
   "metadata": {
    "collapsed": false,
    "deletable": true,
    "editable": true
   },
   "outputs": [
    {
     "data": {
      "image/png": "[encoded data removed]",
      "text/latex": [
       "$$\\left [ \\left ( 1, \\quad \\mathrm{True}\\right ), \\quad \\left ( 4, \\quad \\mathrm{True}\\right ), \\quad \\left ( 6, \\quad \\mathrm{True}\\right ), \\quad \\left ( 7, \\quad \\mathrm{True}\\right ), \\quad \\left ( 9, \\quad \\mathrm{True}\\right ), \\quad \\left ( 10, \\quad \\mathrm{True}\\right ), \\quad \\left ( 12, \\quad \\mathrm{True}\\right ), \\quad \\left ( 13, \\quad \\mathrm{True}\\right ), \\quad \\left ( 15, \\quad \\mathrm{True}\\right ), \\quad \\left ( 18, \\quad \\mathrm{True}\\right ), \\quad \\left ( 21, \\quad \\mathrm{True}\\right ), \\quad \\left ( 24, \\quad \\mathrm{True}\\right ), \\quad \\left ( 27, \\quad \\mathrm{True}\\right ), \\quad \\left ( 29, \\quad \\mathrm{True}\\right ), \\quad \\left ( 30, \\quad \\mathrm{True}\\right ), \\quad \\left ( 32, \\quad \\mathrm{True}\\right ), \\quad \\left ( 33, \\quad \\mathrm{True}\\right ), \\quad \\left ( 35, \\quad \\mathrm{True}\\right ), \\quad \\left ( 36, \\quad \\mathrm{True}\\right ), \\quad \\left ( 38, \\quad \\mathrm{True}\\right ), \\quad \\left ( 39, \\quad \\mathrm{True}\\right ), \\quad \\left ( 41, \\quad \\mathrm{True}\\right ), \\quad \\left ( 44, \\quad \\mathrm{True}\\right ), \\quad \\left ( 47, \\quad \\mathrm{True}\\right )\\right ]$$"
      ],
      "text/plain": [
       "[(1, True), (4, True), (6, True), (7, True), (9, True), (10, True), (12, True)\n",
       ", (13, True), (15, True), (18, True), (21, True), (24, True), (27, True), (29,\n",
       " True), (30, True), (32, True), (33, True), (35, True), (36, True), (38, True)\n",
       ", (39, True), (41, True), (44, True), (47, True)]"
      ]
     },
     "execution_count": 32,
     "metadata": {},
     "output_type": "execute_result"
    }
   ],
   "source": [
    "calc_teo3_expr9 = Lambda([n], 1/(T(n)-T(n-1)-1))\n",
    "[(n, calc_teo4_expr5(n).doit().evalf() < calc_teo3_expr9(n).evalf()) for n in range(0, 50)  if T(-(n+1)).evalf() > 0]"
   ]
  },
  {
   "cell_type": "code",
   "execution_count": 33,
   "metadata": {
    "collapsed": false,
    "deletable": true,
    "editable": true
   },
   "outputs": [
    {
     "data": {
      "text/plain": [
       "[(1, 0, 0, True),\n",
       " (4, 1.0, 1.00000000000000, True),\n",
       " (6, 5.00, 5.00000000000000, True),\n",
       " (7, 10.0, 10.0000000000000, True),\n",
       " (9, 36.00, 36.0000000000000, True),\n",
       " (10, 67.00, 67.0000000000000, True),\n",
       " (12, 229.0, 229.000000000000, True),\n",
       " (13, 422.00, 422.000000000000, True),\n",
       " (15, 1430.0, 1430.00000000000, True),\n",
       " (18, 8903.00, 8903.00000000000, True),\n",
       " (21, 55403.00, 55402.0000000000, False),\n",
       " (24, 344738.00, 344731.000000000, False),\n",
       " (27, 2145081.00, 2145012.00000000, False),\n",
       " (29, 7256757.00, 7256526.00000000, False),\n",
       " (30, 13347257.0, 13346833.0000000, False),\n",
       " (32, 45153446.00, 45152015.0000000, False),\n",
       " (33, 83050136.00, 83047504.0000000, False),\n",
       " (35, 280956600.00, 280947696.000000, False),\n",
       " (36, 516773501.00, 516743377.000000, False),\n",
       " (38, 1748185730.0, 1748130325.00000, False),\n",
       " (39, 3215414859.00, 3215312954.00000, False),\n",
       " (41, 10877513242.0, 10877325812.0000, False),\n",
       " (44, 0, 67681576757.0000, False),\n",
       " (47, 0, 421132538566.000, False)]"
      ]
     },
     "execution_count": 33,
     "metadata": {},
     "output_type": "execute_result"
    }
   ],
   "source": [
    "[(n, calc_teo4_expr8(n).evalf(), (T(n).evalf(maxn=3000)-T(n-1).evalf() -1), (T(n).evalf()-T(n-1).evalf() - 1) ==calc_teo4_expr8(n).evalf() ) for n in range(0, 50) if T(-(n+1)).evalf() > 0]\n"
   ]
  },
  {
   "cell_type": "markdown",
   "metadata": {
    "deletable": true,
    "editable": true
   },
   "source": [
    "Il Teorema 4 appena descritto non vale nel caso in cui $T_{-(n+1)} = 0$, questo si verifica per esempio quando $n=3$. \n",
    "Visto che: $$\\sum_{k=3}^{\\infty} \\frac{1}{T_k} > \\sum_{k=1}^{\\infty} \\frac{1}{2^k} = 1$$\n",
    "Abbiamo:\n",
    "$$\\left\\lfloor\\left(\\sum_{k=3}^{\\infty} \\frac{1}{T_k}\\right)^{-1}\\right\\rfloor = 0$$\n",
    "Proviamo numericamente le due identità mostrate:"
   ]
  },
  {
   "cell_type": "code",
   "execution_count": 56,
   "metadata": {
    "collapsed": false,
    "deletable": true,
    "editable": true
   },
   "outputs": [
    {
     "data": {
      "image/png": "[encoded data removed]",
      "text/latex": [
       "$$\\left ( 1.06122908510549, \\quad 1.0\\right )$$"
      ],
      "text/plain": [
       "(1.06122908510549, 1.0)"
      ]
     },
     "execution_count": 56,
     "metadata": {},
     "output_type": "execute_result"
    }
   ],
   "source": [
    "(calc_teo4_expr5(3).evalf(), Sum(1/(2**k), (k, 1, oo)).evalf())\n",
    "#..."
   ]
  },
  {
   "cell_type": "code",
   "execution_count": 35,
   "metadata": {
    "collapsed": false,
    "deletable": true,
    "editable": true
   },
   "outputs": [
    {
     "data": {
      "image/png": "[encoded data removed]",
      "text/latex": [
       "$$0$$"
      ],
      "text/plain": [
       "0"
      ]
     },
     "execution_count": 35,
     "metadata": {},
     "output_type": "execute_result"
    }
   ],
   "source": [
    "math.floor(((calc_teo4_expr5(3).doit().evalf())**(-1)))"
   ]
  },
  {
   "cell_type": "markdown",
   "metadata": {
    "deletable": true,
    "editable": true
   },
   "source": [
    "Si può osservare che per $1 \\leq n \\leq 19$ se $ 3|n $, allora il valore di $T_{-n}$ è negativo. Quindi abbiamo il seguente corollario:\n",
    "###### Corollario 5:\n",
    "Sia $n < 19$ un intero positivo, con $n \\neq 16$. Allora:\n",
    "$$\\left\\lfloor\\left(\\sum_{k=n}^{\\infty} \\frac{1}{T_k}\\right)^{-1}\\right\\rfloor = \n",
    "\\begin{cases}\n",
    "T_n - T_{n-1}\\ \\text{se}\\ 3|(n+1) \\\\\n",
    "T_n - T_{n-1} -1\\ \\text{se}\\ \\neg (3|(n+1))\n",
    "\\end{cases}$$\n",
    "Effettuiamo una verifica numerica in entrambi i casi:"
   ]
  },
  {
   "cell_type": "code",
   "execution_count": 36,
   "metadata": {
    "collapsed": false,
    "deletable": true,
    "editable": true
   },
   "outputs": [
    {
     "data": {
      "text/plain": [
       "[(2, True), (5, True), (8, True), (11, True), (14, True), (17, True)]"
      ]
     },
     "execution_count": 36,
     "metadata": {},
     "output_type": "execute_result"
    }
   ],
   "source": [
    "[(n, math.floor((calc_teo4_expr5(n)**(-1)).doit().evalf()) == T(n).evalf()-T(n-1).evalf()) for n in range(0,19) if (n+1)%3==0]\n"
   ]
  },
  {
   "cell_type": "code",
   "execution_count": 37,
   "metadata": {
    "collapsed": false,
    "deletable": true,
    "editable": true
   },
   "outputs": [
    {
     "data": {
      "text/plain": [
       "[(1, True),\n",
       " (3, True),\n",
       " (4, True),\n",
       " (6, True),\n",
       " (7, True),\n",
       " (9, True),\n",
       " (10, True),\n",
       " (12, True),\n",
       " (13, True),\n",
       " (15, True),\n",
       " (16, False),\n",
       " (18, True)]"
      ]
     },
     "execution_count": 37,
     "metadata": {},
     "output_type": "execute_result"
    }
   ],
   "source": [
    "[(n, math.floor((calc_teo4_expr5(n)**(-1)).doit().evalf()) == T(n).evalf()-T(n-1).evalf()-1) for n in range(1,19) if (n+1)%3!=0]\n"
   ]
  },
  {
   "cell_type": "markdown",
   "metadata": {
    "deletable": true,
    "editable": true
   },
   "source": [
    "Come si può notare l'uguaglianza vale per tutti i casi tranne che per $n=16$."
   ]
  },
  {
   "cell_type": "markdown",
   "metadata": {
    "collapsed": true,
    "deletable": true,
    "editable": true
   },
   "source": [
    "###### Teorema 6:\n",
    "Sia $n>1$ un intero positivo, allora:\n",
    "\n",
    "$$\\left\\lfloor\\left(\\sum_{k=n}^{\\infty} \\frac{(-1)^k)}{T_k}\\right)^{-1}\\right\\rfloor = \n",
    "\\begin{cases}\n",
    "(-1)^n (T_n + T_{n-1})\\ \\text{se}\\ (-1)^n T_{-(n+1)} > 0 \\\\\n",
    "(-1)^n (T_n + T_{n-1} -1)\\ \\text{se}\\ (-1)^n T_{-(n+1)} < 0\n",
    "\\end{cases}$$\n",
    "\n",
    "Dimostrazione:\n",
    "\n",
    "Osserviamo che\n",
    "$$\\frac{1}{(-1)^{n}(T_n+T_{n-1})} - \\frac{(-1)^n}{T_n} - \\frac{1}{(-1)^{n+1}(T_{n+1}+T_{n})} = \n",
    "\\frac{(-1)^{n}T_{-(n+1)}}{T_{n}(T_{n}+T_{n-1})(T_{n+1}+T_{n})}$$\n",
    "Effettuiamo una prova numerica di questa uguaglianza:"
   ]
  },
  {
   "cell_type": "code",
   "execution_count": 38,
   "metadata": {
    "collapsed": false,
    "deletable": true,
    "editable": true
   },
   "outputs": [
    {
     "data": {
      "image/png": "[encoded data removed]",
      "text/latex": [
       "$$- \\frac{\\left(-1\\right)^{n}}{T{\\left (n \\right )}} - \\frac{\\left(-1\\right)^{- n - 1}}{T{\\left (n \\right )} + T{\\left (n + 1 \\right )}} + \\frac{\\left(-1\\right)^{- n}}{T{\\left (n \\right )} + T{\\left (n - 1 \\right )}}$$"
      ],
      "text/plain": [
       "      n          -n - 1              -n    \n",
       "  (-1)       (-1)                (-1)      \n",
       "- ───── - ─────────────── + ───────────────\n",
       "   T(n)   T(n) + T(n + 1)   T(n) + T(n - 1)"
      ]
     },
     "execution_count": 38,
     "metadata": {},
     "output_type": "execute_result"
    }
   ],
   "source": [
    "teo6_expr1 = 1/(((-1)**n)*(T(n)+T(n-1))) - ((-1)**n)/T(n) - (1/((-1)**(n+1)*(T(n+1)+T(n))))\n",
    "teo6_expr1"
   ]
  },
  {
   "cell_type": "code",
   "execution_count": 39,
   "metadata": {
    "collapsed": false,
    "deletable": true,
    "editable": true
   },
   "outputs": [
    {
     "data": {
      "image/png": "[encoded data removed]",
      "text/latex": [
       "$$\\frac{\\left(-1\\right)^{n} T{\\left (- n - 1 \\right )}}{\\left(T{\\left (n \\right )} + T{\\left (n - 1 \\right )}\\right) \\left(T{\\left (n \\right )} + T{\\left (n + 1 \\right )}\\right) T{\\left (n \\right )}}$$"
      ],
      "text/plain": [
       "                n                       \n",
       "            (-1) ⋅T(-n - 1)             \n",
       "────────────────────────────────────────\n",
       "(T(n) + T(n - 1))⋅(T(n) + T(n + 1))⋅T(n)"
      ]
     },
     "execution_count": 39,
     "metadata": {},
     "output_type": "execute_result"
    }
   ],
   "source": [
    "teo6_expr2 = ((-1)**n * T(-(n+1)))/(T(n)*(T(n)+T(n-1))*(T(n+1)+T(n)))\n",
    "teo6_expr2"
   ]
  },
  {
   "cell_type": "code",
   "execution_count": 40,
   "metadata": {
    "collapsed": false,
    "deletable": true,
    "editable": true
   },
   "outputs": [
    {
     "data": {
      "image/png": "[encoded data removed]",
      "text/latex": [
       "$$\\left [ 0, \\quad 0, \\quad 0, \\quad 0, \\quad 0, \\quad 0, \\quad 0, \\quad 0, \\quad 0, \\quad 0, \\quad 0, \\quad 0, \\quad 0, \\quad 0, \\quad 0, \\quad 0, \\quad 0, \\quad 0, \\quad 0, \\quad 0, \\quad 0, \\quad 0, \\quad 0, \\quad 0, \\quad 0, \\quad 0, \\quad 0, \\quad 0, \\quad 0, \\quad 0, \\quad 0, \\quad 0, \\quad 0, \\quad 0, \\quad 0, \\quad 0, \\quad 0, \\quad 0\\right ]$$"
      ],
      "text/plain": [
       "[0, 0, 0, 0, 0, 0, 0, 0, 0, 0, 0, 0, 0, 0, 0, 0, 0, 0, 0, 0, 0, 0, 0, 0, 0, 0,\n",
       " 0, 0, 0, 0, 0, 0, 0, 0, 0, 0, 0, 0]"
      ]
     },
     "execution_count": 40,
     "metadata": {},
     "output_type": "execute_result"
    }
   ],
   "source": [
    "calc_teo6_expr1 = Lambda([n], teo6_expr1)\n",
    "calc_teo6_expr2 = Lambda([n], teo6_expr2)\n",
    "[(calc_teo6_expr1(n).evalf(chop=True) - calc_teo6_expr2(n).evalf(chop=True)) for n in range(2, 40)]"
   ]
  },
  {
   "cell_type": "markdown",
   "metadata": {
    "collapsed": true,
    "deletable": true,
    "editable": true
   },
   "source": [
    "Ora dividiamo i due casi, il primo in cui $(-1)^nT_{-(n+1)} > 0$, ed il secondo in cui $(-1)^nT_{-(n+1)} < 0$.\n",
    "\n",
    "Se $(-1)^nT_{-(n+1)} > 0$:"
   ]
  },
  {
   "cell_type": "code",
   "execution_count": 41,
   "metadata": {
    "collapsed": false
   },
   "outputs": [
    {
     "data": {
      "image/png": "[encoded data removed]",
      "text/latex": [
       "$$\\frac{\\left(-1\\right)^{- n}}{T{\\left (n \\right )} + T{\\left (n - 1 \\right )}} > \\frac{\\left(-1\\right)^{n}}{T{\\left (n \\right )}} + \\frac{\\left(-1\\right)^{- n - 1}}{T{\\left (n \\right )} + T{\\left (n + 1 \\right )}}$$"
      ],
      "text/plain": [
       "         -n           n          -n - 1  \n",
       "     (-1)         (-1)       (-1)        \n",
       "─────────────── > ───── + ───────────────\n",
       "T(n) + T(n - 1)    T(n)   T(n) + T(n + 1)"
      ]
     },
     "execution_count": 41,
     "metadata": {},
     "output_type": "execute_result"
    }
   ],
   "source": [
    "teo6_expr3 = 1/((-1)**(n)*(T(n)+T(n-1)))\n",
    "teo6_expr4 = ((-1)**n)/T(n) + 1/((-1)**(n+1)*(T(n+1)+T(n)))\n",
    "teo6_expr3 > teo6_expr4"
   ]
  },
  {
   "cell_type": "code",
   "execution_count": 42,
   "metadata": {
    "collapsed": false
   },
   "outputs": [
    {
     "data": {
      "image/png": "[encoded data removed]",
      "text/latex": [
       "$$\\left [ \\left ( 4, \\quad \\mathrm{True}\\right ), \\quad \\left ( 5, \\quad \\mathrm{True}\\right ), \\quad \\left ( 6, \\quad \\mathrm{True}\\right ), \\quad \\left ( 10, \\quad \\mathrm{True}\\right ), \\quad \\left ( 11, \\quad \\mathrm{True}\\right ), \\quad \\left ( 12, \\quad \\mathrm{True}\\right ), \\quad \\left ( 17, \\quad \\mathrm{True}\\right ), \\quad \\left ( 18, \\quad \\mathrm{True}\\right ), \\quad \\left ( 19, \\quad \\mathrm{True}\\right ), \\quad \\left ( 23, \\quad \\mathrm{True}\\right ), \\quad \\left ( 24, \\quad \\mathrm{True}\\right ), \\quad \\left ( 25, \\quad \\mathrm{True}\\right ), \\quad \\left ( 30, \\quad \\mathrm{True}\\right ), \\quad \\left ( 31, \\quad \\mathrm{True}\\right ), \\quad \\left ( 32, \\quad \\mathrm{True}\\right ), \\quad \\left ( 36, \\quad \\mathrm{True}\\right ), \\quad \\left ( 37, \\quad \\mathrm{True}\\right ), \\quad \\left ( 38, \\quad \\mathrm{True}\\right ), \\quad \\left ( 43, \\quad \\mathrm{False}\\right ), \\quad \\left ( 44, \\quad \\mathrm{False}\\right ), \\quad \\left ( 45, \\quad \\mathrm{False}\\right ), \\quad \\left ( 49, \\quad \\mathrm{False}\\right )\\right ]$$"
      ],
      "text/plain": [
       "[(4, True), (5, True), (6, True), (10, True), (11, True), (12, True), (17, Tru\n",
       "e), (18, True), (19, True), (23, True), (24, True), (25, True), (30, True), (3\n",
       "1, True), (32, True), (36, True), (37, True), (38, True), (43, False), (44, Fa\n",
       "lse), (45, False), (49, False)]"
      ]
     },
     "execution_count": 42,
     "metadata": {},
     "output_type": "execute_result"
    }
   ],
   "source": [
    "calc_teo6_expr3 = Lambda([n], teo6_expr3)\n",
    "calc_teo6_expr4 = Lambda([n], teo6_expr4)\n",
    "#STESSO PROBLEMA DOPO CIRCA 40\n",
    "[(n, calc_teo6_expr3(n).evalf() > calc_teo6_expr4(n).evalf()) for n in range(2, 50) if (((-1)**n)*T(-n-1)).evalf()>0]"
   ]
  },
  {
   "cell_type": "markdown",
   "metadata": {},
   "source": [
    "Otteniamo quindi:\n",
    "$$\\sum_{k=n}^{\\infty} \\frac{(-1)^k}{T_k} < \\frac{1}{(-1)^n(T_n+T_{n-1})}$$"
   ]
  },
  {
   "cell_type": "code",
   "execution_count": 43,
   "metadata": {
    "collapsed": false
   },
   "outputs": [
    {
     "data": {
      "image/png": "[encoded data removed]",
      "text/latex": [
       "$$\\left [ \\left ( 4, \\quad \\mathrm{True}\\right ), \\quad \\left ( 5, \\quad \\mathrm{True}\\right ), \\quad \\left ( 6, \\quad \\mathrm{True}\\right ), \\quad \\left ( 10, \\quad \\mathrm{True}\\right ), \\quad \\left ( 11, \\quad \\mathrm{True}\\right ), \\quad \\left ( 12, \\quad \\mathrm{True}\\right ), \\quad \\left ( 17, \\quad \\mathrm{True}\\right ), \\quad \\left ( 18, \\quad \\mathrm{True}\\right ), \\quad \\left ( 19, \\quad \\mathrm{True}\\right ), \\quad \\left ( 23, \\quad \\mathrm{True}\\right ), \\quad \\left ( 24, \\quad \\mathrm{True}\\right ), \\quad \\left ( 25, \\quad \\mathrm{True}\\right ), \\quad \\left ( 30, \\quad \\mathrm{False}\\right ), \\quad \\left ( 31, \\quad \\mathrm{False}\\right ), \\quad \\left ( 32, \\quad \\mathrm{False}\\right ), \\quad \\left ( 36, \\quad \\mathrm{False}\\right ), \\quad \\left ( 37, \\quad \\mathrm{False}\\right ), \\quad \\left ( 38, \\quad \\mathrm{False}\\right ), \\quad \\left ( 43, \\quad \\mathrm{False}\\right ), \\quad \\left ( 44, \\quad \\mathrm{False}\\right ), \\quad \\left ( 45, \\quad \\mathrm{False}\\right ), \\quad \\left ( 49, \\quad \\mathrm{False}\\right )\\right ]$$"
      ],
      "text/plain": [
       "[(4, True), (5, True), (6, True), (10, True), (11, True), (12, True), (17, Tru\n",
       "e), (18, True), (19, True), (23, True), (24, True), (25, True), (30, False), (\n",
       "31, False), (32, False), (36, False), (37, False), (38, False), (43, False), (\n",
       "44, False), (45, False), (49, False)]"
      ]
     },
     "execution_count": 43,
     "metadata": {},
     "output_type": "execute_result"
    }
   ],
   "source": [
    "calc_teo6_expr5 = Lambda([n], Sum(((-1)**k)/(T(k)), (k,n,oo)))\n",
    "calc_teo6_expr6 = Lambda([n], 1/((-1)**n * (T(n)+T(n-1))))\n",
    "# :'(\n",
    "[(n, calc_teo6_expr5(n).evalf() < calc_teo6_expr6(n).evalf()) for n in range(2, 50) if (((-1)**n)*T(-n-1)).evalf()>0  ]"
   ]
  },
  {
   "cell_type": "markdown",
   "metadata": {},
   "source": [
    "Il secondo caso, ovvero quello in cui $(-1)^nT_{-(n+1)} < 0$ è mostrato di seguito:\n",
    "$$\\sum_{k=n}^{\\infty} \\frac{(-1)^k}{T_k} > \\frac{1}{(-1)^n(T_n+T_{n-1})}$$"
   ]
  },
  {
   "cell_type": "code",
   "execution_count": 44,
   "metadata": {
    "collapsed": false
   },
   "outputs": [
    {
     "data": {
      "image/png": "[encoded data removed]",
      "text/latex": [
       "$$\\left [ \\left ( 2, \\quad \\mathrm{True}\\right ), \\quad \\left ( 7, \\quad \\mathrm{True}\\right ), \\quad \\left ( 8, \\quad \\mathrm{True}\\right ), \\quad \\left ( 9, \\quad \\mathrm{True}\\right ), \\quad \\left ( 13, \\quad \\mathrm{True}\\right ), \\quad \\left ( 14, \\quad \\mathrm{True}\\right ), \\quad \\left ( 15, \\quad \\mathrm{True}\\right ), \\quad \\left ( 20, \\quad \\mathrm{True}\\right ), \\quad \\left ( 21, \\quad \\mathrm{True}\\right ), \\quad \\left ( 22, \\quad \\mathrm{True}\\right ), \\quad \\left ( 26, \\quad \\mathrm{True}\\right ), \\quad \\left ( 27, \\quad \\mathrm{True}\\right ), \\quad \\left ( 28, \\quad \\mathrm{True}\\right ), \\quad \\left ( 29, \\quad \\mathrm{True}\\right ), \\quad \\left ( 33, \\quad \\mathrm{True}\\right ), \\quad \\left ( 34, \\quad \\mathrm{True}\\right ), \\quad \\left ( 35, \\quad \\mathrm{True}\\right ), \\quad \\left ( 39, \\quad \\mathrm{True}\\right ), \\quad \\left ( 40, \\quad \\mathrm{True}\\right ), \\quad \\left ( 41, \\quad \\mathrm{True}\\right ), \\quad \\left ( 42, \\quad \\mathrm{True}\\right ), \\quad \\left ( 46, \\quad \\mathrm{True}\\right ), \\quad \\left ( 47, \\quad \\mathrm{True}\\right ), \\quad \\left ( 48, \\quad \\mathrm{True}\\right )\\right ]$$"
      ],
      "text/plain": [
       "[(2, True), (7, True), (8, True), (9, True), (13, True), (14, True), (15, True\n",
       "), (20, True), (21, True), (22, True), (26, True), (27, True), (28, True), (29\n",
       ", True), (33, True), (34, True), (35, True), (39, True), (40, True), (41, True\n",
       "), (42, True), (46, True), (47, True), (48, True)]"
      ]
     },
     "execution_count": 44,
     "metadata": {},
     "output_type": "execute_result"
    }
   ],
   "source": [
    "[(n, calc_teo6_expr5(n).evalf() > calc_teo6_expr6(n).evalf()) for n in range(2, 50) if (((-1)**n)*T(-n-1)).evalf()<0  ]"
   ]
  },
  {
   "cell_type": "markdown",
   "metadata": {},
   "source": [
    "Usando il secondo risultato del Lemma 2 si ottiene il risultato finale:\n",
    "$$\\left\\lfloor\\left(\\sum_{k=n}^{\\infty} \\frac{(-1)^k)}{T_k}\\right)^{-1}\\right\\rfloor = \n",
    "\\begin{cases}\n",
    "(-1)^n (T_n + T_{n-1})\\ \\text{se}\\ (-1)^n T_{-(n+1)} > 0 \\\\\n",
    "(-1)^n (T_n + T_{n-1} -1)\\ \\text{se}\\ (-1)^n T_{-(n+1)} < 0\n",
    "\\end{cases}$$\n",
    "Su cui si effettua una verifica numerica:"
   ]
  },
  {
   "cell_type": "code",
   "execution_count": 45,
   "metadata": {
    "collapsed": false
   },
   "outputs": [
    {
     "data": {
      "image/png": "[encoded data removed]",
      "text/latex": [
       "$$\\left [ \\left ( 4, \\quad 0\\right ), \\quad \\left ( 5, \\quad 0\\right ), \\quad \\left ( 6, \\quad 0\\right ), \\quad \\left ( 10, \\quad 0\\right ), \\quad \\left ( 11, \\quad 0\\right ), \\quad \\left ( 12, \\quad 0\\right ), \\quad \\left ( 17, \\quad 0\\right ), \\quad \\left ( 18, \\quad 0\\right ), \\quad \\left ( 19, \\quad -1.0\\right ), \\quad \\left ( 23, \\quad 5.0\\right ), \\quad \\left ( 24, \\quad -12.0\\right ), \\quad \\left ( 25, \\quad 19.0\\right ), \\quad \\left ( 30, \\quad -424.0\\right ), \\quad \\left ( 31, \\quad 778.0\\right ), \\quad \\left ( 32, \\quad -1432.0\\right ), \\quad \\left ( 36, \\quad -16378.0\\right ), \\quad \\left ( 37, \\quad 30122.0\\right ), \\quad \\left ( 38, \\quad -55403.0\\right ), \\quad \\left ( 43, \\quad 124485827703.0\\right ), \\quad \\left ( 44, \\quad -228965134106.0\\right ), \\quad \\left ( 45, \\quad 421132538567.0\\right ), \\quad \\left ( 49, \\quad 4819661885417.0\\right )\\right ]$$"
      ],
      "text/plain": [
       "[(4, 0), (5, 0), (6, 0), (10, 0), (11, 0), (12, 0), (17, 0), (18, 0), (19, -1.\n",
       "0), (23, 5.0), (24, -12.0), (25, 19.0), (30, -424.0), (31, 778.0), (32, -1432.\n",
       "0), (36, -16378.0), (37, 30122.0), (38, -55403.0), (43, 124485827703.0), (44, \n",
       "-228965134106.0), (45, 421132538567.0), (49, 4819661885417.0)]"
      ]
     },
     "execution_count": 45,
     "metadata": {},
     "output_type": "execute_result"
    }
   ],
   "source": [
    "teo6_expr7 = floor(Sum((-1)**k/T(k), (k,n,oo))**-1)\n",
    "calc_teo6_expr7 = Lambda([n], teo6_expr7)\n",
    "calc_teo6_expr8 = Lambda([n], ((-1)**n)*(T(n)+T(n-1)))\n",
    "[(n, (calc_teo6_expr7(n).evalf()-calc_teo6_expr8(n).evalf()))  for n in range(2, 50) if (((-1)**n)*T(-n-1)).evalf()>0]\n",
    "#EVBB"
   ]
  },
  {
   "cell_type": "code",
   "execution_count": 57,
   "metadata": {
    "collapsed": false
   },
   "outputs": [
    {
     "data": {
      "image/png": "[encoded data removed]",
      "text/latex": [
       "$$\\left [ \\left ( 2, \\quad 0\\right ), \\quad \\left ( 7, \\quad 0\\right ), \\quad \\left ( 8, \\quad 0\\right ), \\quad \\left ( 9, \\quad 0\\right ), \\quad \\left ( 13, \\quad 0\\right ), \\quad \\left ( 14, \\quad 0\\right ), \\quad \\left ( 15, \\quad 0\\right ), \\quad \\left ( 20, \\quad 0\\right ), \\quad \\left ( 21, \\quad 1.0\\right ), \\quad \\left ( 22, \\quad 2.0\\right ), \\quad \\left ( 26, \\quad 68.0\\right ), \\quad \\left ( 27, \\quad 68.0\\right ), \\quad \\left ( 28, \\quad -125.0\\right ), \\quad \\left ( 29, \\quad 230.0\\right ), \\quad \\left ( 33, \\quad 2633.0\\right ), \\quad \\left ( 34, \\quad 8904.0\\right ), \\quad \\left ( 35, \\quad -16376.0\\right ), \\quad \\left ( 39, \\quad 101902.0\\right ), \\quad \\left ( 40, \\quad -187425.0\\right ), \\quad \\left ( 41, \\quad -634071.0\\right ), \\quad \\left ( 42, \\quad -67681576757.0\\right ), \\quad \\left ( 46, \\quad -774583500375.0\\right ), \\quad \\left ( 47, \\quad 1424681173050.0\\right ), \\quad \\left ( 48, \\quad -2620397211991.0\\right )\\right ]$$"
      ],
      "text/plain": [
       "[(2, 0), (7, 0), (8, 0), (9, 0), (13, 0), (14, 0), (15, 0), (20, 0), (21, 1.0)\n",
       ", (22, 2.0), (26, 68.0), (27, 68.0), (28, -125.0), (29, 230.0), (33, 2633.0), \n",
       "(34, 8904.0), (35, -16376.0), (39, 101902.0), (40, -187425.0), (41, -634071.0)\n",
       ", (42, -67681576757.0), (46, -774583500375.0), (47, 1424681173050.0), (48, -26\n",
       "20397211991.0)]"
      ]
     },
     "execution_count": 57,
     "metadata": {},
     "output_type": "execute_result"
    }
   ],
   "source": [
    "calc_teo6_expr9 = Lambda([n], ((-1)**n)*(T(n)+T(n-1))-1)\n",
    "[(n, (calc_teo6_expr7(n).evalf()-calc_teo6_expr9(n).evalf()))  for n in range(2, 50) if (((-1)**n)*T(-n-1)).evalf()<0]\n",
    "#EVBB"
   ]
  },
  {
   "cell_type": "markdown",
   "metadata": {},
   "source": [
    "###### Teorema 7:\n"
   ]
  },
  {
   "cell_type": "markdown",
   "metadata": {},
   "source": [
    "Sia $n \\geq 4$ un intero positivo, allora:\n",
    "$$\\left\\lfloor\\left(\\sum_{k=n}^{\\infty} \\frac{1}{\\sum_{i = 1}^{k} T_i}\\right)^{-1}\\right\\rfloor = T(n)-1$$\n",
    "Dimostrazione:\n",
    "\n",
    "Usando il secondo punto del Lemma 1 possiamo scrivere questo.\n",
    "$$\\frac{1}{T_n} < \\sum_{k=n}^{\\infty}\\frac{2}{T_{k+2}+T_k-1} < \\frac{1}{T_n-1}\\qquad n\\geq4 $$\n",
    "Consideriamo ora $$\\left(\\frac{1}{T_n-1} - \\frac{2}{T_{n+2}+T_{n}-1} - \\frac{1}{T_{n+1}+1}\\right) > 0$$\n",
    "Quindi abbiamo:\n",
    "$$\\frac{2}{T_{n+2}+T_{n}-1} < \\frac{1}{T_n-1} -\\frac{1}{T_{n+1}+1} $$\n",
    "Verifichiamo:"
   ]
  },
  {
   "cell_type": "code",
   "execution_count": 64,
   "metadata": {
    "collapsed": false
   },
   "outputs": [
    {
     "data": {
      "image/png": "[encoded data removed]",
      "text/latex": [
       "$$\\left [ \\left ( 4, \\quad \\mathrm{True}\\right ), \\quad \\left ( 5, \\quad \\mathrm{True}\\right ), \\quad \\left ( 6, \\quad \\mathrm{True}\\right ), \\quad \\left ( 7, \\quad \\mathrm{True}\\right ), \\quad \\left ( 8, \\quad \\mathrm{True}\\right ), \\quad \\left ( 9, \\quad \\mathrm{True}\\right ), \\quad \\left ( 10, \\quad \\mathrm{True}\\right ), \\quad \\left ( 11, \\quad \\mathrm{True}\\right ), \\quad \\left ( 12, \\quad \\mathrm{True}\\right ), \\quad \\left ( 13, \\quad \\mathrm{True}\\right ), \\quad \\left ( 14, \\quad \\mathrm{True}\\right ), \\quad \\left ( 15, \\quad \\mathrm{True}\\right ), \\quad \\left ( 16, \\quad \\mathrm{True}\\right ), \\quad \\left ( 17, \\quad \\mathrm{True}\\right ), \\quad \\left ( 18, \\quad \\mathrm{True}\\right ), \\quad \\left ( 19, \\quad \\mathrm{True}\\right ), \\quad \\left ( 20, \\quad \\mathrm{True}\\right ), \\quad \\left ( 21, \\quad \\mathrm{True}\\right ), \\quad \\left ( 22, \\quad \\mathrm{True}\\right ), \\quad \\left ( 23, \\quad \\mathrm{True}\\right ), \\quad \\left ( 24, \\quad \\mathrm{True}\\right ), \\quad \\left ( 25, \\quad \\mathrm{True}\\right ), \\quad \\left ( 26, \\quad \\mathrm{True}\\right ), \\quad \\left ( 27, \\quad \\mathrm{True}\\right ), \\quad \\left ( 28, \\quad \\mathrm{True}\\right ), \\quad \\left ( 29, \\quad \\mathrm{True}\\right ), \\quad \\left ( 30, \\quad \\mathrm{True}\\right ), \\quad \\left ( 31, \\quad \\mathrm{True}\\right ), \\quad \\left ( 32, \\quad \\mathrm{True}\\right ), \\quad \\left ( 33, \\quad \\mathrm{True}\\right ), \\quad \\left ( 34, \\quad \\mathrm{True}\\right ), \\quad \\left ( 35, \\quad \\mathrm{True}\\right ), \\quad \\left ( 36, \\quad \\mathrm{True}\\right ), \\quad \\left ( 37, \\quad \\mathrm{True}\\right ), \\quad \\left ( 38, \\quad \\mathrm{True}\\right ), \\quad \\left ( 39, \\quad \\mathrm{True}\\right ), \\quad \\left ( 40, \\quad \\mathrm{True}\\right ), \\quad \\left ( 41, \\quad \\mathrm{True}\\right ), \\quad \\left ( 42, \\quad \\mathrm{True}\\right ), \\quad \\left ( 43, \\quad \\mathrm{True}\\right ), \\quad \\left ( 44, \\quad \\mathrm{True}\\right ), \\quad \\left ( 45, \\quad \\mathrm{True}\\right ), \\quad \\left ( 46, \\quad \\mathrm{True}\\right ), \\quad \\left ( 47, \\quad \\mathrm{True}\\right ), \\quad \\left ( 48, \\quad \\mathrm{True}\\right ), \\quad \\left ( 49, \\quad \\mathrm{True}\\right )\\right ]$$"
      ],
      "text/plain": [
       "[(4, True), (5, True), (6, True), (7, True), (8, True), (9, True), (10, True),\n",
       " (11, True), (12, True), (13, True), (14, True), (15, True), (16, True), (17, \n",
       "True), (18, True), (19, True), (20, True), (21, True), (22, True), (23, True),\n",
       " (24, True), (25, True), (26, True), (27, True), (28, True), (29, True), (30, \n",
       "True), (31, True), (32, True), (33, True), (34, True), (35, True), (36, True),\n",
       " (37, True), (38, True), (39, True), (40, True), (41, True), (42, True), (43, \n",
       "True), (44, True), (45, True), (46, True), (47, True), (48, True), (49, True)]"
      ]
     },
     "execution_count": 64,
     "metadata": {},
     "output_type": "execute_result"
    }
   ],
   "source": [
    "teo7_expr1 = 2/(T(n+2)+T(n)-1)\n",
    "calc_teo7_expr1 = Lambda([n],teo7_expr1)\n",
    "calc_teo7_expr2 = Lambda([n],1/(T(n)-1) - 1/T(n+1))\n",
    "[(n, calc_teo7_expr1(n).evalf() < calc_teo7_expr2(n).evalf()) for n in range(4, 50)]"
   ]
  },
  {
   "cell_type": "markdown",
   "metadata": {},
   "source": [
    "Perciò abbiamo:\n",
    "$$\\sum_{k=n}^{\\infty}\\frac{2}{T_{k+2}+T_k-1} < \\frac{1}{T_n-1} $$"
   ]
  },
  {
   "cell_type": "code",
   "execution_count": 78,
   "metadata": {
    "collapsed": false
   },
   "outputs": [
    {
     "data": {
      "image/png": "[encoded data removed]",
      "text/latex": [
       "$$\\left [ \\left ( 4, \\quad \\mathrm{True}\\right ), \\quad \\left ( 5, \\quad \\mathrm{True}\\right ), \\quad \\left ( 6, \\quad \\mathrm{True}\\right ), \\quad \\left ( 7, \\quad \\mathrm{True}\\right ), \\quad \\left ( 8, \\quad \\mathrm{True}\\right ), \\quad \\left ( 9, \\quad \\mathrm{True}\\right ), \\quad \\left ( 10, \\quad \\mathrm{True}\\right ), \\quad \\left ( 11, \\quad \\mathrm{True}\\right ), \\quad \\left ( 12, \\quad \\mathrm{True}\\right ), \\quad \\left ( 13, \\quad \\mathrm{True}\\right ), \\quad \\left ( 14, \\quad \\mathrm{True}\\right ), \\quad \\left ( 15, \\quad \\mathrm{True}\\right ), \\quad \\left ( 16, \\quad \\mathrm{True}\\right ), \\quad \\left ( 17, \\quad \\mathrm{True}\\right ), \\quad \\left ( 18, \\quad \\mathrm{True}\\right ), \\quad \\left ( 19, \\quad \\mathrm{True}\\right ), \\quad \\left ( 20, \\quad \\mathrm{True}\\right ), \\quad \\left ( 21, \\quad \\mathrm{True}\\right ), \\quad \\left ( 22, \\quad \\mathrm{True}\\right ), \\quad \\left ( 23, \\quad \\mathrm{True}\\right ), \\quad \\left ( 24, \\quad \\mathrm{True}\\right ), \\quad \\left ( 25, \\quad \\mathrm{True}\\right ), \\quad \\left ( 26, \\quad \\mathrm{True}\\right ), \\quad \\left ( 27, \\quad \\mathrm{True}\\right ), \\quad \\left ( 28, \\quad \\mathrm{True}\\right ), \\quad \\left ( 29, \\quad \\mathrm{True}\\right ), \\quad \\left ( 30, \\quad \\mathrm{True}\\right ), \\quad \\left ( 31, \\quad \\mathrm{True}\\right ), \\quad \\left ( 32, \\quad \\mathrm{True}\\right ), \\quad \\left ( 33, \\quad \\mathrm{True}\\right ), \\quad \\left ( 34, \\quad \\mathrm{True}\\right ), \\quad \\left ( 35, \\quad \\mathrm{True}\\right ), \\quad \\left ( 36, \\quad \\mathrm{True}\\right ), \\quad \\left ( 37, \\quad \\mathrm{True}\\right ), \\quad \\left ( 38, \\quad \\mathrm{True}\\right ), \\quad \\left ( 39, \\quad \\mathrm{True}\\right ), \\quad \\left ( 40, \\quad \\mathrm{True}\\right ), \\quad \\left ( 41, \\quad \\mathrm{True}\\right ), \\quad \\left ( 42, \\quad \\mathrm{True}\\right ), \\quad \\left ( 43, \\quad \\mathrm{True}\\right ), \\quad \\left ( 44, \\quad \\mathrm{True}\\right ), \\quad \\left ( 45, \\quad \\mathrm{True}\\right ), \\quad \\left ( 46, \\quad \\mathrm{True}\\right ), \\quad \\left ( 47, \\quad \\mathrm{True}\\right ), \\quad \\left ( 48, \\quad \\mathrm{True}\\right ), \\quad \\left ( 49, \\quad \\mathrm{True}\\right )\\right ]$$"
      ],
      "text/plain": [
       "[(4, True), (5, True), (6, True), (7, True), (8, True), (9, True), (10, True),\n",
       " (11, True), (12, True), (13, True), (14, True), (15, True), (16, True), (17, \n",
       "True), (18, True), (19, True), (20, True), (21, True), (22, True), (23, True),\n",
       " (24, True), (25, True), (26, True), (27, True), (28, True), (29, True), (30, \n",
       "True), (31, True), (32, True), (33, True), (34, True), (35, True), (36, True),\n",
       " (37, True), (38, True), (39, True), (40, True), (41, True), (42, True), (43, \n",
       "True), (44, True), (45, True), (46, True), (47, True), (48, True), (49, True)]"
      ]
     },
     "execution_count": 78,
     "metadata": {},
     "output_type": "execute_result"
    }
   ],
   "source": [
    "calc_teo7_expr3 = Lambda([n],Sum(calc_teo7_expr1(k),(k,n,oo)))\n",
    "calc_teo7_expr4 = Lambda([n], 1/(T(n)-1))\n",
    "\n",
    "[(n, calc_teo7_expr3(n).doit().evalf() < calc_teo7_expr4(n).evalf()) for n in range(4,50)]"
   ]
  },
  {
   "cell_type": "markdown",
   "metadata": {},
   "source": [
    "Però avremo anche che:\n",
    "$$\\frac{1}{T_n} - \\frac{2}{T_{n+2} + T_{n} -1 } - \\frac{1}{T_{n+1}} < 0 \\qquad n\\geq 4$$\n",
    "Da cui deriva:\n",
    "$$\\sum_{k=n}^{\\infty}\\frac{2}{T_{k+2} + T_{k} -1 } > \\frac{1}{T_n} $$"
   ]
  },
  {
   "cell_type": "code",
   "execution_count": 80,
   "metadata": {
    "collapsed": false
   },
   "outputs": [
    {
     "data": {
      "image/png": "[encoded data removed]",
      "text/latex": [
       "$$\\left [ \\left ( 4, \\quad \\mathrm{True}\\right ), \\quad \\left ( 5, \\quad \\mathrm{True}\\right ), \\quad \\left ( 6, \\quad \\mathrm{True}\\right ), \\quad \\left ( 7, \\quad \\mathrm{True}\\right ), \\quad \\left ( 8, \\quad \\mathrm{True}\\right ), \\quad \\left ( 9, \\quad \\mathrm{True}\\right ), \\quad \\left ( 10, \\quad \\mathrm{True}\\right ), \\quad \\left ( 11, \\quad \\mathrm{True}\\right ), \\quad \\left ( 12, \\quad \\mathrm{True}\\right ), \\quad \\left ( 13, \\quad \\mathrm{True}\\right ), \\quad \\left ( 14, \\quad \\mathrm{True}\\right ), \\quad \\left ( 15, \\quad \\mathrm{True}\\right ), \\quad \\left ( 16, \\quad \\mathrm{True}\\right ), \\quad \\left ( 17, \\quad \\mathrm{True}\\right ), \\quad \\left ( 18, \\quad \\mathrm{True}\\right ), \\quad \\left ( 19, \\quad \\mathrm{True}\\right ), \\quad \\left ( 20, \\quad \\mathrm{True}\\right ), \\quad \\left ( 21, \\quad \\mathrm{True}\\right ), \\quad \\left ( 22, \\quad \\mathrm{True}\\right ), \\quad \\left ( 23, \\quad \\mathrm{True}\\right ), \\quad \\left ( 24, \\quad \\mathrm{True}\\right ), \\quad \\left ( 25, \\quad \\mathrm{True}\\right ), \\quad \\left ( 26, \\quad \\mathrm{True}\\right ), \\quad \\left ( 27, \\quad \\mathrm{True}\\right ), \\quad \\left ( 28, \\quad \\mathrm{True}\\right ), \\quad \\left ( 29, \\quad \\mathrm{True}\\right ), \\quad \\left ( 30, \\quad \\mathrm{True}\\right ), \\quad \\left ( 31, \\quad \\mathrm{True}\\right ), \\quad \\left ( 32, \\quad \\mathrm{True}\\right ), \\quad \\left ( 33, \\quad \\mathrm{False}\\right ), \\quad \\left ( 34, \\quad \\mathrm{False}\\right ), \\quad \\left ( 35, \\quad \\mathrm{False}\\right ), \\quad \\left ( 36, \\quad \\mathrm{False}\\right ), \\quad \\left ( 37, \\quad \\mathrm{False}\\right ), \\quad \\left ( 38, \\quad \\mathrm{False}\\right ), \\quad \\left ( 39, \\quad \\mathrm{False}\\right ), \\quad \\left ( 40, \\quad \\mathrm{False}\\right ), \\quad \\left ( 41, \\quad \\mathrm{False}\\right ), \\quad \\left ( 42, \\quad \\mathrm{False}\\right ), \\quad \\left ( 43, \\quad \\mathrm{False}\\right ), \\quad \\left ( 44, \\quad \\mathrm{False}\\right ), \\quad \\left ( 45, \\quad \\mathrm{False}\\right ), \\quad \\left ( 46, \\quad \\mathrm{False}\\right ), \\quad \\left ( 47, \\quad \\mathrm{False}\\right ), \\quad \\left ( 48, \\quad \\mathrm{False}\\right ), \\quad \\left ( 49, \\quad \\mathrm{False}\\right )\\right ]$$"
      ],
      "text/plain": [
       "[(4, True), (5, True), (6, True), (7, True), (8, True), (9, True), (10, True),\n",
       " (11, True), (12, True), (13, True), (14, True), (15, True), (16, True), (17, \n",
       "True), (18, True), (19, True), (20, True), (21, True), (22, True), (23, True),\n",
       " (24, True), (25, True), (26, True), (27, True), (28, True), (29, True), (30, \n",
       "True), (31, True), (32, True), (33, False), (34, False), (35, False), (36, Fal\n",
       "se), (37, False), (38, False), (39, False), (40, False), (41, False), (42, Fal\n",
       "se), (43, False), (44, False), (45, False), (46, False), (47, False), (48, Fal\n",
       "se), (49, False)]"
      ]
     },
     "execution_count": 80,
     "metadata": {},
     "output_type": "execute_result"
    }
   ],
   "source": [
    "[(n, calc_teo7_expr3(n).doit().evalf() > (T(n)**-1).evalf()) for n in range(4,50)]\n",
    "# :'''''''("
   ]
  },
  {
   "cell_type": "code",
   "execution_count": null,
   "metadata": {
    "collapsed": true
   },
   "outputs": [],
   "source": []
  }
 ],
 "metadata": {
  "kernelspec": {
   "display_name": "Python 3",
   "language": "python",
   "name": "python3"
  },
  "language_info": {
   "codemirror_mode": {
    "name": "ipython",
    "version": 3
   },
   "file_extension": ".py",
   "mimetype": "text/x-python",
   "name": "python",
   "nbconvert_exporter": "python",
   "pygments_lexer": "ipython3",
   "version": "3.5.2+"
  }
 },
 "nbformat": 4,
 "nbformat_minor": 2
}
