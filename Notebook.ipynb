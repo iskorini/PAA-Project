{
 "cells": [
  {
   "cell_type": "markdown",
   "metadata": {
    "deletable": true,
    "editable": true
   },
   "source": [
    "# Progetto PAA\n",
    "#### Autore:  Federico Schipani - 6185896 - <a href=\"mailto:federico.schipani@stud.unifi.it\">federico.schipani@stud.unifi.it</a>"
   ]
  },
  {
   "cell_type": "markdown",
   "metadata": {
    "deletable": true,
    "editable": true
   },
   "source": [
    "##### Descrizione del progetto:\n",
    "In questo notebook verranno effettuate verifiche numeriche su somme infinite dei reciproci dei numeri di Tribonacci. L'articolo da cui è stato preso spunto per questo progetto è <a href = \"https://cs.uwaterloo.ca/journals/JIS/VOL19/Kuhapatanakul/kuha7.pdf\">Reciprocal Sums of the Tribonacci Numbers</a>."
   ]
  },
  {
   "cell_type": "markdown",
   "metadata": {
    "deletable": true,
    "editable": true
   },
   "source": [
    "### Preparazione:\n",
    "Per prima cosa è necessario importare tutti i pacchetti necessari allo svolgimento di questo progetto:"
   ]
  },
  {
   "cell_type": "code",
   "execution_count": 1,
   "metadata": {
    "collapsed": false,
    "deletable": true,
    "editable": true
   },
   "outputs": [],
   "source": [
    "from sympy import *\n",
    "from sympy.utilities.lambdify import lambdify, implemented_function\n",
    "from functools import lru_cache\n",
    "import sys\n",
    "sys.setrecursionlimit(10000000)"
   ]
  },
  {
   "cell_type": "markdown",
   "metadata": {
    "deletable": true,
    "editable": true
   },
   "source": [
    "Per poter stampare i risultati in stile LaTeX è necessario eseguire questa istruzione:"
   ]
  },
  {
   "cell_type": "code",
   "execution_count": 2,
   "metadata": {
    "collapsed": true,
    "deletable": true,
    "editable": true
   },
   "outputs": [],
   "source": [
    "init_printing()"
   ]
  },
  {
   "cell_type": "markdown",
   "metadata": {
    "deletable": true,
    "editable": true
   },
   "source": [
    "### Introduzione:"
   ]
  },
  {
   "cell_type": "markdown",
   "metadata": {
    "deletable": true,
    "editable": true
   },
   "source": [
    "I numeri di Fibonacci sono definiti dalla seguente relazione di ricorrenza:"
   ]
  },
  {
   "cell_type": "code",
   "execution_count": 3,
   "metadata": {
    "collapsed": false,
    "deletable": true,
    "editable": true
   },
   "outputs": [
    {
     "data": {
      "image/png": "[encoded data removed]",
      "text/latex": [
       "$$F{\\left (n \\right )} = \\frac{2^{- n}}{5} \\sqrt{5} \\left(\\left(1 + \\sqrt{5}\\right)^{n} - \\left(- \\sqrt{5} + 1\\right)^{n}\\right)$$"
      ],
      "text/plain": [
       "        -n    ⎛        n            n⎞\n",
       "       2  ⋅√5⋅⎝(1 + √5)  - (-√5 + 1) ⎠\n",
       "F(n) = ───────────────────────────────\n",
       "                      5               "
      ]
     },
     "execution_count": 3,
     "metadata": {},
     "output_type": "execute_result"
    }
   ],
   "source": [
    "F = Function('F')\n",
    "n = symbols('n',integer=True)\n",
    "f = F(n+1)-F(n)-F(n-1)\n",
    "closedFib = simplify(rsolve(f, F(n), {F(0):0, F(1):1}))\n",
    "closedFibEq = Eq(F(n), closedFib)\n",
    "closedFibEq"
   ]
  },
  {
   "cell_type": "code",
   "execution_count": 4,
   "metadata": {
    "collapsed": false,
    "deletable": true,
    "editable": true
   },
   "outputs": [
    {
     "data": {
      "image/png": "[encoded data removed]",
      "text/latex": [
       "$$\\left [ \\left ( 0, \\quad 0\\right ), \\quad \\left ( 1, \\quad 0\\right ), \\quad \\left ( 2, \\quad 0\\right ), \\quad \\left ( 3, \\quad 0\\right ), \\quad \\left ( 4, \\quad 0\\right ), \\quad \\left ( 5, \\quad 0\\right ), \\quad \\left ( 6, \\quad 0\\right ), \\quad \\left ( 7, \\quad 0\\right ), \\quad \\left ( 8, \\quad 0\\right ), \\quad \\left ( 9, \\quad 0\\right ), \\quad \\left ( 10, \\quad 0\\right )\\right ]$$"
      ],
      "text/plain": [
       "[(0, 0), (1, 0), (2, 0), (3, 0), (4, 0), (5, 0), (6, 0), (7, 0), (8, 0), (9, 0\n",
       "), (10, 0)]"
      ]
     },
     "execution_count": 4,
     "metadata": {},
     "output_type": "execute_result"
    }
   ],
   "source": [
    "closedFib1 = Lambda([n], closedFib)\n",
    "[(n, simplify(fibonacci(n)-closedFib1(n).doit())) for n in range(0,11)]"
   ]
  },
  {
   "cell_type": "markdown",
   "metadata": {
    "deletable": true,
    "editable": true
   },
   "source": [
    "Definiamo una funzione per il calcolo dei numeri di Tribonacci nel seguente modo:"
   ]
  },
  {
   "cell_type": "code",
   "execution_count": 5,
   "metadata": {
    "collapsed": false,
    "deletable": true,
    "editable": true
   },
   "outputs": [],
   "source": [
    "initial_positive_conditions = {0:0, 1:1, 2:1}\n",
    "\n",
    "\n",
    "def makePositiveTribonacci(maxsize = None):\n",
    "    @lru_cache(maxsize)\n",
    "    def calcPositiveTribonacci(n):\n",
    "        return calcPositiveTribonacci(n-1)  + calcPositiveTribonacci(n-2) + calcPositiveTribonacci(n-3) if n not in initial_positive_conditions else initial_positive_conditions[n]\n",
    "    return calcPositiveTribonacci\n",
    "\n",
    "positiveTribonacci = makePositiveTribonacci(None)\n",
    "PT = implemented_function(Function('T'), positiveTribonacci)\n"
   ]
  },
  {
   "cell_type": "markdown",
   "metadata": {
    "deletable": true,
    "editable": true
   },
   "source": [
    "Per verificare che la funzione calcola effettivamente i numeri di Tribonacci si esegue una verifica numerica:"
   ]
  },
  {
   "cell_type": "code",
   "execution_count": 6,
   "metadata": {
    "collapsed": false,
    "deletable": true,
    "editable": true
   },
   "outputs": [
    {
     "data": {
      "image/png": "[encoded data removed]",
      "text/latex": [
       "$$\\left [ \\left ( 0, \\quad 0\\right ), \\quad \\left ( 1, \\quad 1\\right ), \\quad \\left ( 2, \\quad 1\\right ), \\quad \\left ( 3, \\quad 2\\right ), \\quad \\left ( 4, \\quad 4\\right ), \\quad \\left ( 5, \\quad 7\\right ), \\quad \\left ( 6, \\quad 13\\right ), \\quad \\left ( 7, \\quad 24\\right ), \\quad \\left ( 8, \\quad 44\\right ), \\quad \\left ( 9, \\quad 81\\right ), \\quad \\left ( 10, \\quad 149\\right )\\right ]$$"
      ],
      "text/plain": [
       "[(0, 0), (1, 1), (2, 1), (3, 2), (4, 4), (5, 7), (6, 13), (7, 24), (8, 44), (9\n",
       ", 81), (10, 149)]"
      ]
     },
     "execution_count": 6,
     "metadata": {},
     "output_type": "execute_result"
    }
   ],
   "source": [
    "lambda_tribonacci = lambdify(n, PT(n))\n",
    "[(n, lambda_tribonacci(n)) for n in range (0,11)]"
   ]
  },
  {
   "cell_type": "markdown",
   "metadata": {
    "deletable": true,
    "editable": true
   },
   "source": [
    "Lo scopo di questo notebook è verificare queste tre uguaglianze:\n",
    "$$\\left\\lfloor \\left( \\sum_{k=n}^{\\infty}  \\frac{1}{F_k } \\right)^{-1}\\right\\rfloor = F_{n-2}\\ se\\ n\\ è\\ pari\\ e\\ n \\geq 2,\\ F_{n-2}-1\\ se\\ n\\ è\\ dispari\\ e\\ n \\geq 1 $$\n",
    "$$\\left\\lfloor\\left(\\sum_{k=n}^{\\infty}  \\frac{(-1)^k}{F_k}\\right)^{-1}\\right\\rfloor = (-1)^n F_{n+1}-1\\ con\\ (n>1) $$\n",
    "$$\\left\\lfloor\\left(\\sum_{k=n}^{\\infty}  \\frac{1}{\\sum_{i = 1}^{k} F_i}\\right)^{-1}\\right\\rfloor = F_n -1\\ con \\ (n \\geq 3) $$"
   ]
  },
  {
   "cell_type": "markdown",
   "metadata": {
    "collapsed": true,
    "deletable": true,
    "editable": true
   },
   "source": [
    "### Svolgimento:"
   ]
  },
  {
   "cell_type": "markdown",
   "metadata": {
    "collapsed": true,
    "deletable": true,
    "editable": true
   },
   "source": [
    "La sequenza di numeri di Tribonacci può essere estesa per valori negativi di n, usando la definizione e le condizioni iniziali.\n",
    "$$F_n = F_{n-1}+F_{n-2}+F_{n-3}$$\n",
    "Effettuando uno shift di tre posizioni, e cambiando il segno si ottiene:\n",
    "$$F_{n} = F_{n-3}-F_{n+2}-F_{n+1}$$\n"
   ]
  },
  {
   "cell_type": "code",
   "execution_count": 7,
   "metadata": {
    "collapsed": false,
    "deletable": true,
    "editable": true
   },
   "outputs": [
    {
     "data": {
      "image/png": "[encoded data removed]",
      "text/latex": [
       "$$\\left [ \\left ( 0, \\quad 0\\right ), \\quad \\left ( -1, \\quad 0\\right ), \\quad \\left ( -2, \\quad 1\\right ), \\quad \\left ( -3, \\quad -1\\right ), \\quad \\left ( -4, \\quad 0\\right ), \\quad \\left ( -5, \\quad 2\\right ), \\quad \\left ( -6, \\quad -3\\right ), \\quad \\left ( -7, \\quad 1\\right ), \\quad \\left ( -8, \\quad 4\\right ), \\quad \\left ( -9, \\quad -8\\right ), \\quad \\left ( -10, \\quad 5\\right )\\right ]$$"
      ],
      "text/plain": [
       "[(0, 0), (-1, 0), (-2, 1), (-3, -1), (-4, 0), (-5, 2), (-6, -3), (-7, 1), (-8,\n",
       " 4), (-9, -8), (-10, 5)]"
      ]
     },
     "execution_count": 7,
     "metadata": {},
     "output_type": "execute_result"
    }
   ],
   "source": [
    "initial_negative_conditions = {0:0, -1:0, -2:1}\n",
    "def makeNegativeTribonacci(maxsize=None):\n",
    "    @lru_cache(maxsize=maxsize)\n",
    "    def calcNegativeTribonacci(n):\n",
    "        return calcNegativeTribonacci(n+3)  - calcNegativeTribonacci(n+2) - calcNegativeTribonacci(n+1) if n not in initial_negative_conditions else initial_negative_conditions[n]\n",
    "    return calcNegativeTribonacci\n",
    "negativeTribonacci = makeNegativeTribonacci(maxsize = None)\n",
    "NT = implemented_function(Function('NT'), negativeTribonacci)\n",
    "lambda_negative_tribonacci = lambdify(n, NT(n))\n",
    "[(n*-1, lambda_negative_tribonacci(n*-1)) for n in range (0,11)]"
   ]
  },
  {
   "cell_type": "markdown",
   "metadata": {
    "deletable": true,
    "editable": true
   },
   "source": [
    "Per comodità definiamo una funzione di Tribonacci unica, sia per i numeri negativi che positivi:"
   ]
  },
  {
   "cell_type": "code",
   "execution_count": 8,
   "metadata": {
    "collapsed": false,
    "deletable": true,
    "editable": true
   },
   "outputs": [
    {
     "data": {
      "image/png": "[encoded data removed]",
      "text/latex": [
       "$$\\left [ \\left ( -40, \\quad 21492\\right ), \\quad \\left ( -39, \\quad 51489\\right ), \\quad \\left ( -38, \\quad -54899\\right ), \\quad \\left ( -37, \\quad 18082\\right ), \\quad \\left ( -36, \\quad 14672\\right ), \\quad \\left ( -35, \\quad -22145\\right ), \\quad \\left ( -34, \\quad 10609\\right ), \\quad \\left ( -33, \\quad 3136\\right ), \\quad \\left ( -32, \\quad -8400\\right ), \\quad \\left ( -31, \\quad 5345\\right ), \\quad \\left ( -30, \\quad 81\\right ), \\quad \\left ( -29, \\quad -2974\\right ), \\quad \\left ( -28, \\quad 2452\\right ), \\quad \\left ( -27, \\quad -441\\right ), \\quad \\left ( -26, \\quad -963\\right ), \\quad \\left ( -25, \\quad 1048\\right ), \\quad \\left ( -24, \\quad -356\\right ), \\quad \\left ( -23, \\quad -271\\right ), \\quad \\left ( -22, \\quad 421\\right ), \\quad \\left ( -21, \\quad -206\\right ), \\quad \\left ( -20, \\quad -56\\right ), \\quad \\left ( -19, \\quad 159\\right ), \\quad \\left ( -18, \\quad -103\\right ), \\quad \\left ( -17, \\quad 0\\right ), \\quad \\left ( -16, \\quad 56\\right ), \\quad \\left ( -15, \\quad -47\\right ), \\quad \\left ( -14, \\quad 9\\right ), \\quad \\left ( -13, \\quad 18\\right ), \\quad \\left ( -12, \\quad -20\\right ), \\quad \\left ( -11, \\quad 7\\right ), \\quad \\left ( -10, \\quad 5\\right ), \\quad \\left ( -9, \\quad -8\\right ), \\quad \\left ( -8, \\quad 4\\right ), \\quad \\left ( -7, \\quad 1\\right ), \\quad \\left ( -6, \\quad -3\\right ), \\quad \\left ( -5, \\quad 2\\right ), \\quad \\left ( -4, \\quad 0\\right ), \\quad \\left ( -3, \\quad -1\\right ), \\quad \\left ( -2, \\quad 1\\right ), \\quad \\left ( -1, \\quad 0\\right ), \\quad \\left ( 0, \\quad 0\\right ), \\quad \\left ( 1, \\quad 1\\right ), \\quad \\left ( 2, \\quad 1\\right ), \\quad \\left ( 3, \\quad 2\\right ), \\quad \\left ( 4, \\quad 4\\right ), \\quad \\left ( 5, \\quad 7\\right ), \\quad \\left ( 6, \\quad 13\\right ), \\quad \\left ( 7, \\quad 24\\right ), \\quad \\left ( 8, \\quad 44\\right ), \\quad \\left ( 9, \\quad 81\\right ), \\quad \\left ( 10, \\quad 149\\right ), \\quad \\left ( 11, \\quad 274\\right ), \\quad \\left ( 12, \\quad 504\\right ), \\quad \\left ( 13, \\quad 927\\right ), \\quad \\left ( 14, \\quad 1705\\right ), \\quad \\left ( 15, \\quad 3136\\right ), \\quad \\left ( 16, \\quad 5768\\right ), \\quad \\left ( 17, \\quad 10609\\right ), \\quad \\left ( 18, \\quad 19513\\right ), \\quad \\left ( 19, \\quad 35890\\right ), \\quad \\left ( 20, \\quad 66012\\right ), \\quad \\left ( 21, \\quad 121415\\right ), \\quad \\left ( 22, \\quad 223317\\right ), \\quad \\left ( 23, \\quad 410744\\right ), \\quad \\left ( 24, \\quad 755476\\right ), \\quad \\left ( 25, \\quad 1389537\\right ), \\quad \\left ( 26, \\quad 2555757\\right ), \\quad \\left ( 27, \\quad 4700770\\right ), \\quad \\left ( 28, \\quad 8646064\\right ), \\quad \\left ( 29, \\quad 15902591\\right ), \\quad \\left ( 30, \\quad 29249425\\right ), \\quad \\left ( 31, \\quad 53798080\\right ), \\quad \\left ( 32, \\quad 98950096\\right ), \\quad \\left ( 33, \\quad 181997601\\right ), \\quad \\left ( 34, \\quad 334745777\\right ), \\quad \\left ( 35, \\quad 615693474\\right ), \\quad \\left ( 36, \\quad 1132436852\\right ), \\quad \\left ( 37, \\quad 2082876103\\right ), \\quad \\left ( 38, \\quad 3831006429\\right ), \\quad \\left ( 39, \\quad 7046319384\\right )\\right ]$$"
      ],
      "text/plain": [
       "[(-40, 21492), (-39, 51489), (-38, -54899), (-37, 18082), (-36, 14672), (-35, \n",
       "-22145), (-34, 10609), (-33, 3136), (-32, -8400), (-31, 5345), (-30, 81), (-29\n",
       ", -2974), (-28, 2452), (-27, -441), (-26, -963), (-25, 1048), (-24, -356), (-2\n",
       "3, -271), (-22, 421), (-21, -206), (-20, -56), (-19, 159), (-18, -103), (-17, \n",
       "0), (-16, 56), (-15, -47), (-14, 9), (-13, 18), (-12, -20), (-11, 7), (-10, 5)\n",
       ", (-9, -8), (-8, 4), (-7, 1), (-6, -3), (-5, 2), (-4, 0), (-3, -1), (-2, 1), (\n",
       "-1, 0), (0, 0), (1, 1), (2, 1), (3, 2), (4, 4), (5, 7), (6, 13), (7, 24), (8, \n",
       "44), (9, 81), (10, 149), (11, 274), (12, 504), (13, 927), (14, 1705), (15, 313\n",
       "6), (16, 5768), (17, 10609), (18, 19513), (19, 35890), (20, 66012), (21, 12141\n",
       "5), (22, 223317), (23, 410744), (24, 755476), (25, 1389537), (26, 2555757), (2\n",
       "7, 4700770), (28, 8646064), (29, 15902591), (30, 29249425), (31, 53798080), (3\n",
       "2, 98950096), (33, 181997601), (34, 334745777), (35, 615693474), (36, 11324368\n",
       "52), (37, 2082876103), (38, 3831006429), (39, 7046319384)]"
      ]
     },
     "execution_count": 8,
     "metadata": {},
     "output_type": "execute_result"
    }
   ],
   "source": [
    "def tribonacci(n):\n",
    "    if n>=0:\n",
    "        return positiveTribonacci(n)\n",
    "    elif n<0:\n",
    "        return negativeTribonacci(n)\n",
    "T = implemented_function(Function('T'), tribonacci)\n",
    "lambda_tribonacci = lambdify(n, T(n))\n",
    "[(n, lambda_tribonacci(n)) for n in range(-40, 40)]\n",
    "#SWAG EFFICIENZA"
   ]
  },
  {
   "cell_type": "markdown",
   "metadata": {
    "deletable": true,
    "editable": true
   },
   "source": [
    "Prima di dimostrare la veridicità delle tre uguaglianze descritte nell'introduzione vengono forniti 3 lemmi.\n",
    "###### Lemma 1: \n",
    "Sia $n$ un intero positivo, allora:\n",
    "1. $T^{2}_{n} - T_{n-1} T_{n+1} = T_{-(n+1)}$\n",
    "2. $\\sum_{i=1}^{n} T_i = (T_{n+2}+T_{n}-1)/2$ \n",
    "3. $T_{n} > T_{-(n+3)}$ \n",
    "\n",
    "\n",
    "Effettuiamo una verifica numerica della prima uguaglianza:"
   ]
  },
  {
   "cell_type": "code",
   "execution_count": 9,
   "metadata": {
    "collapsed": false,
    "deletable": true,
    "editable": true
   },
   "outputs": [
    {
     "data": {
      "image/png": "[encoded data removed]",
      "text/latex": [
       "$$\\left [ 0, \\quad 0, \\quad 0, \\quad 9.0 \\cdot 10^{-125}, \\quad 0, \\quad 0, \\quad 0, \\quad 0, \\quad 0, \\quad 0, \\quad 0, \\quad 0, \\quad 0, \\quad 0, \\quad 0, \\quad 0, \\quad 4.0 \\cdot 10^{-118}, \\quad 0, \\quad 0, \\quad 0, \\quad 0, \\quad 0, \\quad 0, \\quad 0, \\quad 0, \\quad 0, \\quad 0, \\quad 0, \\quad 0, \\quad 0, \\quad 0, \\quad 0, \\quad 0, \\quad 0, \\quad 0, \\quad 0, \\quad 0, \\quad 0, \\quad 0, \\quad 0\\right ]$$"
      ],
      "text/plain": [
       "[0, 0, 0, 0.e-124, 0, 0, 0, 0, 0, 0, 0, 0, 0, 0, 0, 0, 0.e-118, 0, 0, 0, 0, 0,\n",
       " 0, 0, 0, 0, 0, 0, 0, 0, 0, 0, 0, 0, 0, 0, 0, 0, 0, 0]"
      ]
     },
     "execution_count": 9,
     "metadata": {},
     "output_type": "execute_result"
    }
   ],
   "source": [
    "lem1_expr1 = T(n)**2 - T(n-1)*T(n+1)\n",
    "lem1_expr2 = T(-(n+1))\n",
    "calc_lem1_expr1 = Lambda([n], lem1_expr1)\n",
    "calc_lem1_expr2 = Lambda([n], lem1_expr2)\n",
    "[(calc_lem1_expr1(n).evalf()-calc_lem1_expr2(n).evalf()) for n in range(0,40)]"
   ]
  },
  {
   "cell_type": "markdown",
   "metadata": {},
   "source": [
    "Effettuiamo una verifica numerica della seconda uguaglianza:"
   ]
  },
  {
   "cell_type": "code",
   "execution_count": 10,
   "metadata": {
    "collapsed": false
   },
   "outputs": [
    {
     "data": {
      "image/png": "[encoded data removed]",
      "text/latex": [
       "$$\\left [ 1.0 \\cdot 10^{-125}, \\quad 0, \\quad 0, \\quad 0, \\quad 0, \\quad 0, \\quad 0, \\quad 0, \\quad 0, \\quad 0, \\quad 0, \\quad 0, \\quad 0, \\quad 0, \\quad 0, \\quad 0, \\quad 0, \\quad 0, \\quad 0, \\quad 0, \\quad 0, \\quad 0, \\quad 0, \\quad 0, \\quad 0, \\quad 0, \\quad 0, \\quad 0, \\quad 0, \\quad 0, \\quad 0, \\quad 0, \\quad 0, \\quad 0, \\quad 0, \\quad 0, \\quad 0, \\quad 0, \\quad 0, \\quad 0\\right ]$$"
      ],
      "text/plain": [
       "[0.e-125, 0, 0, 0, 0, 0, 0, 0, 0, 0, 0, 0, 0, 0, 0, 0, 0, 0, 0, 0, 0, 0, 0, 0,\n",
       " 0, 0, 0, 0, 0, 0, 0, 0, 0, 0, 0, 0, 0, 0, 0, 0]"
      ]
     },
     "execution_count": 10,
     "metadata": {},
     "output_type": "execute_result"
    }
   ],
   "source": [
    "lem1_expr4 = (T(n+2)+T(n)-1)/2\n",
    "i = symbols('i', integer=True)\n",
    "lem1_expr3 = Sum(T(i), (i, 1, n))\n",
    "calc_lem1_expr4 = Lambda([n], lem1_expr4)\n",
    "calc_lem1_expr3 = Lambda([n], lem1_expr3)\n",
    "[(calc_lem1_expr4(n).evalf()-calc_lem1_expr3(n).doit().evalf()) for n in range(0,40)]"
   ]
  },
  {
   "cell_type": "markdown",
   "metadata": {},
   "source": [
    "Effettuiamo una verifica numerica del terzo risultato:"
   ]
  },
  {
   "cell_type": "code",
   "execution_count": 11,
   "metadata": {
    "collapsed": false
   },
   "outputs": [
    {
     "data": {
      "image/png": "[encoded data removed]",
      "text/latex": [
       "$$\\left [ \\left ( 0, \\quad \\mathrm{True}\\right ), \\quad \\left ( 1, \\quad \\mathrm{True}\\right ), \\quad \\left ( 2, \\quad \\mathrm{False}\\right ), \\quad \\left ( 3, \\quad \\mathrm{True}\\right ), \\quad \\left ( 4, \\quad \\mathrm{True}\\right ), \\quad \\left ( 5, \\quad \\mathrm{True}\\right ), \\quad \\left ( 6, \\quad \\mathrm{True}\\right ), \\quad \\left ( 7, \\quad \\mathrm{True}\\right ), \\quad \\left ( 8, \\quad \\mathrm{True}\\right ), \\quad \\left ( 9, \\quad \\mathrm{True}\\right ), \\quad \\left ( 10, \\quad \\mathrm{True}\\right ), \\quad \\left ( 11, \\quad \\mathrm{True}\\right ), \\quad \\left ( 12, \\quad \\mathrm{True}\\right ), \\quad \\left ( 13, \\quad \\mathrm{True}\\right ), \\quad \\left ( 14, \\quad \\mathrm{True}\\right ), \\quad \\left ( 15, \\quad \\mathrm{True}\\right ), \\quad \\left ( 16, \\quad \\mathrm{True}\\right ), \\quad \\left ( 17, \\quad \\mathrm{True}\\right ), \\quad \\left ( 18, \\quad \\mathrm{True}\\right ), \\quad \\left ( 19, \\quad \\mathrm{True}\\right ), \\quad \\left ( 20, \\quad \\mathrm{True}\\right ), \\quad \\left ( 21, \\quad \\mathrm{True}\\right ), \\quad \\left ( 22, \\quad \\mathrm{True}\\right ), \\quad \\left ( 23, \\quad \\mathrm{True}\\right ), \\quad \\left ( 24, \\quad \\mathrm{True}\\right ), \\quad \\left ( 25, \\quad \\mathrm{True}\\right ), \\quad \\left ( 26, \\quad \\mathrm{True}\\right ), \\quad \\left ( 27, \\quad \\mathrm{True}\\right ), \\quad \\left ( 28, \\quad \\mathrm{True}\\right ), \\quad \\left ( 29, \\quad \\mathrm{True}\\right ), \\quad \\left ( 30, \\quad \\mathrm{True}\\right ), \\quad \\left ( 31, \\quad \\mathrm{True}\\right ), \\quad \\left ( 32, \\quad \\mathrm{True}\\right ), \\quad \\left ( 33, \\quad \\mathrm{True}\\right ), \\quad \\left ( 34, \\quad \\mathrm{True}\\right ), \\quad \\left ( 35, \\quad \\mathrm{True}\\right ), \\quad \\left ( 36, \\quad \\mathrm{True}\\right ), \\quad \\left ( 37, \\quad \\mathrm{True}\\right ), \\quad \\left ( 38, \\quad \\mathrm{True}\\right ), \\quad \\left ( 39, \\quad \\mathrm{True}\\right ), \\quad \\left ( 40, \\quad \\mathrm{True}\\right ), \\quad \\left ( 41, \\quad \\mathrm{True}\\right ), \\quad \\left ( 42, \\quad \\mathrm{True}\\right ), \\quad \\left ( 43, \\quad \\mathrm{True}\\right ), \\quad \\left ( 44, \\quad \\mathrm{True}\\right ), \\quad \\left ( 45, \\quad \\mathrm{True}\\right ), \\quad \\left ( 46, \\quad \\mathrm{True}\\right ), \\quad \\left ( 47, \\quad \\mathrm{True}\\right ), \\quad \\left ( 48, \\quad \\mathrm{True}\\right ), \\quad \\left ( 49, \\quad \\mathrm{True}\\right ), \\quad \\left ( 50, \\quad \\mathrm{True}\\right ), \\quad \\left ( 51, \\quad \\mathrm{True}\\right ), \\quad \\left ( 52, \\quad \\mathrm{True}\\right ), \\quad \\left ( 53, \\quad \\mathrm{True}\\right ), \\quad \\left ( 54, \\quad \\mathrm{True}\\right ), \\quad \\left ( 55, \\quad \\mathrm{True}\\right ), \\quad \\left ( 56, \\quad \\mathrm{True}\\right ), \\quad \\left ( 57, \\quad \\mathrm{True}\\right ), \\quad \\left ( 58, \\quad \\mathrm{True}\\right ), \\quad \\left ( 59, \\quad \\mathrm{True}\\right ), \\quad \\left ( 60, \\quad \\mathrm{True}\\right ), \\quad \\left ( 61, \\quad \\mathrm{True}\\right ), \\quad \\left ( 62, \\quad \\mathrm{True}\\right ), \\quad \\left ( 63, \\quad \\mathrm{True}\\right ), \\quad \\left ( 64, \\quad \\mathrm{True}\\right ), \\quad \\left ( 65, \\quad \\mathrm{True}\\right ), \\quad \\left ( 66, \\quad \\mathrm{True}\\right ), \\quad \\left ( 67, \\quad \\mathrm{True}\\right ), \\quad \\left ( 68, \\quad \\mathrm{True}\\right ), \\quad \\left ( 69, \\quad \\mathrm{True}\\right ), \\quad \\left ( 70, \\quad \\mathrm{True}\\right ), \\quad \\left ( 71, \\quad \\mathrm{True}\\right ), \\quad \\left ( 72, \\quad \\mathrm{True}\\right ), \\quad \\left ( 73, \\quad \\mathrm{True}\\right ), \\quad \\left ( 74, \\quad \\mathrm{True}\\right ), \\quad \\left ( 75, \\quad \\mathrm{True}\\right ), \\quad \\left ( 76, \\quad \\mathrm{True}\\right ), \\quad \\left ( 77, \\quad \\mathrm{True}\\right ), \\quad \\left ( 78, \\quad \\mathrm{True}\\right ), \\quad \\left ( 79, \\quad \\mathrm{True}\\right ), \\quad \\left ( 80, \\quad \\mathrm{True}\\right ), \\quad \\left ( 81, \\quad \\mathrm{True}\\right ), \\quad \\left ( 82, \\quad \\mathrm{True}\\right ), \\quad \\left ( 83, \\quad \\mathrm{True}\\right ), \\quad \\left ( 84, \\quad \\mathrm{True}\\right ), \\quad \\left ( 85, \\quad \\mathrm{True}\\right ), \\quad \\left ( 86, \\quad \\mathrm{True}\\right ), \\quad \\left ( 87, \\quad \\mathrm{True}\\right ), \\quad \\left ( 88, \\quad \\mathrm{True}\\right ), \\quad \\left ( 89, \\quad \\mathrm{True}\\right ), \\quad \\left ( 90, \\quad \\mathrm{True}\\right ), \\quad \\left ( 91, \\quad \\mathrm{True}\\right ), \\quad \\left ( 92, \\quad \\mathrm{True}\\right ), \\quad \\left ( 93, \\quad \\mathrm{True}\\right ), \\quad \\left ( 94, \\quad \\mathrm{True}\\right ), \\quad \\left ( 95, \\quad \\mathrm{True}\\right ), \\quad \\left ( 96, \\quad \\mathrm{True}\\right ), \\quad \\left ( 97, \\quad \\mathrm{True}\\right ), \\quad \\left ( 98, \\quad \\mathrm{True}\\right ), \\quad \\left ( 99, \\quad \\mathrm{True}\\right )\\right ]$$"
      ],
      "text/plain": [
       "[(0, True), (1, True), (2, False), (3, True), (4, True), (5, True), (6, True),\n",
       " (7, True), (8, True), (9, True), (10, True), (11, True), (12, True), (13, Tru\n",
       "e), (14, True), (15, True), (16, True), (17, True), (18, True), (19, True), (2\n",
       "0, True), (21, True), (22, True), (23, True), (24, True), (25, True), (26, Tru\n",
       "e), (27, True), (28, True), (29, True), (30, True), (31, True), (32, True), (3\n",
       "3, True), (34, True), (35, True), (36, True), (37, True), (38, True), (39, Tru\n",
       "e), (40, True), (41, True), (42, True), (43, True), (44, True), (45, True), (4\n",
       "6, True), (47, True), (48, True), (49, True), (50, True), (51, True), (52, Tru\n",
       "e), (53, True), (54, True), (55, True), (56, True), (57, True), (58, True), (5\n",
       "9, True), (60, True), (61, True), (62, True), (63, True), (64, True), (65, Tru\n",
       "e), (66, True), (67, True), (68, True), (69, True), (70, True), (71, True), (7\n",
       "2, True), (73, True), (74, True), (75, True), (76, True), (77, True), (78, Tru\n",
       "e), (79, True), (80, True), (81, True), (82, True), (83, True), (84, True), (8\n",
       "5, True), (86, True), (87, True), (88, True), (89, True), (90, True), (91, Tru\n",
       "e), (92, True), (93, True), (94, True), (95, True), (96, True), (97, True), (9\n",
       "8, True), (99, True)]"
      ]
     },
     "execution_count": 11,
     "metadata": {},
     "output_type": "execute_result"
    }
   ],
   "source": [
    "[(n, T(n).evalf()>T(-(n+3)).evalf()) for n in range(0, 100)]"
   ]
  },
  {
   "cell_type": "markdown",
   "metadata": {
    "deletable": true,
    "editable": true
   },
   "source": [
    "###### Lemma 2: \n",
    "Sia $n > 1$ un intero positivo, allora:\n",
    "1. $\\frac{1}{T_n - T_{n-1} + 1} < \\sum_{k=n}^{\\infty} \\frac{1}{T_k} < \\frac{1}{T_n - T_{n-1} - 1} $\n",
    "2. $\\frac{1}{(-1)^n(T_n+T_{n-1})+1} < \\sum_{k=n}^{\\infty} \\frac{(-1)^k}{T_k} < \\frac{1}{(-1)^n(T_n+T_{n-1})-1}$\n",
    "\n",
    "Per verificare numericamente le due uguaglianze bisogna in qualche modo cercare di dare un valore alla sommatoria per $k=n$ che arriva fino a $\\infty$.\n",
    "Per prima cosa si verifica:\n",
    "$$\\frac{1}{T_n - T_{n-1}+1} < \\sum_{k=n}^{\\infty} \\frac{1}{T_k} $$\n",
    "In questo caso per verificare questa uguaglianza è sufficiente fissare un limite superiore abbastanza grande:"
   ]
  },
  {
   "cell_type": "code",
   "execution_count": 12,
   "metadata": {
    "collapsed": false,
    "deletable": true,
    "editable": true
   },
   "outputs": [
    {
     "data": {
      "image/png": "[encoded data removed]",
      "text/latex": [
       "$$\\left [ \\left ( 2, \\quad \\mathrm{True}\\right ), \\quad \\left ( 3, \\quad \\mathrm{True}\\right ), \\quad \\left ( 4, \\quad \\mathrm{True}\\right ), \\quad \\left ( 5, \\quad \\mathrm{True}\\right ), \\quad \\left ( 6, \\quad \\mathrm{True}\\right ), \\quad \\left ( 7, \\quad \\mathrm{True}\\right ), \\quad \\left ( 8, \\quad \\mathrm{True}\\right ), \\quad \\left ( 9, \\quad \\mathrm{True}\\right ), \\quad \\left ( 10, \\quad \\mathrm{True}\\right ), \\quad \\left ( 11, \\quad \\mathrm{True}\\right ), \\quad \\left ( 12, \\quad \\mathrm{True}\\right ), \\quad \\left ( 13, \\quad \\mathrm{True}\\right ), \\quad \\left ( 14, \\quad \\mathrm{True}\\right ), \\quad \\left ( 15, \\quad \\mathrm{True}\\right ), \\quad \\left ( 16, \\quad \\mathrm{True}\\right ), \\quad \\left ( 17, \\quad \\mathrm{True}\\right ), \\quad \\left ( 18, \\quad \\mathrm{True}\\right ), \\quad \\left ( 19, \\quad \\mathrm{True}\\right ), \\quad \\left ( 20, \\quad \\mathrm{True}\\right ), \\quad \\left ( 21, \\quad \\mathrm{True}\\right ), \\quad \\left ( 22, \\quad \\mathrm{True}\\right ), \\quad \\left ( 23, \\quad \\mathrm{True}\\right ), \\quad \\left ( 24, \\quad \\mathrm{True}\\right ), \\quad \\left ( 25, \\quad \\mathrm{True}\\right ), \\quad \\left ( 26, \\quad \\mathrm{True}\\right ), \\quad \\left ( 27, \\quad \\mathrm{True}\\right ), \\quad \\left ( 28, \\quad \\mathrm{True}\\right ), \\quad \\left ( 29, \\quad \\mathrm{True}\\right ), \\quad \\left ( 30, \\quad \\mathrm{True}\\right ), \\quad \\left ( 31, \\quad \\mathrm{True}\\right ), \\quad \\left ( 32, \\quad \\mathrm{True}\\right ), \\quad \\left ( 33, \\quad \\mathrm{True}\\right ), \\quad \\left ( 34, \\quad \\mathrm{True}\\right ), \\quad \\left ( 35, \\quad \\mathrm{True}\\right ), \\quad \\left ( 36, \\quad \\mathrm{True}\\right ), \\quad \\left ( 37, \\quad \\mathrm{True}\\right ), \\quad \\left ( 38, \\quad \\mathrm{True}\\right ), \\quad \\left ( 39, \\quad \\mathrm{True}\\right )\\right ]$$"
      ],
      "text/plain": [
       "[(2, True), (3, True), (4, True), (5, True), (6, True), (7, True), (8, True), \n",
       "(9, True), (10, True), (11, True), (12, True), (13, True), (14, True), (15, Tr\n",
       "ue), (16, True), (17, True), (18, True), (19, True), (20, True), (21, True), (\n",
       "22, True), (23, True), (24, True), (25, True), (26, True), (27, True), (28, Tr\n",
       "ue), (29, True), (30, True), (31, True), (32, True), (33, True), (34, True), (\n",
       "35, True), (36, True), (37, True), (38, True), (39, True)]"
      ]
     },
     "execution_count": 12,
     "metadata": {},
     "output_type": "execute_result"
    }
   ],
   "source": [
    "lem2_expr1 = 1/(T(n)-T(n-1)+1)\n",
    "k = symbols('k', integer=True)\n",
    "lem2_expr2 = Sum(1/T(k), (k, n, 200))\n",
    "calc_lem2_expr2 = Lambda([n], lem2_expr2)\n",
    "calc_lem2_expr1 = Lambda([n], lem2_expr1)\n",
    "[(n, calc_lem2_expr1(n).evalf() < calc_lem2_expr2(n).doit().evalf()) for n in range(2, 40)]"
   ]
  },
  {
   "cell_type": "markdown",
   "metadata": {},
   "source": [
    "Infine per verificare il primo  risultato basta verificare la seconda parte della disuguaglianza:\n",
    "$$\\sum_{k=n}^{\\infty} \\frac{1}{T_k} < \\frac{1}{T_n - T_{n-1} - 1}$$"
   ]
  },
  {
   "cell_type": "code",
   "execution_count": 13,
   "metadata": {
    "collapsed": false
   },
   "outputs": [
    {
     "data": {
      "image/png": "[encoded data removed]",
      "text/latex": [
       "$$\\left [ \\left ( 2, \\quad \\mathrm{False}\\right ), \\quad \\left ( 3, \\quad \\mathrm{True}\\right ), \\quad \\left ( 4, \\quad \\mathrm{True}\\right ), \\quad \\left ( 5, \\quad \\mathrm{True}\\right ), \\quad \\left ( 6, \\quad \\mathrm{True}\\right ), \\quad \\left ( 7, \\quad \\mathrm{True}\\right ), \\quad \\left ( 8, \\quad \\mathrm{True}\\right ), \\quad \\left ( 9, \\quad \\mathrm{True}\\right ), \\quad \\left ( 10, \\quad \\mathrm{True}\\right ), \\quad \\left ( 11, \\quad \\mathrm{True}\\right ), \\quad \\left ( 12, \\quad \\mathrm{True}\\right ), \\quad \\left ( 13, \\quad \\mathrm{True}\\right ), \\quad \\left ( 14, \\quad \\mathrm{True}\\right ), \\quad \\left ( 15, \\quad \\mathrm{True}\\right ), \\quad \\left ( 16, \\quad \\mathrm{True}\\right ), \\quad \\left ( 17, \\quad \\mathrm{True}\\right ), \\quad \\left ( 18, \\quad \\mathrm{True}\\right ), \\quad \\left ( 19, \\quad \\mathrm{True}\\right ), \\quad \\left ( 20, \\quad \\mathrm{True}\\right ), \\quad \\left ( 21, \\quad \\mathrm{True}\\right ), \\quad \\left ( 22, \\quad \\mathrm{True}\\right ), \\quad \\left ( 23, \\quad \\mathrm{True}\\right ), \\quad \\left ( 24, \\quad \\mathrm{True}\\right ), \\quad \\left ( 25, \\quad \\mathrm{True}\\right ), \\quad \\left ( 26, \\quad \\mathrm{True}\\right ), \\quad \\left ( 27, \\quad \\mathrm{True}\\right ), \\quad \\left ( 28, \\quad \\mathrm{True}\\right ), \\quad \\left ( 29, \\quad \\mathrm{True}\\right ), \\quad \\left ( 30, \\quad \\mathrm{True}\\right ), \\quad \\left ( 31, \\quad \\mathrm{True}\\right ), \\quad \\left ( 32, \\quad \\mathrm{True}\\right ), \\quad \\left ( 33, \\quad \\mathrm{True}\\right ), \\quad \\left ( 34, \\quad \\mathrm{True}\\right ), \\quad \\left ( 35, \\quad \\mathrm{True}\\right ), \\quad \\left ( 36, \\quad \\mathrm{True}\\right ), \\quad \\left ( 37, \\quad \\mathrm{True}\\right ), \\quad \\left ( 38, \\quad \\mathrm{True}\\right ), \\quad \\left ( 39, \\quad \\mathrm{True}\\right )\\right ]$$"
      ],
      "text/plain": [
       "[(2, False), (3, True), (4, True), (5, True), (6, True), (7, True), (8, True),\n",
       " (9, True), (10, True), (11, True), (12, True), (13, True), (14, True), (15, T\n",
       "rue), (16, True), (17, True), (18, True), (19, True), (20, True), (21, True), \n",
       "(22, True), (23, True), (24, True), (25, True), (26, True), (27, True), (28, T\n",
       "rue), (29, True), (30, True), (31, True), (32, True), (33, True), (34, True), \n",
       "(35, True), (36, True), (37, True), (38, True), (39, True)]"
      ]
     },
     "execution_count": 13,
     "metadata": {},
     "output_type": "execute_result"
    }
   ],
   "source": [
    "lem2_expr3 = 1/(T(n)-T(n-1)-1)\n",
    "calc_lem2_expr3 = Lambda([n], lem2_expr3)\n",
    "[(n, calc_lem2_expr2(n).doit().evalf() < calc_lem2_expr3(n).evalf()) for n in range(2,40)]"
   ]
  },
  {
   "cell_type": "markdown",
   "metadata": {},
   "source": [
    "Nella verifica del secondo risultato si segue lo stesso approccio:\n",
    "$$\\frac{1}{(-1)^n(T_n+T_{n-1})+1} < \\sum_{k=n}^{\\infty} \\frac{(-1)^k}{T_k}$$\n",
    "E poi \n",
    "$$\\sum_{k=n}^{\\infty} \\frac{(-1)^k}{T_k} < \\frac{1}{(-1)^n(T_n+T_{n-1})-1}$$"
   ]
  },
  {
   "cell_type": "code",
   "execution_count": 14,
   "metadata": {
    "collapsed": false
   },
   "outputs": [
    {
     "data": {
      "image/png": "[encoded data removed]",
      "text/latex": [
       "$$\\left [ \\left ( 2, \\quad \\mathrm{True}\\right ), \\quad \\left ( 3, \\quad \\mathrm{True}\\right ), \\quad \\left ( 4, \\quad \\mathrm{True}\\right ), \\quad \\left ( 5, \\quad \\mathrm{True}\\right ), \\quad \\left ( 6, \\quad \\mathrm{True}\\right ), \\quad \\left ( 7, \\quad \\mathrm{True}\\right ), \\quad \\left ( 8, \\quad \\mathrm{True}\\right ), \\quad \\left ( 9, \\quad \\mathrm{True}\\right ), \\quad \\left ( 10, \\quad \\mathrm{True}\\right ), \\quad \\left ( 11, \\quad \\mathrm{True}\\right ), \\quad \\left ( 12, \\quad \\mathrm{True}\\right ), \\quad \\left ( 13, \\quad \\mathrm{True}\\right ), \\quad \\left ( 14, \\quad \\mathrm{True}\\right ), \\quad \\left ( 15, \\quad \\mathrm{True}\\right ), \\quad \\left ( 16, \\quad \\mathrm{True}\\right ), \\quad \\left ( 17, \\quad \\mathrm{True}\\right ), \\quad \\left ( 18, \\quad \\mathrm{True}\\right ), \\quad \\left ( 19, \\quad \\mathrm{True}\\right ), \\quad \\left ( 20, \\quad \\mathrm{True}\\right ), \\quad \\left ( 21, \\quad \\mathrm{True}\\right ), \\quad \\left ( 22, \\quad \\mathrm{True}\\right ), \\quad \\left ( 23, \\quad \\mathrm{True}\\right ), \\quad \\left ( 24, \\quad \\mathrm{True}\\right ), \\quad \\left ( 25, \\quad \\mathrm{True}\\right ), \\quad \\left ( 26, \\quad \\mathrm{True}\\right ), \\quad \\left ( 27, \\quad \\mathrm{True}\\right ), \\quad \\left ( 28, \\quad \\mathrm{True}\\right ), \\quad \\left ( 29, \\quad \\mathrm{True}\\right ), \\quad \\left ( 30, \\quad \\mathrm{True}\\right ), \\quad \\left ( 31, \\quad \\mathrm{True}\\right ), \\quad \\left ( 32, \\quad \\mathrm{True}\\right ), \\quad \\left ( 33, \\quad \\mathrm{True}\\right ), \\quad \\left ( 34, \\quad \\mathrm{True}\\right ), \\quad \\left ( 35, \\quad \\mathrm{True}\\right ), \\quad \\left ( 36, \\quad \\mathrm{True}\\right ), \\quad \\left ( 37, \\quad \\mathrm{True}\\right ), \\quad \\left ( 38, \\quad \\mathrm{True}\\right ), \\quad \\left ( 39, \\quad \\mathrm{True}\\right )\\right ]$$"
      ],
      "text/plain": [
       "[(2, True), (3, True), (4, True), (5, True), (6, True), (7, True), (8, True), \n",
       "(9, True), (10, True), (11, True), (12, True), (13, True), (14, True), (15, Tr\n",
       "ue), (16, True), (17, True), (18, True), (19, True), (20, True), (21, True), (\n",
       "22, True), (23, True), (24, True), (25, True), (26, True), (27, True), (28, Tr\n",
       "ue), (29, True), (30, True), (31, True), (32, True), (33, True), (34, True), (\n",
       "35, True), (36, True), (37, True), (38, True), (39, True)]"
      ]
     },
     "execution_count": 14,
     "metadata": {},
     "output_type": "execute_result"
    }
   ],
   "source": [
    "lem2_expr4 = 1/(((-1)**n) * (T(n)+T(n-1))+1)\n",
    "lem2_expr5 =  Sum(((-1)**k)/T(k), (k, n, 200))\n",
    "calc_lem2_expr5 = Lambda([n], lem2_expr5)\n",
    "calc_lem2_expr4 = Lambda([n], lem2_expr4)\n",
    "[(n, calc_lem2_expr4(n).evalf() < calc_lem2_expr5(n).doit().evalf()) for n in range(2, 40)]\n",
    "#SWAG CALCOLI"
   ]
  },
  {
   "cell_type": "code",
   "execution_count": 15,
   "metadata": {
    "collapsed": false
   },
   "outputs": [
    {
     "data": {
      "image/png": "[encoded data removed]",
      "text/latex": [
       "$$\\left [ \\left ( 2, \\quad \\mathrm{True}\\right ), \\quad \\left ( 3, \\quad \\mathrm{True}\\right ), \\quad \\left ( 4, \\quad \\mathrm{True}\\right ), \\quad \\left ( 5, \\quad \\mathrm{True}\\right ), \\quad \\left ( 6, \\quad \\mathrm{True}\\right ), \\quad \\left ( 7, \\quad \\mathrm{True}\\right ), \\quad \\left ( 8, \\quad \\mathrm{True}\\right ), \\quad \\left ( 9, \\quad \\mathrm{True}\\right ), \\quad \\left ( 10, \\quad \\mathrm{True}\\right ), \\quad \\left ( 11, \\quad \\mathrm{True}\\right ), \\quad \\left ( 12, \\quad \\mathrm{True}\\right ), \\quad \\left ( 13, \\quad \\mathrm{True}\\right ), \\quad \\left ( 14, \\quad \\mathrm{True}\\right ), \\quad \\left ( 15, \\quad \\mathrm{True}\\right ), \\quad \\left ( 16, \\quad \\mathrm{True}\\right ), \\quad \\left ( 17, \\quad \\mathrm{True}\\right ), \\quad \\left ( 18, \\quad \\mathrm{True}\\right ), \\quad \\left ( 19, \\quad \\mathrm{True}\\right ), \\quad \\left ( 20, \\quad \\mathrm{True}\\right ), \\quad \\left ( 21, \\quad \\mathrm{True}\\right ), \\quad \\left ( 22, \\quad \\mathrm{True}\\right ), \\quad \\left ( 23, \\quad \\mathrm{True}\\right ), \\quad \\left ( 24, \\quad \\mathrm{True}\\right ), \\quad \\left ( 25, \\quad \\mathrm{True}\\right ), \\quad \\left ( 26, \\quad \\mathrm{True}\\right ), \\quad \\left ( 27, \\quad \\mathrm{True}\\right ), \\quad \\left ( 28, \\quad \\mathrm{True}\\right ), \\quad \\left ( 29, \\quad \\mathrm{True}\\right ), \\quad \\left ( 30, \\quad \\mathrm{True}\\right ), \\quad \\left ( 31, \\quad \\mathrm{True}\\right ), \\quad \\left ( 32, \\quad \\mathrm{True}\\right ), \\quad \\left ( 33, \\quad \\mathrm{True}\\right ), \\quad \\left ( 34, \\quad \\mathrm{True}\\right ), \\quad \\left ( 35, \\quad \\mathrm{True}\\right ), \\quad \\left ( 36, \\quad \\mathrm{True}\\right ), \\quad \\left ( 37, \\quad \\mathrm{True}\\right ), \\quad \\left ( 38, \\quad \\mathrm{True}\\right ), \\quad \\left ( 39, \\quad \\mathrm{True}\\right )\\right ]$$"
      ],
      "text/plain": [
       "[(2, True), (3, True), (4, True), (5, True), (6, True), (7, True), (8, True), \n",
       "(9, True), (10, True), (11, True), (12, True), (13, True), (14, True), (15, Tr\n",
       "ue), (16, True), (17, True), (18, True), (19, True), (20, True), (21, True), (\n",
       "22, True), (23, True), (24, True), (25, True), (26, True), (27, True), (28, Tr\n",
       "ue), (29, True), (30, True), (31, True), (32, True), (33, True), (34, True), (\n",
       "35, True), (36, True), (37, True), (38, True), (39, True)]"
      ]
     },
     "execution_count": 15,
     "metadata": {},
     "output_type": "execute_result"
    }
   ],
   "source": [
    "lem2_expr6 = 1/(((-1)**n) * (T(n)+T(n-1))-1)\n",
    "calc_lem2_expr6 = Lambda([n], lem2_expr6)\n",
    "[(n, calc_lem2_expr6(n).evalf() > calc_lem2_expr5(n).doit().evalf()) for n in range(2, 40)]"
   ]
  },
  {
   "cell_type": "markdown",
   "metadata": {
    "deletable": true,
    "editable": true
   },
   "source": [
    "###### Lemma 3: \n",
    "Sia $n>2$ un intero positivo, allora:\n",
    "1. Se $T_{-(n+1)} < 0$, allora $\\sum_{k=n}^{\\infty} \\frac{1}{T_k} < \\frac{1}{T_n - T_{n-1}}$\n",
    "2. Se $T_{-(n+1)} > 0$, allora $\\sum_{k=n}^{\\infty} \\frac{1}{T_k} > \\frac{1}{T_n - T_{n-1}}$\n",
    "\n",
    "Dimostrazione:\n",
    "\n",
    "Dal primo lemma si possono trarre le seguenti conclusioni"
   ]
  },
  {
   "cell_type": "code",
   "execution_count": 16,
   "metadata": {
    "collapsed": false,
    "deletable": true,
    "editable": true
   },
   "outputs": [
    {
     "data": {
      "image/png": "[encoded data removed]",
      "text/latex": [
       "$$\\frac{1}{T{\\left (n \\right )}} - \\frac{1}{T{\\left (n \\right )} - T{\\left (n - 1 \\right )}} + \\frac{1}{- T{\\left (n \\right )} + T{\\left (n + 1 \\right )}} = - \\frac{T{\\left (n - 1 \\right )}}{\\left(T{\\left (n \\right )} - T{\\left (n - 1 \\right )}\\right) T{\\left (n \\right )}} + \\frac{1}{- T{\\left (n \\right )} + T{\\left (n + 1 \\right )}}$$"
      ],
      "text/plain": [
       " 1            1                 1                    T(n - 1)                 \n",
       "──── - ─────────────── + ──────────────── = - ────────────────────── + ───────\n",
       "T(n)   T(n) - T(n - 1)   -T(n) + T(n + 1)     (T(n) - T(n - 1))⋅T(n)   -T(n) +\n",
       "\n",
       "1        \n",
       "─────────\n",
       " T(n + 1)"
      ]
     },
     "execution_count": 16,
     "metadata": {},
     "output_type": "execute_result"
    }
   ],
   "source": [
    "lem3_expr1 = (1/(T(n)))-(1/(T(n)-T(n-1)))+(1/((T(n+1)-T(n))))\n",
    "lem3_expr2 = ((-T(n-1))/(T(n)*(T(n)-T(n-1)))) +  (1/(T(n+1)-T(n)))\n",
    "lem3_eq12 = Eq(lem3_expr1, lem3_expr2)\n",
    "lem3_eq12"
   ]
  },
  {
   "cell_type": "code",
   "execution_count": 17,
   "metadata": {
    "collapsed": false,
    "deletable": true,
    "editable": true
   },
   "outputs": [
    {
     "data": {
      "image/png": "[encoded data removed]",
      "text/latex": [
       "$$- \\frac{T{\\left (n - 1 \\right )}}{\\left(T{\\left (n \\right )} - T{\\left (n - 1 \\right )}\\right) T{\\left (n \\right )}} + \\frac{1}{- T{\\left (n \\right )} + T{\\left (n + 1 \\right )}} = \\frac{T^{2}{\\left (n \\right )} - T{\\left (n - 1 \\right )} T{\\left (n + 1 \\right )}}{\\left(- T{\\left (n \\right )} + T{\\left (n + 1 \\right )}\\right) \\left(T{\\left (n \\right )} - T{\\left (n - 1 \\right )}\\right) T{\\left (n \\right )}}$$"
      ],
      "text/plain": [
       "                                                       2                      \n",
       "         T(n - 1)                 1                   T (n) - T(n - 1)⋅T(n + 1\n",
       "- ────────────────────── + ──────────────── = ────────────────────────────────\n",
       "  (T(n) - T(n - 1))⋅T(n)   -T(n) + T(n + 1)   (-T(n) + T(n + 1))⋅(T(n) - T(n -\n",
       "\n",
       "         \n",
       ")        \n",
       "─────────\n",
       " 1))⋅T(n)"
      ]
     },
     "execution_count": 17,
     "metadata": {},
     "output_type": "execute_result"
    }
   ],
   "source": [
    "lem3_expr3 = ((T(n)**2 - T(n+1)*T(n-1))/(T(n)*(T(n)-(T(n-1)))*(T(n+1)-T(n))))\n",
    "lem3_eq23 = Eq(lem3_expr2, lem3_expr3)\n",
    "lem3_eq23"
   ]
  },
  {
   "cell_type": "code",
   "execution_count": 18,
   "metadata": {
    "collapsed": false,
    "deletable": true,
    "editable": true
   },
   "outputs": [
    {
     "data": {
      "image/png": "[encoded data removed]",
      "text/latex": [
       "$$\\frac{T^{2}{\\left (n \\right )} - T{\\left (n - 1 \\right )} T{\\left (n + 1 \\right )}}{\\left(- T{\\left (n \\right )} + T{\\left (n + 1 \\right )}\\right) \\left(T{\\left (n \\right )} - T{\\left (n - 1 \\right )}\\right) T{\\left (n \\right )}} = \\frac{T{\\left (- n - 1 \\right )}}{\\left(- T{\\left (n \\right )} + T{\\left (n + 1 \\right )}\\right) \\left(T{\\left (n \\right )} - T{\\left (n - 1 \\right )}\\right) T{\\left (n \\right )}}$$"
      ],
      "text/plain": [
       "         2                                                                    \n",
       "        T (n) - T(n - 1)⋅T(n + 1)                           T(-n - 1)         \n",
       "───────────────────────────────────────── = ──────────────────────────────────\n",
       "(-T(n) + T(n + 1))⋅(T(n) - T(n - 1))⋅T(n)   (-T(n) + T(n + 1))⋅(T(n) - T(n - 1\n",
       "\n",
       "       \n",
       "       \n",
       "───────\n",
       "))⋅T(n)"
      ]
     },
     "execution_count": 18,
     "metadata": {},
     "output_type": "execute_result"
    }
   ],
   "source": [
    "lem3_expr4 = (T(-(n+1)))/(T(n)*(T(n)-T(n-1))*(T(n+1)-T(n)))\n",
    "lem3_eq34 = Eq(lem3_expr3, lem3_expr4)\n",
    "lem3_eq34"
   ]
  },
  {
   "cell_type": "markdown",
   "metadata": {
    "deletable": true,
    "editable": true
   },
   "source": [
    "A questo punto si può effettuare una verifica sulle uguaglianze scritte:"
   ]
  },
  {
   "cell_type": "code",
   "execution_count": 19,
   "metadata": {
    "collapsed": false,
    "deletable": true,
    "editable": true,
    "scrolled": true
   },
   "outputs": [
    {
     "data": {
      "image/png": "[encoded data removed]",
      "text/latex": [
       "$$\\left [ -2.0 \\cdot 10^{-125}, \\quad 0, \\quad 0, \\quad 0, \\quad 0, \\quad 0, \\quad 0, \\quad 0, \\quad 0, \\quad 0, \\quad 0, \\quad 0, \\quad 0, \\quad 7.0 \\cdot 10^{-127}, \\quad 0, \\quad 6.46234853557053 \\cdot 10^{-27}, \\quad 0, \\quad 0, \\quad 0, \\quad 0, \\quad 0, \\quad 0, \\quad 0, \\quad 0, \\quad 0, \\quad 0, \\quad 0\\right ]$$"
      ],
      "text/plain": [
       "[-0.e-125, 0, 0, 0, 0, 0, 0, 0, 0, 0, 0, 0, 0, 0.e-126, 0, 6.46234853557053e-2\n",
       "7, 0, 0, 0, 0, 0, 0, 0, 0, 0, 0, 0]"
      ]
     },
     "execution_count": 19,
     "metadata": {},
     "output_type": "execute_result"
    }
   ],
   "source": [
    "#NON TORNA\n",
    "calc_lem3_expr4 = Lambda([n], lem3_expr4)\n",
    "calc_lem3_expr1 = Lambda([n], lem3_expr1)\n",
    "[simplify((calc_lem3_expr4(n).evalf()-calc_lem3_expr1(n).evalf())) for n in range(3,30)]"
   ]
  },
  {
   "cell_type": "markdown",
   "metadata": {
    "deletable": true,
    "editable": true
   },
   "source": [
    "Se $T_{-(n+1)} < 0$ abbiamo che $$\\frac{1}{T_n - T_{n-1}} > \\frac{1}{T_n} + \\frac{1}{T_{n+1} - T_n}$$\n",
    "\n",
    "Si effettua una verifica numerica di questa diseguaglianza:"
   ]
  },
  {
   "cell_type": "code",
   "execution_count": 20,
   "metadata": {
    "collapsed": false,
    "deletable": true,
    "editable": true
   },
   "outputs": [
    {
     "data": {
      "image/png": "[encoded data removed]",
      "text/latex": [
       "$$\\left [ \\left ( 5, \\quad 0.0238095238095238\\right ), \\quad \\left ( 8, \\quad 0.000245700245700246\\right ), \\quad \\left ( 11, \\quad 2.53887654712813 \\cdot 10^{-6}\\right ), \\quad \\left ( 14, \\quad 2.47602054441118 \\cdot 10^{-8}\\right ), \\quad \\left ( 17, \\quad 2.2523845584336 \\cdot 10^{-10}\\right ), \\quad \\left ( 19, \\quad 3.16297977935066 \\cdot 10^{-12}\\right ), \\quad \\left ( 20, \\quad 1.8699381574964 \\cdot 10^{-12}\\right ), \\quad \\left ( 22, \\quad 6.35378675264671 \\cdot 10^{-14}\\right ), \\quad \\left ( 23, \\quad 1.34142075228151 \\cdot 10^{-14}\\right ), \\quad \\left ( 25, \\quad 9.37226709543833 \\cdot 10^{-16}\\right ), \\quad \\left ( 26, \\quad 6.89777045431803 \\cdot 10^{-17}\\right ), \\quad \\left ( 28, \\quad 1.20147388403286 \\cdot 10^{-17}\\right ), \\quad \\left ( 31, \\quad 1.4086554959533 \\cdot 10^{-19}\\right ), \\quad \\left ( 34, \\quad 1.54186466179884 \\cdot 10^{-21}\\right ), \\quad \\left ( 37, \\quad 1.57164316385075 \\cdot 10^{-23}\\right )\\right ]$$"
      ],
      "text/plain": [
       "[(5, 0.0238095238095238), (8, 0.000245700245700246), (11, 2.53887654712813e-6)\n",
       ", (14, 2.47602054441118e-8), (17, 2.2523845584336e-10), (19, 3.16297977935066e\n",
       "-12), (20, 1.8699381574964e-12), (22, 6.35378675264671e-14), (23, 1.3414207522\n",
       "8151e-14), (25, 9.37226709543833e-16), (26, 6.89777045431803e-17), (28, 1.2014\n",
       "7388403286e-17), (31, 1.4086554959533e-19), (34, 1.54186466179884e-21), (37, 1\n",
       ".57164316385075e-23)]"
      ]
     },
     "execution_count": 20,
     "metadata": {},
     "output_type": "execute_result"
    }
   ],
   "source": [
    "lem3_expr5 = 1/(T(n)-T(n-1))\n",
    "lem3_expr6 = 1/T(n) + 1/(T(n+1) - T(n))\n",
    "\n",
    "calc_lem3_expr6 = Lambda([n], simplify(lem3_expr6))\n",
    "calc_lem3_expr5 = Lambda([n], simplify(lem3_expr5))\n",
    "\n",
    "[(n, calc_lem3_expr5(n).evalf()-calc_lem3_expr6(n).evalf()) for n in range(3, 40) if lambda_tribonacci(-(n+1))<0 ]"
   ]
  },
  {
   "cell_type": "markdown",
   "metadata": {
    "collapsed": true,
    "deletable": true,
    "editable": true
   },
   "source": [
    "Ripetendo la diseguaglianza si ottiene:\n",
    "$$\\sum_{k=n}^{\\infty} \\frac{1}{T_k} < \\frac{1}{T_n - T_{n-1}}$$\n",
    "\n",
    "Effettuiamo una verifica numerica, per ovvi motivi non si può effettuare una sommatoria di numeri infiniti, quindi ci limiteremo a fissare un $k$ abbastanza grande."
   ]
  },
  {
   "cell_type": "code",
   "execution_count": null,
   "metadata": {
    "collapsed": true
   },
   "outputs": [],
   "source": []
  }
 ],
 "metadata": {
  "kernelspec": {
   "display_name": "Python 3",
   "language": "python",
   "name": "python3"
  },
  "language_info": {
   "codemirror_mode": {
    "name": "ipython",
    "version": 3
   },
   "file_extension": ".py",
   "mimetype": "text/x-python",
   "name": "python",
   "nbconvert_exporter": "python",
   "pygments_lexer": "ipython3",
   "version": "3.5.2+"
  }
 },
 "nbformat": 4,
 "nbformat_minor": 2
}
