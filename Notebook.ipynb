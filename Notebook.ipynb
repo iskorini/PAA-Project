{
 "cells": [
  {
   "cell_type": "markdown",
   "metadata": {},
   "source": [
    "# Progetto PAA\n",
    "#### Autore:  Federico Schipani - 6185896 - <a href=\"mailto:federico.schipani@stud.unifi.it\">federico.schipani@stud.unifi.it</a>"
   ]
  },
  {
   "cell_type": "markdown",
   "metadata": {},
   "source": [
    "##### Descrizione del progetto:\n",
    "In questo notebook verranno effettuate verifiche numeriche su somme infinite dei reciproci dei numeri di Tribonacci. L'articolo da cui è stato preso spunto per questo progetto è <a href = \"https://cs.uwaterloo.ca/journals/JIS/VOL19/Kuhapatanakul/kuha7.pdf\">Reciprocal Sums of the Tribonacci Numbers</a>."
   ]
  },
  {
   "cell_type": "markdown",
   "metadata": {},
   "source": [
    "### Preparazione:\n",
    "Per prima cosa è necessario importare tutti i pacchetti necessari allo svolgimento di questo progetto:"
   ]
  },
  {
   "cell_type": "code",
   "execution_count": 1,
   "metadata": {
    "collapsed": true
   },
   "outputs": [],
   "source": [
    "from sympy import *\n",
    "from sympy.utilities.lambdify import lambdify, implemented_function\n",
    "from functools import lru_cache\n",
    "import sys\n",
    "sys.setrecursionlimit(10000000)"
   ]
  },
  {
   "cell_type": "markdown",
   "metadata": {},
   "source": [
    "Per poter stampare i risultati in stile LaTeX è necessario eseguire questa istruzione:"
   ]
  },
  {
   "cell_type": "code",
   "execution_count": 2,
   "metadata": {
    "collapsed": true
   },
   "outputs": [],
   "source": [
    "init_printing()"
   ]
  },
  {
   "cell_type": "markdown",
   "metadata": {},
   "source": [
    "### Introduzione:"
   ]
  },
  {
   "cell_type": "markdown",
   "metadata": {},
   "source": [
    "I numeri di Fibonacci sono definiti dalla seguente relazione di ricorrenza:"
   ]
  },
  {
   "cell_type": "code",
   "execution_count": 3,
   "metadata": {
    "collapsed": false
   },
   "outputs": [
    {
     "data": {
      "image/png": "[encoded data removed]",
      "text/latex": [
       "$$F{\\left (n \\right )} = \\frac{2^{- n}}{5} \\sqrt{5} \\left(\\left(1 + \\sqrt{5}\\right)^{n} - \\left(- \\sqrt{5} + 1\\right)^{n}\\right)$$"
      ],
      "text/plain": [
       "        -n    ⎛        n            n⎞\n",
       "       2  ⋅√5⋅⎝(1 + √5)  - (-√5 + 1) ⎠\n",
       "F(n) = ───────────────────────────────\n",
       "                      5               "
      ]
     },
     "execution_count": 3,
     "metadata": {},
     "output_type": "execute_result"
    }
   ],
   "source": [
    "F = Function('F')\n",
    "n = symbols('n',integer=True)\n",
    "f = F(n+1)-F(n)-F(n-1)\n",
    "closedFib = simplify(rsolve(f, F(n), {F(0):0, F(1):1}))\n",
    "closedFibEq = Eq(F(n), closedFib)\n",
    "closedFibEq"
   ]
  },
  {
   "cell_type": "code",
   "execution_count": 4,
   "metadata": {
    "collapsed": false
   },
   "outputs": [
    {
     "data": {
      "image/png": "[encoded data removed]",
      "text/latex": [
       "$$\\left [ \\left ( 0, \\quad 0\\right ), \\quad \\left ( 1, \\quad 0\\right ), \\quad \\left ( 2, \\quad 0\\right ), \\quad \\left ( 3, \\quad 0\\right ), \\quad \\left ( 4, \\quad 0\\right ), \\quad \\left ( 5, \\quad 0\\right ), \\quad \\left ( 6, \\quad 0\\right ), \\quad \\left ( 7, \\quad 0\\right ), \\quad \\left ( 8, \\quad 0\\right ), \\quad \\left ( 9, \\quad 0\\right ), \\quad \\left ( 10, \\quad 0\\right )\\right ]$$"
      ],
      "text/plain": [
       "[(0, 0), (1, 0), (2, 0), (3, 0), (4, 0), (5, 0), (6, 0), (7, 0), (8, 0), (9, 0\n",
       "), (10, 0)]"
      ]
     },
     "execution_count": 4,
     "metadata": {},
     "output_type": "execute_result"
    }
   ],
   "source": [
    "closedFib1 = Lambda([n], closedFib)\n",
    "[(n, simplify(fibonacci(n)-closedFib1(n).doit())) for n in range(0,11)]"
   ]
  },
  {
   "cell_type": "markdown",
   "metadata": {},
   "source": [
    "Definiamo una funzione per il calcolo dei numeri di Tribonacci nel seguente modo:"
   ]
  },
  {
   "cell_type": "code",
   "execution_count": 5,
   "metadata": {
    "collapsed": false
   },
   "outputs": [],
   "source": [
    "initial_positive_conditions = {0:0, 1:1, 2:1}\n",
    "\n",
    "\n",
    "def makePositiveTribonacci(maxsize = None):\n",
    "    @lru_cache(maxsize)\n",
    "    def calcPositiveTribonacci(n):\n",
    "        return calcPositiveTribonacci(n-1)  + calcPositiveTribonacci(n-2) + calcPositiveTribonacci(n-3) if n not in initial_positive_conditions else initial_positive_conditions[n]\n",
    "    return calcPositiveTribonacci\n",
    "\n",
    "positiveTribonacci = makePositiveTribonacci(None)\n",
    "PT = implemented_function(Function('T'), positiveTribonacci)\n"
   ]
  },
  {
   "cell_type": "markdown",
   "metadata": {},
   "source": [
    "Per verificare che la funzione calcola effettivamente i numeri di Tribonacci si esegue una verifica numerica:"
   ]
  },
  {
   "cell_type": "code",
   "execution_count": 6,
   "metadata": {
    "collapsed": false
   },
   "outputs": [
    {
     "data": {
      "image/png": "[encoded data removed]",
      "text/latex": [
       "$$\\left [ \\left ( 0, \\quad 0\\right ), \\quad \\left ( 1, \\quad 1\\right ), \\quad \\left ( 2, \\quad 1\\right ), \\quad \\left ( 3, \\quad 2\\right ), \\quad \\left ( 4, \\quad 4\\right ), \\quad \\left ( 5, \\quad 7\\right ), \\quad \\left ( 6, \\quad 13\\right ), \\quad \\left ( 7, \\quad 24\\right ), \\quad \\left ( 8, \\quad 44\\right ), \\quad \\left ( 9, \\quad 81\\right ), \\quad \\left ( 10, \\quad 149\\right )\\right ]$$"
      ],
      "text/plain": [
       "[(0, 0), (1, 1), (2, 1), (3, 2), (4, 4), (5, 7), (6, 13), (7, 24), (8, 44), (9\n",
       ", 81), (10, 149)]"
      ]
     },
     "execution_count": 6,
     "metadata": {},
     "output_type": "execute_result"
    }
   ],
   "source": [
    "lambda_tribonacci = lambdify(n, PT(n))\n",
    "[(n, lambda_tribonacci(n)) for n in range (0,11)]"
   ]
  },
  {
   "cell_type": "markdown",
   "metadata": {},
   "source": [
    "Lo scopo di questo notebook è verificare queste tre uguaglianze:\n",
    "$$\\left\\lfloor \\left( \\sum_{k=n}^{\\infty}  \\frac{1}{F_k } \\right)^{-1}\\right\\rfloor = F_{n-2}\\ se\\ n\\ è\\ pari\\ e\\ n \\geq 2,\\ F_{n-2}-1\\ se\\ n\\ è\\ dispari\\ e\\ n \\geq 1 $$\n",
    "$$\\left\\lfloor\\left(\\sum_{k=n}^{\\infty}  \\frac{(-1)^k}{F_k}\\right)^{-1}\\right\\rfloor = (-1)^n F_{n+1}-1\\ con\\ (n>1) $$\n",
    "$$\\left\\lfloor\\left(\\sum_{k=n}^{\\infty}  \\frac{1}{\\sum_{i = 1}^{k} F_i}\\right)^{-1}\\right\\rfloor = F_n -1\\ con \\ (n \\geq 3) $$"
   ]
  },
  {
   "cell_type": "markdown",
   "metadata": {
    "collapsed": true
   },
   "source": [
    "### Svolgimento:"
   ]
  },
  {
   "cell_type": "markdown",
   "metadata": {
    "collapsed": true
   },
   "source": [
    "La sequenza di numeri di Tribonacci può essere estesa per valori negativi di n, usando la definizione e le condizioni iniziali.\n",
    "$$F_n = F_{n-1}+F_{n-2}+F_{n-3}$$\n",
    "Effettuando uno shift di tre posizioni, e cambiando il segno si ottiene:\n",
    "$$F_{n} = F_{n-3}-F_{n+2}-F_{n+1}$$\n"
   ]
  },
  {
   "cell_type": "code",
   "execution_count": 7,
   "metadata": {
    "collapsed": false
   },
   "outputs": [
    {
     "data": {
      "image/png": "[encoded data removed]",
      "text/latex": [
       "$$\\left [ \\left ( 0, \\quad 0\\right ), \\quad \\left ( -1, \\quad 0\\right ), \\quad \\left ( -2, \\quad 1\\right ), \\quad \\left ( -3, \\quad -1\\right ), \\quad \\left ( -4, \\quad 0\\right ), \\quad \\left ( -5, \\quad 2\\right ), \\quad \\left ( -6, \\quad -3\\right ), \\quad \\left ( -7, \\quad 1\\right ), \\quad \\left ( -8, \\quad 4\\right ), \\quad \\left ( -9, \\quad -8\\right ), \\quad \\left ( -10, \\quad 5\\right )\\right ]$$"
      ],
      "text/plain": [
       "[(0, 0), (-1, 0), (-2, 1), (-3, -1), (-4, 0), (-5, 2), (-6, -3), (-7, 1), (-8,\n",
       " 4), (-9, -8), (-10, 5)]"
      ]
     },
     "execution_count": 7,
     "metadata": {},
     "output_type": "execute_result"
    }
   ],
   "source": [
    "initial_negative_conditions = {0:0, -1:0, -2:1}\n",
    "def makeNegativeTribonacci(maxsize=None):\n",
    "    @lru_cache(maxsize=maxsize)\n",
    "    def calcNegativeTribonacci(n):\n",
    "        return calcNegativeTribonacci(n+3)  - calcNegativeTribonacci(n+2) - calcNegativeTribonacci(n+1) if n not in initial_negative_conditions else initial_negative_conditions[n]\n",
    "    return calcNegativeTribonacci\n",
    "negativeTribonacci = makeNegativeTribonacci(maxsize = None)\n",
    "NT = implemented_function(Function('NT'), negativeTribonacci)\n",
    "lambda_negative_tribonacci = lambdify(n, NT(n))\n",
    "[(n*-1, lambda_negative_tribonacci(n*-1)) for n in range (0,11)]"
   ]
  },
  {
   "cell_type": "markdown",
   "metadata": {},
   "source": [
    "Per comodità definiamo una funzione di Tribonacci unica, sia per i numeri negativi che positivi:"
   ]
  },
  {
   "cell_type": "code",
   "execution_count": 8,
   "metadata": {
    "collapsed": false
   },
   "outputs": [
    {
     "data": {
      "image/png": "[encoded data removed]",
      "text/latex": [
       "$$\\left [ \\left ( -40, \\quad 21492\\right ), \\quad \\left ( -39, \\quad 51489\\right ), \\quad \\left ( -38, \\quad -54899\\right ), \\quad \\left ( -37, \\quad 18082\\right ), \\quad \\left ( -36, \\quad 14672\\right ), \\quad \\left ( -35, \\quad -22145\\right ), \\quad \\left ( -34, \\quad 10609\\right ), \\quad \\left ( -33, \\quad 3136\\right ), \\quad \\left ( -32, \\quad -8400\\right ), \\quad \\left ( -31, \\quad 5345\\right ), \\quad \\left ( -30, \\quad 81\\right ), \\quad \\left ( -29, \\quad -2974\\right ), \\quad \\left ( -28, \\quad 2452\\right ), \\quad \\left ( -27, \\quad -441\\right ), \\quad \\left ( -26, \\quad -963\\right ), \\quad \\left ( -25, \\quad 1048\\right ), \\quad \\left ( -24, \\quad -356\\right ), \\quad \\left ( -23, \\quad -271\\right ), \\quad \\left ( -22, \\quad 421\\right ), \\quad \\left ( -21, \\quad -206\\right ), \\quad \\left ( -20, \\quad -56\\right ), \\quad \\left ( -19, \\quad 159\\right ), \\quad \\left ( -18, \\quad -103\\right ), \\quad \\left ( -17, \\quad 0\\right ), \\quad \\left ( -16, \\quad 56\\right ), \\quad \\left ( -15, \\quad -47\\right ), \\quad \\left ( -14, \\quad 9\\right ), \\quad \\left ( -13, \\quad 18\\right ), \\quad \\left ( -12, \\quad -20\\right ), \\quad \\left ( -11, \\quad 7\\right ), \\quad \\left ( -10, \\quad 5\\right ), \\quad \\left ( -9, \\quad -8\\right ), \\quad \\left ( -8, \\quad 4\\right ), \\quad \\left ( -7, \\quad 1\\right ), \\quad \\left ( -6, \\quad -3\\right ), \\quad \\left ( -5, \\quad 2\\right ), \\quad \\left ( -4, \\quad 0\\right ), \\quad \\left ( -3, \\quad -1\\right ), \\quad \\left ( -2, \\quad 1\\right ), \\quad \\left ( -1, \\quad 0\\right ), \\quad \\left ( 0, \\quad 0\\right ), \\quad \\left ( 1, \\quad 1\\right ), \\quad \\left ( 2, \\quad 1\\right ), \\quad \\left ( 3, \\quad 2\\right ), \\quad \\left ( 4, \\quad 4\\right ), \\quad \\left ( 5, \\quad 7\\right ), \\quad \\left ( 6, \\quad 13\\right ), \\quad \\left ( 7, \\quad 24\\right ), \\quad \\left ( 8, \\quad 44\\right ), \\quad \\left ( 9, \\quad 81\\right ), \\quad \\left ( 10, \\quad 149\\right ), \\quad \\left ( 11, \\quad 274\\right ), \\quad \\left ( 12, \\quad 504\\right ), \\quad \\left ( 13, \\quad 927\\right ), \\quad \\left ( 14, \\quad 1705\\right ), \\quad \\left ( 15, \\quad 3136\\right ), \\quad \\left ( 16, \\quad 5768\\right ), \\quad \\left ( 17, \\quad 10609\\right ), \\quad \\left ( 18, \\quad 19513\\right ), \\quad \\left ( 19, \\quad 35890\\right ), \\quad \\left ( 20, \\quad 66012\\right ), \\quad \\left ( 21, \\quad 121415\\right ), \\quad \\left ( 22, \\quad 223317\\right ), \\quad \\left ( 23, \\quad 410744\\right ), \\quad \\left ( 24, \\quad 755476\\right ), \\quad \\left ( 25, \\quad 1389537\\right ), \\quad \\left ( 26, \\quad 2555757\\right ), \\quad \\left ( 27, \\quad 4700770\\right ), \\quad \\left ( 28, \\quad 8646064\\right ), \\quad \\left ( 29, \\quad 15902591\\right ), \\quad \\left ( 30, \\quad 29249425\\right ), \\quad \\left ( 31, \\quad 53798080\\right ), \\quad \\left ( 32, \\quad 98950096\\right ), \\quad \\left ( 33, \\quad 181997601\\right ), \\quad \\left ( 34, \\quad 334745777\\right ), \\quad \\left ( 35, \\quad 615693474\\right ), \\quad \\left ( 36, \\quad 1132436852\\right ), \\quad \\left ( 37, \\quad 2082876103\\right ), \\quad \\left ( 38, \\quad 3831006429\\right ), \\quad \\left ( 39, \\quad 7046319384\\right )\\right ]$$"
      ],
      "text/plain": [
       "[(-40, 21492), (-39, 51489), (-38, -54899), (-37, 18082), (-36, 14672), (-35, \n",
       "-22145), (-34, 10609), (-33, 3136), (-32, -8400), (-31, 5345), (-30, 81), (-29\n",
       ", -2974), (-28, 2452), (-27, -441), (-26, -963), (-25, 1048), (-24, -356), (-2\n",
       "3, -271), (-22, 421), (-21, -206), (-20, -56), (-19, 159), (-18, -103), (-17, \n",
       "0), (-16, 56), (-15, -47), (-14, 9), (-13, 18), (-12, -20), (-11, 7), (-10, 5)\n",
       ", (-9, -8), (-8, 4), (-7, 1), (-6, -3), (-5, 2), (-4, 0), (-3, -1), (-2, 1), (\n",
       "-1, 0), (0, 0), (1, 1), (2, 1), (3, 2), (4, 4), (5, 7), (6, 13), (7, 24), (8, \n",
       "44), (9, 81), (10, 149), (11, 274), (12, 504), (13, 927), (14, 1705), (15, 313\n",
       "6), (16, 5768), (17, 10609), (18, 19513), (19, 35890), (20, 66012), (21, 12141\n",
       "5), (22, 223317), (23, 410744), (24, 755476), (25, 1389537), (26, 2555757), (2\n",
       "7, 4700770), (28, 8646064), (29, 15902591), (30, 29249425), (31, 53798080), (3\n",
       "2, 98950096), (33, 181997601), (34, 334745777), (35, 615693474), (36, 11324368\n",
       "52), (37, 2082876103), (38, 3831006429), (39, 7046319384)]"
      ]
     },
     "execution_count": 8,
     "metadata": {},
     "output_type": "execute_result"
    }
   ],
   "source": [
    "def tribonacci(n):\n",
    "    if n>=0:\n",
    "        return positiveTribonacci(n)\n",
    "    elif n<0:\n",
    "        return negativeTribonacci(n)\n",
    "T = implemented_function(Function('T'), tribonacci)\n",
    "lambda_tribonacci = lambdify(n, T(n))\n",
    "[(n, lambda_tribonacci(n)) for n in range(-40, 40)]\n",
    "#SWAG EFFICIENZA"
   ]
  },
  {
   "cell_type": "markdown",
   "metadata": {},
   "source": [
    "Prima di dimostrare la veridicità delle tre uguaglianze descritte nell'introduzione vengono forniti 3 lemmi.\n",
    "###### Lemma 1: \n",
    "Sia $n$ un intero positivo, allora:\n",
    "1. $T^{2}_{n} - T_{n-1} T_{n+1} = T_{-(n+1)}$\n",
    "2. $\\sum_{i=1}^{n} T_i = (T_{n+2}+T_{n}-1)/2$ \n",
    "3. $T_{n} > T_{-(n+3)}$ \n",
    "\n",
    "\n",
    "Dimostrazione:"
   ]
  },
  {
   "cell_type": "code",
   "execution_count": null,
   "metadata": {
    "collapsed": true
   },
   "outputs": [],
   "source": []
  },
  {
   "cell_type": "markdown",
   "metadata": {},
   "source": [
    "###### Lemma 2: \n",
    "Sia $n > 1$ un intero positivo, allora:\n",
    "1. $\\frac{1}{T_n - T_{n-1} + 1} < \\sum_{k=n}^{\\infty} \\frac{1}{T_k} < \\frac{1}{T_n - T_{n-1} - 1} $\n",
    "2. $\\frac{1}{(-1)^n(T_n+T_{n-1})+1} < \\sum_{k=n}^{\\infty} \\frac{(-1)^k}{T_k} < \\frac{1}{(-1)^n(T_n+T_{n-1})-1}$\n",
    "\n",
    "Dimostrazione:"
   ]
  },
  {
   "cell_type": "code",
   "execution_count": null,
   "metadata": {
    "collapsed": true
   },
   "outputs": [],
   "source": []
  },
  {
   "cell_type": "markdown",
   "metadata": {},
   "source": [
    "###### Lemma 3: \n",
    "Sia $n>2$ un intero positivo, allora:\n",
    "1. Se $T_{-(n+1)} < 0$, allora $\\sum_{k=n}^{\\infty} \\frac{1}{T_k} < \\frac{1}{T_n - T_{n-1}}$\n",
    "2. Se $T_{-(n+1)} > 0$, allora $\\sum_{k=n}^{\\infty} \\frac{1}{T_k} > \\frac{1}{T_n - T_{n-1}}$\n",
    "\n",
    "Dimostrazione:\n",
    "\n",
    "Dal primo lemma si possono trarre le seguenti conclusioni"
   ]
  },
  {
   "cell_type": "code",
   "execution_count": 9,
   "metadata": {
    "collapsed": false
   },
   "outputs": [
    {
     "data": {
      "image/png": "[encoded data removed]",
      "text/latex": [
       "$$\\frac{1}{T{\\left (n \\right )}} - \\frac{1}{T{\\left (n \\right )} - T{\\left (n - 1 \\right )}} + \\frac{1}{- T{\\left (n \\right )} + T{\\left (n + 1 \\right )}} = - \\frac{T{\\left (n - 1 \\right )}}{\\left(T{\\left (n \\right )} - T{\\left (n - 1 \\right )}\\right) T{\\left (n \\right )}} + \\frac{1}{- T{\\left (n \\right )} + T{\\left (n + 1 \\right )}}$$"
      ],
      "text/plain": [
       " 1            1                 1                    T(n - 1)                 \n",
       "──── - ─────────────── + ──────────────── = - ────────────────────── + ───────\n",
       "T(n)   T(n) - T(n - 1)   -T(n) + T(n + 1)     (T(n) - T(n - 1))⋅T(n)   -T(n) +\n",
       "\n",
       "1        \n",
       "─────────\n",
       " T(n + 1)"
      ]
     },
     "execution_count": 9,
     "metadata": {},
     "output_type": "execute_result"
    }
   ],
   "source": [
    "lem3_expr1 = (1/(T(n)))-(1/(T(n)-T(n-1)))+(1/((T(n+1)-T(n))))\n",
    "lem3_expr2 = ((-T(n-1))/(T(n)*(T(n)-T(n-1)))) +  (1/(T(n+1)-T(n)))\n",
    "lem3_eq12 = Eq(lem3_expr1, lem3_expr2)\n",
    "lem3_eq12"
   ]
  },
  {
   "cell_type": "code",
   "execution_count": 10,
   "metadata": {
    "collapsed": false
   },
   "outputs": [
    {
     "data": {
      "image/png": "[encoded data removed]",
      "text/latex": [
       "$$- \\frac{T{\\left (n - 1 \\right )}}{\\left(T{\\left (n \\right )} - T{\\left (n - 1 \\right )}\\right) T{\\left (n \\right )}} + \\frac{1}{- T{\\left (n \\right )} + T{\\left (n + 1 \\right )}} = \\frac{T^{2}{\\left (n \\right )} - T{\\left (n - 1 \\right )} T{\\left (n + 1 \\right )}}{\\left(- T{\\left (n \\right )} + T{\\left (n + 1 \\right )}\\right) \\left(T{\\left (n \\right )} - T{\\left (n - 1 \\right )}\\right) T{\\left (n \\right )}}$$"
      ],
      "text/plain": [
       "                                                       2                      \n",
       "         T(n - 1)                 1                   T (n) - T(n - 1)⋅T(n + 1\n",
       "- ────────────────────── + ──────────────── = ────────────────────────────────\n",
       "  (T(n) - T(n - 1))⋅T(n)   -T(n) + T(n + 1)   (-T(n) + T(n + 1))⋅(T(n) - T(n -\n",
       "\n",
       "         \n",
       ")        \n",
       "─────────\n",
       " 1))⋅T(n)"
      ]
     },
     "execution_count": 10,
     "metadata": {},
     "output_type": "execute_result"
    }
   ],
   "source": [
    "lem3_expr3 = ((T(n)**2 - T(n+1)*T(n-1))/(T(n)*(T(n)-(T(n-1)))*(T(n+1)-T(n))))\n",
    "lem3_eq23 = Eq(lem3_expr2, lem3_expr3)\n",
    "lem3_eq23"
   ]
  },
  {
   "cell_type": "code",
   "execution_count": null,
   "metadata": {
    "collapsed": false
   },
   "outputs": [
    {
     "data": {
      "image/png": "[encoded data removed]",
      "text/latex": [
       "$$\\frac{T^{2}{\\left (n \\right )} - T{\\left (n - 1 \\right )} T{\\left (n + 1 \\right )}}{\\left(- T{\\left (n \\right )} + T{\\left (n + 1 \\right )}\\right) \\left(T{\\left (n \\right )} - T{\\left (n - 1 \\right )}\\right) T{\\left (n \\right )}} = \\frac{T{\\left (- n - 1 \\right )}}{\\left(- T{\\left (n \\right )} + T{\\left (n + 1 \\right )}\\right) \\left(T{\\left (n \\right )} - T{\\left (n - 1 \\right )}\\right) T{\\left (n \\right )}}$$"
      ],
      "text/plain": [
       "         2                                                                    \n",
       "        T (n) - T(n - 1)⋅T(n + 1)                           T(-n - 1)         \n",
       "───────────────────────────────────────── = ──────────────────────────────────\n",
       "(-T(n) + T(n + 1))⋅(T(n) - T(n - 1))⋅T(n)   (-T(n) + T(n + 1))⋅(T(n) - T(n - 1\n",
       "\n",
       "       \n",
       "       \n",
       "───────\n",
       "))⋅T(n)"
      ]
     },
     "execution_count": 11,
     "metadata": {},
     "output_type": "execute_result"
    }
   ],
   "source": [
    "lem3_expr4 = (T(-(n+1)))/(T(n)*(T(n)-T(n-1))*(T(n+1)-T(n)))\n",
    "lem3_eq34 = Eq(lem3_expr3, lem3_expr4)\n",
    "lem3_eq34"
   ]
  },
  {
   "cell_type": "markdown",
   "metadata": {},
   "source": [
    "A questo punto si può effettuare una verifica numerica sulle uguaglianze scritte :"
   ]
  },
  {
   "cell_type": "code",
   "execution_count": null,
   "metadata": {
    "collapsed": false
   },
   "outputs": [],
   "source": [
    "calc_lem3_expr4 = Lambda([n], lem3_expr4)\n",
    "calc_lem3_expr1 = Lambda([n], lem3_expr1)\n",
    "[simplify((calc_lem3_expr4(n)-calc_lem3_expr1(n))) for n in range(0,15)]"
   ]
  },
  {
   "cell_type": "markdown",
   "metadata": {},
   "source": [
    "Se $T_{-(n+1)} < 0$ abbiamo che $$\\frac{1}{T_n - T_{n-1}} > \\frac{1}{T_n} + \\frac{1}{T_{n+1} - T_n}$$\n",
    "\n",
    "Si effettua una verifica numerica di questa diseguaglianza:"
   ]
  },
  {
   "cell_type": "code",
   "execution_count": null,
   "metadata": {
    "collapsed": false
   },
   "outputs": [],
   "source": [
    "lem3_expr5 = 1/(T(n)-T(n-1))\n",
    "lem3_expr6 = 1/T(n) + 1/(T(n+1) - T(n))\n",
    "\n",
    "calc_lem3_expr6 = Lambda([n], simplify(lem3_expr6))\n",
    "calc_lem3_expr5 = Lambda([n], simplify(lem3_expr5))\n",
    "\n",
    "for n in range(0,50):\n",
    "    if (lambda_tribonacci(-(n+1))) < 0:\n",
    "        print(str(n)+\" \"+str(calc_lem3_expr5(n).evalf(maxn=10000, strict = True) > calc_lem3_expr6(n).evalf(maxn=10000, strict = True)))"
   ]
  },
  {
   "cell_type": "code",
   "execution_count": null,
   "metadata": {
    "collapsed": true
   },
   "outputs": [],
   "source": []
  }
 ],
 "metadata": {
  "kernelspec": {
   "display_name": "Python 3",
   "language": "python",
   "name": "python3"
  },
  "language_info": {
   "codemirror_mode": {
    "name": "ipython",
    "version": 3
   },
   "file_extension": ".py",
   "mimetype": "text/x-python",
   "name": "python",
   "nbconvert_exporter": "python",
   "pygments_lexer": "ipython3",
   "version": "3.6.0"
  }
 },
 "nbformat": 4,
 "nbformat_minor": 2
}
